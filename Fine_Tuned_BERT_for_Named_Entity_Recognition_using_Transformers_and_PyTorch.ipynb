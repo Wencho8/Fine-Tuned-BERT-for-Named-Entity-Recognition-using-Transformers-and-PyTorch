{
  "metadata": {
    "kernelspec": {
      "name": "python3",
      "display_name": "Python 3",
      "language": "python"
    },
    "language_info": {
      "name": "python",
      "version": "3.10.12",
      "mimetype": "text/x-python",
      "codemirror_mode": {
        "name": "ipython",
        "version": 3
      },
      "pygments_lexer": "ipython3",
      "nbconvert_exporter": "python",
      "file_extension": ".py"
    },
    "colab": {
      "provenance": []
    },
    "widgets": {
      "application/vnd.jupyter.widget-state+json": {
        "002a8ce93b214e0cbbdac2e7273a1df2": {
          "model_module": "@jupyter-widgets/controls",
          "model_module_version": "1.5.0",
          "model_name": "HBoxModel",
          "state": {
            "_dom_classes": [],
            "_model_module": "@jupyter-widgets/controls",
            "_model_module_version": "1.5.0",
            "_model_name": "HBoxModel",
            "_view_count": null,
            "_view_module": "@jupyter-widgets/controls",
            "_view_module_version": "1.5.0",
            "_view_name": "HBoxView",
            "box_style": "",
            "children": [
              "IPY_MODEL_4110379ee0a3464e8c499b4d459038e7",
              "IPY_MODEL_b94d571bc09c41fabd603348baa0172b",
              "IPY_MODEL_148c85bd2f1d455e91e75c982e8cd673"
            ],
            "layout": "IPY_MODEL_557043d17c434342afe1965c9603c137"
          }
        },
        "05590b0b90c64fb184e7bf98b10624cc": {
          "model_module": "@jupyter-widgets/controls",
          "model_module_version": "1.5.0",
          "model_name": "ProgressStyleModel",
          "state": {
            "_model_module": "@jupyter-widgets/controls",
            "_model_module_version": "1.5.0",
            "_model_name": "ProgressStyleModel",
            "_view_count": null,
            "_view_module": "@jupyter-widgets/base",
            "_view_module_version": "1.2.0",
            "_view_name": "StyleView",
            "bar_color": null,
            "description_width": ""
          }
        },
        "06cf18bd14c3416a881bf12574b2d3b1": {
          "model_module": "@jupyter-widgets/controls",
          "model_module_version": "1.5.0",
          "model_name": "ProgressStyleModel",
          "state": {
            "_model_module": "@jupyter-widgets/controls",
            "_model_module_version": "1.5.0",
            "_model_name": "ProgressStyleModel",
            "_view_count": null,
            "_view_module": "@jupyter-widgets/base",
            "_view_module_version": "1.2.0",
            "_view_name": "StyleView",
            "bar_color": null,
            "description_width": ""
          }
        },
        "0b6bb9ffc30b4a4f8d115cdf97d03bb5": {
          "model_module": "@jupyter-widgets/base",
          "model_module_version": "1.2.0",
          "model_name": "LayoutModel",
          "state": {
            "_model_module": "@jupyter-widgets/base",
            "_model_module_version": "1.2.0",
            "_model_name": "LayoutModel",
            "_view_count": null,
            "_view_module": "@jupyter-widgets/base",
            "_view_module_version": "1.2.0",
            "_view_name": "LayoutView",
            "align_content": null,
            "align_items": null,
            "align_self": null,
            "border": null,
            "bottom": null,
            "display": null,
            "flex": null,
            "flex_flow": null,
            "grid_area": null,
            "grid_auto_columns": null,
            "grid_auto_flow": null,
            "grid_auto_rows": null,
            "grid_column": null,
            "grid_gap": null,
            "grid_row": null,
            "grid_template_areas": null,
            "grid_template_columns": null,
            "grid_template_rows": null,
            "height": null,
            "justify_content": null,
            "justify_items": null,
            "left": null,
            "margin": null,
            "max_height": null,
            "max_width": null,
            "min_height": null,
            "min_width": null,
            "object_fit": null,
            "object_position": null,
            "order": null,
            "overflow": null,
            "overflow_x": null,
            "overflow_y": null,
            "padding": null,
            "right": null,
            "top": null,
            "visibility": null,
            "width": null
          }
        },
        "0d3b5ed27f1c47e9b6ddd77916b483c9": {
          "model_module": "@jupyter-widgets/controls",
          "model_module_version": "1.5.0",
          "model_name": "HTMLModel",
          "state": {
            "_dom_classes": [],
            "_model_module": "@jupyter-widgets/controls",
            "_model_module_version": "1.5.0",
            "_model_name": "HTMLModel",
            "_view_count": null,
            "_view_module": "@jupyter-widgets/controls",
            "_view_module_version": "1.5.0",
            "_view_name": "HTMLView",
            "description": "",
            "description_tooltip": null,
            "layout": "IPY_MODEL_2843a5228b2a4fff9efea992c276460c",
            "placeholder": "​",
            "style": "IPY_MODEL_af4e837597cc4d9789191cc72e20f2f1",
            "value": "Map: 100%"
          }
        },
        "0ffa0edbbb234df2803fc133ec9eb531": {
          "model_module": "@jupyter-widgets/base",
          "model_module_version": "1.2.0",
          "model_name": "LayoutModel",
          "state": {
            "_model_module": "@jupyter-widgets/base",
            "_model_module_version": "1.2.0",
            "_model_name": "LayoutModel",
            "_view_count": null,
            "_view_module": "@jupyter-widgets/base",
            "_view_module_version": "1.2.0",
            "_view_name": "LayoutView",
            "align_content": null,
            "align_items": null,
            "align_self": null,
            "border": null,
            "bottom": null,
            "display": null,
            "flex": null,
            "flex_flow": null,
            "grid_area": null,
            "grid_auto_columns": null,
            "grid_auto_flow": null,
            "grid_auto_rows": null,
            "grid_column": null,
            "grid_gap": null,
            "grid_row": null,
            "grid_template_areas": null,
            "grid_template_columns": null,
            "grid_template_rows": null,
            "height": null,
            "justify_content": null,
            "justify_items": null,
            "left": null,
            "margin": null,
            "max_height": null,
            "max_width": null,
            "min_height": null,
            "min_width": null,
            "object_fit": null,
            "object_position": null,
            "order": null,
            "overflow": null,
            "overflow_x": null,
            "overflow_y": null,
            "padding": null,
            "right": null,
            "top": null,
            "visibility": null,
            "width": "20px"
          }
        },
        "10760c39a5d8474f97ea4014c6ff7174": {
          "model_module": "@jupyter-widgets/base",
          "model_module_version": "1.2.0",
          "model_name": "LayoutModel",
          "state": {
            "_model_module": "@jupyter-widgets/base",
            "_model_module_version": "1.2.0",
            "_model_name": "LayoutModel",
            "_view_count": null,
            "_view_module": "@jupyter-widgets/base",
            "_view_module_version": "1.2.0",
            "_view_name": "LayoutView",
            "align_content": null,
            "align_items": null,
            "align_self": null,
            "border": null,
            "bottom": null,
            "display": null,
            "flex": null,
            "flex_flow": null,
            "grid_area": null,
            "grid_auto_columns": null,
            "grid_auto_flow": null,
            "grid_auto_rows": null,
            "grid_column": null,
            "grid_gap": null,
            "grid_row": null,
            "grid_template_areas": null,
            "grid_template_columns": null,
            "grid_template_rows": null,
            "height": null,
            "justify_content": null,
            "justify_items": null,
            "left": null,
            "margin": null,
            "max_height": null,
            "max_width": null,
            "min_height": null,
            "min_width": null,
            "object_fit": null,
            "object_position": null,
            "order": null,
            "overflow": null,
            "overflow_x": null,
            "overflow_y": null,
            "padding": null,
            "right": null,
            "top": null,
            "visibility": null,
            "width": null
          }
        },
        "145be7089c674010a08a83f69a1f9a7b": {
          "model_module": "@jupyter-widgets/controls",
          "model_module_version": "1.5.0",
          "model_name": "DescriptionStyleModel",
          "state": {
            "_model_module": "@jupyter-widgets/controls",
            "_model_module_version": "1.5.0",
            "_model_name": "DescriptionStyleModel",
            "_view_count": null,
            "_view_module": "@jupyter-widgets/base",
            "_view_module_version": "1.2.0",
            "_view_name": "StyleView",
            "description_width": ""
          }
        },
        "146f0e7960f141f6a1cfc37f517b221b": {
          "model_module": "@jupyter-widgets/controls",
          "model_module_version": "1.5.0",
          "model_name": "HBoxModel",
          "state": {
            "_dom_classes": [],
            "_model_module": "@jupyter-widgets/controls",
            "_model_module_version": "1.5.0",
            "_model_name": "HBoxModel",
            "_view_count": null,
            "_view_module": "@jupyter-widgets/controls",
            "_view_module_version": "1.5.0",
            "_view_name": "HBoxView",
            "box_style": "",
            "children": [
              "IPY_MODEL_f6284398344646e6a0c4255275dc8388",
              "IPY_MODEL_567316fa9dd94326bc324cf051e6f25e",
              "IPY_MODEL_db7d44835fa94ce09a7da90beb32573c"
            ],
            "layout": "IPY_MODEL_5bd5ad249cb2434cb7ad25f02ae991cf"
          }
        },
        "148c85bd2f1d455e91e75c982e8cd673": {
          "model_module": "@jupyter-widgets/controls",
          "model_module_version": "1.5.0",
          "model_name": "HTMLModel",
          "state": {
            "_dom_classes": [],
            "_model_module": "@jupyter-widgets/controls",
            "_model_module_version": "1.5.0",
            "_model_name": "HTMLModel",
            "_view_count": null,
            "_view_module": "@jupyter-widgets/controls",
            "_view_module_version": "1.5.0",
            "_view_name": "HTMLView",
            "description": "",
            "description_tooltip": null,
            "layout": "IPY_MODEL_0b6bb9ffc30b4a4f8d115cdf97d03bb5",
            "placeholder": "​",
            "style": "IPY_MODEL_ce3fc8b0774c405784bf606ec18ea3af",
            "value": " 3250/3250 [00:00&lt;00:00, 6747.87 examples/s]"
          }
        },
        "15ecfdb178e84b32a8a9a3c5b5b6ed0d": {
          "model_module": "@jupyter-widgets/controls",
          "model_module_version": "1.5.0",
          "model_name": "DescriptionStyleModel",
          "state": {
            "_model_module": "@jupyter-widgets/controls",
            "_model_module_version": "1.5.0",
            "_model_name": "DescriptionStyleModel",
            "_view_count": null,
            "_view_module": "@jupyter-widgets/base",
            "_view_module_version": "1.2.0",
            "_view_name": "StyleView",
            "description_width": ""
          }
        },
        "16954bb8e7a6466a8c1c72b127186f70": {
          "model_module": "@jupyter-widgets/base",
          "model_module_version": "1.2.0",
          "model_name": "LayoutModel",
          "state": {
            "_model_module": "@jupyter-widgets/base",
            "_model_module_version": "1.2.0",
            "_model_name": "LayoutModel",
            "_view_count": null,
            "_view_module": "@jupyter-widgets/base",
            "_view_module_version": "1.2.0",
            "_view_name": "LayoutView",
            "align_content": null,
            "align_items": null,
            "align_self": null,
            "border": null,
            "bottom": null,
            "display": null,
            "flex": null,
            "flex_flow": null,
            "grid_area": null,
            "grid_auto_columns": null,
            "grid_auto_flow": null,
            "grid_auto_rows": null,
            "grid_column": null,
            "grid_gap": null,
            "grid_row": null,
            "grid_template_areas": null,
            "grid_template_columns": null,
            "grid_template_rows": null,
            "height": null,
            "justify_content": null,
            "justify_items": null,
            "left": null,
            "margin": null,
            "max_height": null,
            "max_width": null,
            "min_height": null,
            "min_width": null,
            "object_fit": null,
            "object_position": null,
            "order": null,
            "overflow": null,
            "overflow_x": null,
            "overflow_y": null,
            "padding": null,
            "right": null,
            "top": null,
            "visibility": null,
            "width": null
          }
        },
        "198ccf57193f45bea264151c73d661cc": {
          "model_module": "@jupyter-widgets/base",
          "model_module_version": "1.2.0",
          "model_name": "LayoutModel",
          "state": {
            "_model_module": "@jupyter-widgets/base",
            "_model_module_version": "1.2.0",
            "_model_name": "LayoutModel",
            "_view_count": null,
            "_view_module": "@jupyter-widgets/base",
            "_view_module_version": "1.2.0",
            "_view_name": "LayoutView",
            "align_content": null,
            "align_items": null,
            "align_self": null,
            "border": null,
            "bottom": null,
            "display": null,
            "flex": null,
            "flex_flow": null,
            "grid_area": null,
            "grid_auto_columns": null,
            "grid_auto_flow": null,
            "grid_auto_rows": null,
            "grid_column": null,
            "grid_gap": null,
            "grid_row": null,
            "grid_template_areas": null,
            "grid_template_columns": null,
            "grid_template_rows": null,
            "height": null,
            "justify_content": null,
            "justify_items": null,
            "left": null,
            "margin": null,
            "max_height": null,
            "max_width": null,
            "min_height": null,
            "min_width": null,
            "object_fit": null,
            "object_position": null,
            "order": null,
            "overflow": null,
            "overflow_x": null,
            "overflow_y": null,
            "padding": null,
            "right": null,
            "top": null,
            "visibility": null,
            "width": null
          }
        },
        "1ab9d00c08154364b96342f5d67ef03b": {
          "model_module": "@jupyter-widgets/controls",
          "model_module_version": "1.5.0",
          "model_name": "DescriptionStyleModel",
          "state": {
            "_model_module": "@jupyter-widgets/controls",
            "_model_module_version": "1.5.0",
            "_model_name": "DescriptionStyleModel",
            "_view_count": null,
            "_view_module": "@jupyter-widgets/base",
            "_view_module_version": "1.2.0",
            "_view_name": "StyleView",
            "description_width": ""
          }
        },
        "1b7ba9eebc8e400b9d28ef0edbec2494": {
          "model_module": "@jupyter-widgets/controls",
          "model_module_version": "1.5.0",
          "model_name": "HTMLModel",
          "state": {
            "_dom_classes": [],
            "_model_module": "@jupyter-widgets/controls",
            "_model_module_version": "1.5.0",
            "_model_name": "HTMLModel",
            "_view_count": null,
            "_view_module": "@jupyter-widgets/controls",
            "_view_module_version": "1.5.0",
            "_view_name": "HTMLView",
            "description": "",
            "description_tooltip": null,
            "layout": "IPY_MODEL_fbf24d00595347dfb5fcfd9053aec907",
            "placeholder": "​",
            "style": "IPY_MODEL_5234ec07ef0142cda5d9aa8e87b6d6f7",
            "value": " 14041/14041 [00:02&lt;00:00, 6606.01 examples/s]"
          }
        },
        "1b8e58ccb077472da590f77f22c849db": {
          "model_module": "@jupyter-widgets/controls",
          "model_module_version": "1.5.0",
          "model_name": "HBoxModel",
          "state": {
            "_dom_classes": [],
            "_model_module": "@jupyter-widgets/controls",
            "_model_module_version": "1.5.0",
            "_model_name": "HBoxModel",
            "_view_count": null,
            "_view_module": "@jupyter-widgets/controls",
            "_view_module_version": "1.5.0",
            "_view_name": "HBoxView",
            "box_style": "",
            "children": [
              "IPY_MODEL_59664cdb0ca64eefb73a4d864d726f0d",
              "IPY_MODEL_a73a5a384abf45b3a3a03cbe46c2c707",
              "IPY_MODEL_a24bad0024ca4c96a19fedab129e5ff3"
            ],
            "layout": "IPY_MODEL_c8130d71a0b14f2b8f3a5fc22ee38410"
          }
        },
        "1cfa9636fadc40589b8d63b86acc21e4": {
          "model_module": "@jupyter-widgets/controls",
          "model_module_version": "1.5.0",
          "model_name": "HTMLModel",
          "state": {
            "_dom_classes": [],
            "_model_module": "@jupyter-widgets/controls",
            "_model_module_version": "1.5.0",
            "_model_name": "HTMLModel",
            "_view_count": null,
            "_view_module": "@jupyter-widgets/controls",
            "_view_module_version": "1.5.0",
            "_view_name": "HTMLView",
            "description": "",
            "description_tooltip": null,
            "layout": "IPY_MODEL_3b8ceb113a3e436fa76f395dc9dbcc04",
            "placeholder": "​",
            "style": "IPY_MODEL_ca77976cab0d4daebbb6b38cb6c9b3e5",
            "value": " 6.34k/6.34k [00:00&lt;00:00, 263kB/s]"
          }
        },
        "1e9b21d4d4c94fc1a8b0267131c6efad": {
          "model_module": "@jupyter-widgets/controls",
          "model_module_version": "1.5.0",
          "model_name": "FloatProgressModel",
          "state": {
            "_dom_classes": [],
            "_model_module": "@jupyter-widgets/controls",
            "_model_module_version": "1.5.0",
            "_model_name": "FloatProgressModel",
            "_view_count": null,
            "_view_module": "@jupyter-widgets/controls",
            "_view_module_version": "1.5.0",
            "_view_name": "ProgressView",
            "bar_style": "success",
            "description": "",
            "description_tooltip": null,
            "layout": "IPY_MODEL_ddb2d8778b814c888b6851ff519e32bf",
            "max": 483,
            "min": 0,
            "orientation": "horizontal",
            "style": "IPY_MODEL_6113d41190cc486babfdbf3efb3a1fee",
            "value": 483
          }
        },
        "1eed0f1ada1e428cbd330f33dd52d0d5": {
          "model_module": "@jupyter-widgets/controls",
          "model_module_version": "1.5.0",
          "model_name": "FloatProgressModel",
          "state": {
            "_dom_classes": [],
            "_model_module": "@jupyter-widgets/controls",
            "_model_module_version": "1.5.0",
            "_model_name": "FloatProgressModel",
            "_view_count": null,
            "_view_module": "@jupyter-widgets/controls",
            "_view_module_version": "1.5.0",
            "_view_name": "ProgressView",
            "bar_style": "success",
            "description": "",
            "description_tooltip": null,
            "layout": "IPY_MODEL_c6efa791bb8c452ca5d4cab2064a7caf",
            "max": 3453,
            "min": 0,
            "orientation": "horizontal",
            "style": "IPY_MODEL_886d892bd8044971bc50e6b5e4df082a",
            "value": 3453
          }
        },
        "1f24477213194fbc99f996299c3732c8": {
          "model_module": "@jupyter-widgets/controls",
          "model_module_version": "1.5.0",
          "model_name": "HTMLModel",
          "state": {
            "_dom_classes": [],
            "_model_module": "@jupyter-widgets/controls",
            "_model_module_version": "1.5.0",
            "_model_name": "HTMLModel",
            "_view_count": null,
            "_view_module": "@jupyter-widgets/controls",
            "_view_module_version": "1.5.0",
            "_view_name": "HTMLView",
            "description": "",
            "description_tooltip": null,
            "layout": "IPY_MODEL_c093596876c04a17bcb6b07fafff42e1",
            "placeholder": "​",
            "style": "IPY_MODEL_3e530a354fe8463487b349da110386a7",
            "value": "tokenizer_config.json: 100%"
          }
        },
        "1f8bb12c982444da82370c8875507683": {
          "model_module": "@jupyter-widgets/controls",
          "model_module_version": "1.5.0",
          "model_name": "DescriptionStyleModel",
          "state": {
            "_model_module": "@jupyter-widgets/controls",
            "_model_module_version": "1.5.0",
            "_model_name": "DescriptionStyleModel",
            "_view_count": null,
            "_view_module": "@jupyter-widgets/base",
            "_view_module_version": "1.2.0",
            "_view_name": "StyleView",
            "description_width": ""
          }
        },
        "1fe8a9463c204e9aa828753685c02d15": {
          "model_module": "@jupyter-widgets/base",
          "model_module_version": "1.2.0",
          "model_name": "LayoutModel",
          "state": {
            "_model_module": "@jupyter-widgets/base",
            "_model_module_version": "1.2.0",
            "_model_name": "LayoutModel",
            "_view_count": null,
            "_view_module": "@jupyter-widgets/base",
            "_view_module_version": "1.2.0",
            "_view_name": "LayoutView",
            "align_content": null,
            "align_items": null,
            "align_self": null,
            "border": null,
            "bottom": null,
            "display": null,
            "flex": null,
            "flex_flow": null,
            "grid_area": null,
            "grid_auto_columns": null,
            "grid_auto_flow": null,
            "grid_auto_rows": null,
            "grid_column": null,
            "grid_gap": null,
            "grid_row": null,
            "grid_template_areas": null,
            "grid_template_columns": null,
            "grid_template_rows": null,
            "height": null,
            "justify_content": null,
            "justify_items": null,
            "left": null,
            "margin": null,
            "max_height": null,
            "max_width": null,
            "min_height": null,
            "min_width": null,
            "object_fit": null,
            "object_position": null,
            "order": null,
            "overflow": null,
            "overflow_x": null,
            "overflow_y": null,
            "padding": null,
            "right": null,
            "top": null,
            "visibility": null,
            "width": null
          }
        },
        "21c6bef3797a4717b29d6d81ba589550": {
          "model_module": "@jupyter-widgets/controls",
          "model_module_version": "1.5.0",
          "model_name": "DescriptionStyleModel",
          "state": {
            "_model_module": "@jupyter-widgets/controls",
            "_model_module_version": "1.5.0",
            "_model_name": "DescriptionStyleModel",
            "_view_count": null,
            "_view_module": "@jupyter-widgets/base",
            "_view_module_version": "1.2.0",
            "_view_name": "StyleView",
            "description_width": ""
          }
        },
        "237006c256cd49538b84343a10e39f0d": {
          "model_module": "@jupyter-widgets/controls",
          "model_module_version": "1.5.0",
          "model_name": "HTMLModel",
          "state": {
            "_dom_classes": [],
            "_model_module": "@jupyter-widgets/controls",
            "_model_module_version": "1.5.0",
            "_model_name": "HTMLModel",
            "_view_count": null,
            "_view_module": "@jupyter-widgets/controls",
            "_view_module_version": "1.5.0",
            "_view_name": "HTMLView",
            "description": "",
            "description_tooltip": null,
            "layout": "IPY_MODEL_63b43a7e70694432895f9246fd81b53e",
            "placeholder": "​",
            "style": "IPY_MODEL_e8c68357d7a24f88b87d1045c529deb1",
            "value": "Downloading builder script: 100%"
          }
        },
        "266cf14f043e47adb07d87310bbd9ff8": {
          "model_module": "@jupyter-widgets/controls",
          "model_module_version": "1.5.0",
          "model_name": "FloatProgressModel",
          "state": {
            "_dom_classes": [],
            "_model_module": "@jupyter-widgets/controls",
            "_model_module_version": "1.5.0",
            "_model_name": "FloatProgressModel",
            "_view_count": null,
            "_view_module": "@jupyter-widgets/controls",
            "_view_module_version": "1.5.0",
            "_view_name": "ProgressView",
            "bar_style": "success",
            "description": "",
            "description_tooltip": null,
            "layout": "IPY_MODEL_449b3fd9943f4f84bebf51d5a767eca0",
            "max": 14041,
            "min": 0,
            "orientation": "horizontal",
            "style": "IPY_MODEL_6a234e28a10c41fd84eb9b8e42ed96b0",
            "value": 14041
          }
        },
        "283ae8a3e09a4c9eac662a80a1995622": {
          "model_module": "@jupyter-widgets/base",
          "model_module_version": "1.2.0",
          "model_name": "LayoutModel",
          "state": {
            "_model_module": "@jupyter-widgets/base",
            "_model_module_version": "1.2.0",
            "_model_name": "LayoutModel",
            "_view_count": null,
            "_view_module": "@jupyter-widgets/base",
            "_view_module_version": "1.2.0",
            "_view_name": "LayoutView",
            "align_content": null,
            "align_items": null,
            "align_self": null,
            "border": null,
            "bottom": null,
            "display": null,
            "flex": null,
            "flex_flow": null,
            "grid_area": null,
            "grid_auto_columns": null,
            "grid_auto_flow": null,
            "grid_auto_rows": null,
            "grid_column": null,
            "grid_gap": null,
            "grid_row": null,
            "grid_template_areas": null,
            "grid_template_columns": null,
            "grid_template_rows": null,
            "height": null,
            "justify_content": null,
            "justify_items": null,
            "left": null,
            "margin": null,
            "max_height": null,
            "max_width": null,
            "min_height": null,
            "min_width": null,
            "object_fit": null,
            "object_position": null,
            "order": null,
            "overflow": null,
            "overflow_x": null,
            "overflow_y": null,
            "padding": null,
            "right": null,
            "top": null,
            "visibility": null,
            "width": null
          }
        },
        "2843a5228b2a4fff9efea992c276460c": {
          "model_module": "@jupyter-widgets/base",
          "model_module_version": "1.2.0",
          "model_name": "LayoutModel",
          "state": {
            "_model_module": "@jupyter-widgets/base",
            "_model_module_version": "1.2.0",
            "_model_name": "LayoutModel",
            "_view_count": null,
            "_view_module": "@jupyter-widgets/base",
            "_view_module_version": "1.2.0",
            "_view_name": "LayoutView",
            "align_content": null,
            "align_items": null,
            "align_self": null,
            "border": null,
            "bottom": null,
            "display": null,
            "flex": null,
            "flex_flow": null,
            "grid_area": null,
            "grid_auto_columns": null,
            "grid_auto_flow": null,
            "grid_auto_rows": null,
            "grid_column": null,
            "grid_gap": null,
            "grid_row": null,
            "grid_template_areas": null,
            "grid_template_columns": null,
            "grid_template_rows": null,
            "height": null,
            "justify_content": null,
            "justify_items": null,
            "left": null,
            "margin": null,
            "max_height": null,
            "max_width": null,
            "min_height": null,
            "min_width": null,
            "object_fit": null,
            "object_position": null,
            "order": null,
            "overflow": null,
            "overflow_x": null,
            "overflow_y": null,
            "padding": null,
            "right": null,
            "top": null,
            "visibility": null,
            "width": null
          }
        },
        "2ba1d0e89e244ccabe85b2c8434dd450": {
          "model_module": "@jupyter-widgets/controls",
          "model_module_version": "1.5.0",
          "model_name": "HBoxModel",
          "state": {
            "_dom_classes": [],
            "_model_module": "@jupyter-widgets/controls",
            "_model_module_version": "1.5.0",
            "_model_name": "HBoxModel",
            "_view_count": null,
            "_view_module": "@jupyter-widgets/controls",
            "_view_module_version": "1.5.0",
            "_view_name": "HBoxView",
            "box_style": "",
            "children": [
              "IPY_MODEL_237006c256cd49538b84343a10e39f0d",
              "IPY_MODEL_931ee3038dc341d1aba1f5dc94ccc9b4",
              "IPY_MODEL_1cfa9636fadc40589b8d63b86acc21e4"
            ],
            "layout": "IPY_MODEL_60c8ae6297bd4e7e8c3c1d8d6e3387b3"
          }
        },
        "2c008c8e128e494d96302e99b7aca8f1": {
          "model_module": "@jupyter-widgets/base",
          "model_module_version": "1.2.0",
          "model_name": "LayoutModel",
          "state": {
            "_model_module": "@jupyter-widgets/base",
            "_model_module_version": "1.2.0",
            "_model_name": "LayoutModel",
            "_view_count": null,
            "_view_module": "@jupyter-widgets/base",
            "_view_module_version": "1.2.0",
            "_view_name": "LayoutView",
            "align_content": null,
            "align_items": null,
            "align_self": null,
            "border": null,
            "bottom": null,
            "display": null,
            "flex": null,
            "flex_flow": null,
            "grid_area": null,
            "grid_auto_columns": null,
            "grid_auto_flow": null,
            "grid_auto_rows": null,
            "grid_column": null,
            "grid_gap": null,
            "grid_row": null,
            "grid_template_areas": null,
            "grid_template_columns": null,
            "grid_template_rows": null,
            "height": null,
            "justify_content": null,
            "justify_items": null,
            "left": null,
            "margin": null,
            "max_height": null,
            "max_width": null,
            "min_height": null,
            "min_width": null,
            "object_fit": null,
            "object_position": null,
            "order": null,
            "overflow": null,
            "overflow_x": null,
            "overflow_y": null,
            "padding": null,
            "right": null,
            "top": null,
            "visibility": null,
            "width": null
          }
        },
        "30ca3d4d67c44c96b409539b68692229": {
          "model_module": "@jupyter-widgets/controls",
          "model_module_version": "1.5.0",
          "model_name": "DescriptionStyleModel",
          "state": {
            "_model_module": "@jupyter-widgets/controls",
            "_model_module_version": "1.5.0",
            "_model_name": "DescriptionStyleModel",
            "_view_count": null,
            "_view_module": "@jupyter-widgets/base",
            "_view_module_version": "1.2.0",
            "_view_name": "StyleView",
            "description_width": ""
          }
        },
        "310ef46ab5344cfdb9372fa0321eb342": {
          "model_module": "@jupyter-widgets/base",
          "model_module_version": "1.2.0",
          "model_name": "LayoutModel",
          "state": {
            "_model_module": "@jupyter-widgets/base",
            "_model_module_version": "1.2.0",
            "_model_name": "LayoutModel",
            "_view_count": null,
            "_view_module": "@jupyter-widgets/base",
            "_view_module_version": "1.2.0",
            "_view_name": "LayoutView",
            "align_content": null,
            "align_items": null,
            "align_self": null,
            "border": null,
            "bottom": null,
            "display": null,
            "flex": null,
            "flex_flow": null,
            "grid_area": null,
            "grid_auto_columns": null,
            "grid_auto_flow": null,
            "grid_auto_rows": null,
            "grid_column": null,
            "grid_gap": null,
            "grid_row": null,
            "grid_template_areas": null,
            "grid_template_columns": null,
            "grid_template_rows": null,
            "height": null,
            "justify_content": null,
            "justify_items": null,
            "left": null,
            "margin": null,
            "max_height": null,
            "max_width": null,
            "min_height": null,
            "min_width": null,
            "object_fit": null,
            "object_position": null,
            "order": null,
            "overflow": null,
            "overflow_x": null,
            "overflow_y": null,
            "padding": null,
            "right": null,
            "top": null,
            "visibility": null,
            "width": null
          }
        },
        "311887f368a44541854baadd71df2c1d": {
          "model_module": "@jupyter-widgets/base",
          "model_module_version": "1.2.0",
          "model_name": "LayoutModel",
          "state": {
            "_model_module": "@jupyter-widgets/base",
            "_model_module_version": "1.2.0",
            "_model_name": "LayoutModel",
            "_view_count": null,
            "_view_module": "@jupyter-widgets/base",
            "_view_module_version": "1.2.0",
            "_view_name": "LayoutView",
            "align_content": null,
            "align_items": null,
            "align_self": null,
            "border": null,
            "bottom": null,
            "display": null,
            "flex": null,
            "flex_flow": null,
            "grid_area": null,
            "grid_auto_columns": null,
            "grid_auto_flow": null,
            "grid_auto_rows": null,
            "grid_column": null,
            "grid_gap": null,
            "grid_row": null,
            "grid_template_areas": null,
            "grid_template_columns": null,
            "grid_template_rows": null,
            "height": null,
            "justify_content": null,
            "justify_items": null,
            "left": null,
            "margin": null,
            "max_height": null,
            "max_width": null,
            "min_height": null,
            "min_width": null,
            "object_fit": null,
            "object_position": null,
            "order": null,
            "overflow": null,
            "overflow_x": null,
            "overflow_y": null,
            "padding": null,
            "right": null,
            "top": null,
            "visibility": null,
            "width": null
          }
        },
        "317502d56ffc4975b7cfabf09b188d7f": {
          "model_module": "@jupyter-widgets/base",
          "model_module_version": "1.2.0",
          "model_name": "LayoutModel",
          "state": {
            "_model_module": "@jupyter-widgets/base",
            "_model_module_version": "1.2.0",
            "_model_name": "LayoutModel",
            "_view_count": null,
            "_view_module": "@jupyter-widgets/base",
            "_view_module_version": "1.2.0",
            "_view_name": "LayoutView",
            "align_content": null,
            "align_items": null,
            "align_self": null,
            "border": null,
            "bottom": null,
            "display": null,
            "flex": null,
            "flex_flow": null,
            "grid_area": null,
            "grid_auto_columns": null,
            "grid_auto_flow": null,
            "grid_auto_rows": null,
            "grid_column": null,
            "grid_gap": null,
            "grid_row": null,
            "grid_template_areas": null,
            "grid_template_columns": null,
            "grid_template_rows": null,
            "height": null,
            "justify_content": null,
            "justify_items": null,
            "left": null,
            "margin": null,
            "max_height": null,
            "max_width": null,
            "min_height": null,
            "min_width": null,
            "object_fit": null,
            "object_position": null,
            "order": null,
            "overflow": null,
            "overflow_x": null,
            "overflow_y": null,
            "padding": null,
            "right": null,
            "top": null,
            "visibility": null,
            "width": null
          }
        },
        "321085d6870d4dafabe925a0e77ee187": {
          "model_module": "@jupyter-widgets/controls",
          "model_module_version": "1.5.0",
          "model_name": "HBoxModel",
          "state": {
            "_dom_classes": [],
            "_model_module": "@jupyter-widgets/controls",
            "_model_module_version": "1.5.0",
            "_model_name": "HBoxModel",
            "_view_count": null,
            "_view_module": "@jupyter-widgets/controls",
            "_view_module_version": "1.5.0",
            "_view_name": "HBoxView",
            "box_style": "",
            "children": [
              "IPY_MODEL_fb33ec0106d246f19ddcaa4186ffe340",
              "IPY_MODEL_266cf14f043e47adb07d87310bbd9ff8",
              "IPY_MODEL_88f051f5326a4c4db5de3eebad77574c"
            ],
            "layout": "IPY_MODEL_3a3bf159928a438abb06442dbd971733"
          }
        },
        "32183becc41047d5a88c1b782757b474": {
          "model_module": "@jupyter-widgets/base",
          "model_module_version": "1.2.0",
          "model_name": "LayoutModel",
          "state": {
            "_model_module": "@jupyter-widgets/base",
            "_model_module_version": "1.2.0",
            "_model_name": "LayoutModel",
            "_view_count": null,
            "_view_module": "@jupyter-widgets/base",
            "_view_module_version": "1.2.0",
            "_view_name": "LayoutView",
            "align_content": null,
            "align_items": null,
            "align_self": null,
            "border": null,
            "bottom": null,
            "display": null,
            "flex": null,
            "flex_flow": null,
            "grid_area": null,
            "grid_auto_columns": null,
            "grid_auto_flow": null,
            "grid_auto_rows": null,
            "grid_column": null,
            "grid_gap": null,
            "grid_row": null,
            "grid_template_areas": null,
            "grid_template_columns": null,
            "grid_template_rows": null,
            "height": null,
            "justify_content": null,
            "justify_items": null,
            "left": null,
            "margin": null,
            "max_height": null,
            "max_width": null,
            "min_height": null,
            "min_width": null,
            "object_fit": null,
            "object_position": null,
            "order": null,
            "overflow": null,
            "overflow_x": null,
            "overflow_y": null,
            "padding": null,
            "right": null,
            "top": null,
            "visibility": null,
            "width": null
          }
        },
        "32bf45fc3f504faa93b585044508997f": {
          "model_module": "@jupyter-widgets/controls",
          "model_module_version": "1.5.0",
          "model_name": "FloatProgressModel",
          "state": {
            "_dom_classes": [],
            "_model_module": "@jupyter-widgets/controls",
            "_model_module_version": "1.5.0",
            "_model_name": "FloatProgressModel",
            "_view_count": null,
            "_view_module": "@jupyter-widgets/controls",
            "_view_module_version": "1.5.0",
            "_view_name": "ProgressView",
            "bar_style": "success",
            "description": "",
            "description_tooltip": null,
            "layout": "IPY_MODEL_839643ec688e448b9f0b5afdcdb1be12",
            "max": 14041,
            "min": 0,
            "orientation": "horizontal",
            "style": "IPY_MODEL_449604fd22fb467785bf9d9c55acadfc",
            "value": 14041
          }
        },
        "3386cebdda3047959e7c371006f6e530": {
          "model_module": "@jupyter-widgets/controls",
          "model_module_version": "1.5.0",
          "model_name": "HBoxModel",
          "state": {
            "_dom_classes": [],
            "_model_module": "@jupyter-widgets/controls",
            "_model_module_version": "1.5.0",
            "_model_name": "HBoxModel",
            "_view_count": null,
            "_view_module": "@jupyter-widgets/controls",
            "_view_module_version": "1.5.0",
            "_view_name": "HBoxView",
            "box_style": "",
            "children": [
              "IPY_MODEL_aab78d0b74d14326be813dc0c7d4e7e1",
              "IPY_MODEL_1eed0f1ada1e428cbd330f33dd52d0d5",
              "IPY_MODEL_f4f4c9fa9bb54e478dc2b64788b512c1"
            ],
            "layout": "IPY_MODEL_346a75df28dc4b03930a22346ff80b12"
          }
        },
        "33afd6de8db743a9bc28ecb5bb47772e": {
          "model_module": "@jupyter-widgets/controls",
          "model_module_version": "1.5.0",
          "model_name": "HTMLModel",
          "state": {
            "_dom_classes": [],
            "_model_module": "@jupyter-widgets/controls",
            "_model_module_version": "1.5.0",
            "_model_name": "HTMLModel",
            "_view_count": null,
            "_view_module": "@jupyter-widgets/controls",
            "_view_module_version": "1.5.0",
            "_view_name": "HTMLView",
            "description": "",
            "description_tooltip": null,
            "layout": "IPY_MODEL_6d2fa25014224d6a86da4b9e6e710aca",
            "placeholder": "​",
            "style": "IPY_MODEL_1ab9d00c08154364b96342f5d67ef03b",
            "value": "Map: 100%"
          }
        },
        "346a75df28dc4b03930a22346ff80b12": {
          "model_module": "@jupyter-widgets/base",
          "model_module_version": "1.2.0",
          "model_name": "LayoutModel",
          "state": {
            "_model_module": "@jupyter-widgets/base",
            "_model_module_version": "1.2.0",
            "_model_name": "LayoutModel",
            "_view_count": null,
            "_view_module": "@jupyter-widgets/base",
            "_view_module_version": "1.2.0",
            "_view_name": "LayoutView",
            "align_content": null,
            "align_items": null,
            "align_self": null,
            "border": null,
            "bottom": null,
            "display": null,
            "flex": null,
            "flex_flow": null,
            "grid_area": null,
            "grid_auto_columns": null,
            "grid_auto_flow": null,
            "grid_auto_rows": null,
            "grid_column": null,
            "grid_gap": null,
            "grid_row": null,
            "grid_template_areas": null,
            "grid_template_columns": null,
            "grid_template_rows": null,
            "height": null,
            "justify_content": null,
            "justify_items": null,
            "left": null,
            "margin": null,
            "max_height": null,
            "max_width": null,
            "min_height": null,
            "min_width": null,
            "object_fit": null,
            "object_position": null,
            "order": null,
            "overflow": null,
            "overflow_x": null,
            "overflow_y": null,
            "padding": null,
            "right": null,
            "top": null,
            "visibility": null,
            "width": null
          }
        },
        "35a2a3bf325c4fcc999d18b179391c5f": {
          "model_module": "@jupyter-widgets/controls",
          "model_module_version": "1.5.0",
          "model_name": "HTMLModel",
          "state": {
            "_dom_classes": [],
            "_model_module": "@jupyter-widgets/controls",
            "_model_module_version": "1.5.0",
            "_model_name": "HTMLModel",
            "_view_count": null,
            "_view_module": "@jupyter-widgets/controls",
            "_view_module_version": "1.5.0",
            "_view_name": "HTMLView",
            "description": "",
            "description_tooltip": null,
            "layout": "IPY_MODEL_3c731b998bce430b9baa4fcbf7850682",
            "placeholder": "​",
            "style": "IPY_MODEL_9f39e0682e614a919f2471d633397043",
            "value": " 483/483 [00:00&lt;00:00, 13.0kB/s]"
          }
        },
        "385bb702cd0440a3805bf55cf51fe0af": {
          "model_module": "@jupyter-widgets/base",
          "model_module_version": "1.2.0",
          "model_name": "LayoutModel",
          "state": {
            "_model_module": "@jupyter-widgets/base",
            "_model_module_version": "1.2.0",
            "_model_name": "LayoutModel",
            "_view_count": null,
            "_view_module": "@jupyter-widgets/base",
            "_view_module_version": "1.2.0",
            "_view_name": "LayoutView",
            "align_content": null,
            "align_items": null,
            "align_self": null,
            "border": null,
            "bottom": null,
            "display": null,
            "flex": null,
            "flex_flow": null,
            "grid_area": null,
            "grid_auto_columns": null,
            "grid_auto_flow": null,
            "grid_auto_rows": null,
            "grid_column": null,
            "grid_gap": null,
            "grid_row": null,
            "grid_template_areas": null,
            "grid_template_columns": null,
            "grid_template_rows": null,
            "height": null,
            "justify_content": null,
            "justify_items": null,
            "left": null,
            "margin": null,
            "max_height": null,
            "max_width": null,
            "min_height": null,
            "min_width": null,
            "object_fit": null,
            "object_position": null,
            "order": null,
            "overflow": null,
            "overflow_x": null,
            "overflow_y": null,
            "padding": null,
            "right": null,
            "top": null,
            "visibility": null,
            "width": null
          }
        },
        "38fd313f7aa0495fbe661806d13a85d9": {
          "model_module": "@jupyter-widgets/controls",
          "model_module_version": "1.5.0",
          "model_name": "DescriptionStyleModel",
          "state": {
            "_model_module": "@jupyter-widgets/controls",
            "_model_module_version": "1.5.0",
            "_model_name": "DescriptionStyleModel",
            "_view_count": null,
            "_view_module": "@jupyter-widgets/base",
            "_view_module_version": "1.2.0",
            "_view_name": "StyleView",
            "description_width": ""
          }
        },
        "3a3bf159928a438abb06442dbd971733": {
          "model_module": "@jupyter-widgets/base",
          "model_module_version": "1.2.0",
          "model_name": "LayoutModel",
          "state": {
            "_model_module": "@jupyter-widgets/base",
            "_model_module_version": "1.2.0",
            "_model_name": "LayoutModel",
            "_view_count": null,
            "_view_module": "@jupyter-widgets/base",
            "_view_module_version": "1.2.0",
            "_view_name": "LayoutView",
            "align_content": null,
            "align_items": null,
            "align_self": null,
            "border": null,
            "bottom": null,
            "display": null,
            "flex": null,
            "flex_flow": null,
            "grid_area": null,
            "grid_auto_columns": null,
            "grid_auto_flow": null,
            "grid_auto_rows": null,
            "grid_column": null,
            "grid_gap": null,
            "grid_row": null,
            "grid_template_areas": null,
            "grid_template_columns": null,
            "grid_template_rows": null,
            "height": null,
            "justify_content": null,
            "justify_items": null,
            "left": null,
            "margin": null,
            "max_height": null,
            "max_width": null,
            "min_height": null,
            "min_width": null,
            "object_fit": null,
            "object_position": null,
            "order": null,
            "overflow": null,
            "overflow_x": null,
            "overflow_y": null,
            "padding": null,
            "right": null,
            "top": null,
            "visibility": null,
            "width": null
          }
        },
        "3b8ceb113a3e436fa76f395dc9dbcc04": {
          "model_module": "@jupyter-widgets/base",
          "model_module_version": "1.2.0",
          "model_name": "LayoutModel",
          "state": {
            "_model_module": "@jupyter-widgets/base",
            "_model_module_version": "1.2.0",
            "_model_name": "LayoutModel",
            "_view_count": null,
            "_view_module": "@jupyter-widgets/base",
            "_view_module_version": "1.2.0",
            "_view_name": "LayoutView",
            "align_content": null,
            "align_items": null,
            "align_self": null,
            "border": null,
            "bottom": null,
            "display": null,
            "flex": null,
            "flex_flow": null,
            "grid_area": null,
            "grid_auto_columns": null,
            "grid_auto_flow": null,
            "grid_auto_rows": null,
            "grid_column": null,
            "grid_gap": null,
            "grid_row": null,
            "grid_template_areas": null,
            "grid_template_columns": null,
            "grid_template_rows": null,
            "height": null,
            "justify_content": null,
            "justify_items": null,
            "left": null,
            "margin": null,
            "max_height": null,
            "max_width": null,
            "min_height": null,
            "min_width": null,
            "object_fit": null,
            "object_position": null,
            "order": null,
            "overflow": null,
            "overflow_x": null,
            "overflow_y": null,
            "padding": null,
            "right": null,
            "top": null,
            "visibility": null,
            "width": null
          }
        },
        "3bf0d374aec640be85fb4dae1e5045ff": {
          "model_module": "@jupyter-widgets/controls",
          "model_module_version": "1.5.0",
          "model_name": "FloatProgressModel",
          "state": {
            "_dom_classes": [],
            "_model_module": "@jupyter-widgets/controls",
            "_model_module_version": "1.5.0",
            "_model_name": "FloatProgressModel",
            "_view_count": null,
            "_view_module": "@jupyter-widgets/controls",
            "_view_module_version": "1.5.0",
            "_view_name": "ProgressView",
            "bar_style": "success",
            "description": "",
            "description_tooltip": null,
            "layout": "IPY_MODEL_198ccf57193f45bea264151c73d661cc",
            "max": 48,
            "min": 0,
            "orientation": "horizontal",
            "style": "IPY_MODEL_b426512b0453478080a4cd264b269b22",
            "value": 48
          }
        },
        "3c731b998bce430b9baa4fcbf7850682": {
          "model_module": "@jupyter-widgets/base",
          "model_module_version": "1.2.0",
          "model_name": "LayoutModel",
          "state": {
            "_model_module": "@jupyter-widgets/base",
            "_model_module_version": "1.2.0",
            "_model_name": "LayoutModel",
            "_view_count": null,
            "_view_module": "@jupyter-widgets/base",
            "_view_module_version": "1.2.0",
            "_view_name": "LayoutView",
            "align_content": null,
            "align_items": null,
            "align_self": null,
            "border": null,
            "bottom": null,
            "display": null,
            "flex": null,
            "flex_flow": null,
            "grid_area": null,
            "grid_auto_columns": null,
            "grid_auto_flow": null,
            "grid_auto_rows": null,
            "grid_column": null,
            "grid_gap": null,
            "grid_row": null,
            "grid_template_areas": null,
            "grid_template_columns": null,
            "grid_template_rows": null,
            "height": null,
            "justify_content": null,
            "justify_items": null,
            "left": null,
            "margin": null,
            "max_height": null,
            "max_width": null,
            "min_height": null,
            "min_width": null,
            "object_fit": null,
            "object_position": null,
            "order": null,
            "overflow": null,
            "overflow_x": null,
            "overflow_y": null,
            "padding": null,
            "right": null,
            "top": null,
            "visibility": null,
            "width": null
          }
        },
        "3de3e21e78f44be88f88aad9ce5a91de": {
          "model_module": "@jupyter-widgets/controls",
          "model_module_version": "1.5.0",
          "model_name": "HBoxModel",
          "state": {
            "_dom_classes": [],
            "_model_module": "@jupyter-widgets/controls",
            "_model_module_version": "1.5.0",
            "_model_name": "HBoxModel",
            "_view_count": null,
            "_view_module": "@jupyter-widgets/controls",
            "_view_module_version": "1.5.0",
            "_view_name": "HBoxView",
            "box_style": "",
            "children": [
              "IPY_MODEL_ea8b507861744481a4ec50fb1b7b2d23",
              "IPY_MODEL_be79cf31d98a487db8ed31c39402c0f9",
              "IPY_MODEL_3f7e9c5ff64744cf9b8ed3d154a46568"
            ],
            "layout": "IPY_MODEL_385bb702cd0440a3805bf55cf51fe0af"
          }
        },
        "3e530a354fe8463487b349da110386a7": {
          "model_module": "@jupyter-widgets/controls",
          "model_module_version": "1.5.0",
          "model_name": "DescriptionStyleModel",
          "state": {
            "_model_module": "@jupyter-widgets/controls",
            "_model_module_version": "1.5.0",
            "_model_name": "DescriptionStyleModel",
            "_view_count": null,
            "_view_module": "@jupyter-widgets/base",
            "_view_module_version": "1.2.0",
            "_view_name": "StyleView",
            "description_width": ""
          }
        },
        "3e94226c60c348e987d01304d83a2efb": {
          "model_module": "@jupyter-widgets/base",
          "model_module_version": "1.2.0",
          "model_name": "LayoutModel",
          "state": {
            "_model_module": "@jupyter-widgets/base",
            "_model_module_version": "1.2.0",
            "_model_name": "LayoutModel",
            "_view_count": null,
            "_view_module": "@jupyter-widgets/base",
            "_view_module_version": "1.2.0",
            "_view_name": "LayoutView",
            "align_content": null,
            "align_items": null,
            "align_self": null,
            "border": null,
            "bottom": null,
            "display": null,
            "flex": null,
            "flex_flow": null,
            "grid_area": null,
            "grid_auto_columns": null,
            "grid_auto_flow": null,
            "grid_auto_rows": null,
            "grid_column": null,
            "grid_gap": null,
            "grid_row": null,
            "grid_template_areas": null,
            "grid_template_columns": null,
            "grid_template_rows": null,
            "height": null,
            "justify_content": null,
            "justify_items": null,
            "left": null,
            "margin": null,
            "max_height": null,
            "max_width": null,
            "min_height": null,
            "min_width": null,
            "object_fit": null,
            "object_position": null,
            "order": null,
            "overflow": null,
            "overflow_x": null,
            "overflow_y": null,
            "padding": null,
            "right": null,
            "top": null,
            "visibility": null,
            "width": null
          }
        },
        "3f7e9c5ff64744cf9b8ed3d154a46568": {
          "model_module": "@jupyter-widgets/controls",
          "model_module_version": "1.5.0",
          "model_name": "HTMLModel",
          "state": {
            "_dom_classes": [],
            "_model_module": "@jupyter-widgets/controls",
            "_model_module_version": "1.5.0",
            "_model_name": "HTMLModel",
            "_view_count": null,
            "_view_module": "@jupyter-widgets/controls",
            "_view_module_version": "1.5.0",
            "_view_name": "HTMLView",
            "description": "",
            "description_tooltip": null,
            "layout": "IPY_MODEL_aa3a9aa987ac4972884e0f59b7964a86",
            "placeholder": "​",
            "style": "IPY_MODEL_ba830f4bdca8414bb8b6cbe55012dfed",
            "value": " 466k/466k [00:00&lt;00:00, 12.3MB/s]"
          }
        },
        "4110379ee0a3464e8c499b4d459038e7": {
          "model_module": "@jupyter-widgets/controls",
          "model_module_version": "1.5.0",
          "model_name": "HTMLModel",
          "state": {
            "_dom_classes": [],
            "_model_module": "@jupyter-widgets/controls",
            "_model_module_version": "1.5.0",
            "_model_name": "HTMLModel",
            "_view_count": null,
            "_view_module": "@jupyter-widgets/controls",
            "_view_module_version": "1.5.0",
            "_view_name": "HTMLView",
            "description": "",
            "description_tooltip": null,
            "layout": "IPY_MODEL_2c008c8e128e494d96302e99b7aca8f1",
            "placeholder": "​",
            "style": "IPY_MODEL_c7b8f526dc4944068f156722bc555637",
            "value": "Map: 100%"
          }
        },
        "440014d6df904e3e8570146e3f99741c": {
          "model_module": "@jupyter-widgets/base",
          "model_module_version": "1.2.0",
          "model_name": "LayoutModel",
          "state": {
            "_model_module": "@jupyter-widgets/base",
            "_model_module_version": "1.2.0",
            "_model_name": "LayoutModel",
            "_view_count": null,
            "_view_module": "@jupyter-widgets/base",
            "_view_module_version": "1.2.0",
            "_view_name": "LayoutView",
            "align_content": null,
            "align_items": null,
            "align_self": null,
            "border": null,
            "bottom": null,
            "display": null,
            "flex": null,
            "flex_flow": null,
            "grid_area": null,
            "grid_auto_columns": null,
            "grid_auto_flow": null,
            "grid_auto_rows": null,
            "grid_column": null,
            "grid_gap": null,
            "grid_row": null,
            "grid_template_areas": null,
            "grid_template_columns": null,
            "grid_template_rows": null,
            "height": null,
            "justify_content": null,
            "justify_items": null,
            "left": null,
            "margin": null,
            "max_height": null,
            "max_width": null,
            "min_height": null,
            "min_width": null,
            "object_fit": null,
            "object_position": null,
            "order": null,
            "overflow": null,
            "overflow_x": null,
            "overflow_y": null,
            "padding": null,
            "right": null,
            "top": null,
            "visibility": null,
            "width": null
          }
        },
        "449604fd22fb467785bf9d9c55acadfc": {
          "model_module": "@jupyter-widgets/controls",
          "model_module_version": "1.5.0",
          "model_name": "ProgressStyleModel",
          "state": {
            "_model_module": "@jupyter-widgets/controls",
            "_model_module_version": "1.5.0",
            "_model_name": "ProgressStyleModel",
            "_view_count": null,
            "_view_module": "@jupyter-widgets/base",
            "_view_module_version": "1.2.0",
            "_view_name": "StyleView",
            "bar_color": null,
            "description_width": ""
          }
        },
        "449b3fd9943f4f84bebf51d5a767eca0": {
          "model_module": "@jupyter-widgets/base",
          "model_module_version": "1.2.0",
          "model_name": "LayoutModel",
          "state": {
            "_model_module": "@jupyter-widgets/base",
            "_model_module_version": "1.2.0",
            "_model_name": "LayoutModel",
            "_view_count": null,
            "_view_module": "@jupyter-widgets/base",
            "_view_module_version": "1.2.0",
            "_view_name": "LayoutView",
            "align_content": null,
            "align_items": null,
            "align_self": null,
            "border": null,
            "bottom": null,
            "display": null,
            "flex": null,
            "flex_flow": null,
            "grid_area": null,
            "grid_auto_columns": null,
            "grid_auto_flow": null,
            "grid_auto_rows": null,
            "grid_column": null,
            "grid_gap": null,
            "grid_row": null,
            "grid_template_areas": null,
            "grid_template_columns": null,
            "grid_template_rows": null,
            "height": null,
            "justify_content": null,
            "justify_items": null,
            "left": null,
            "margin": null,
            "max_height": null,
            "max_width": null,
            "min_height": null,
            "min_width": null,
            "object_fit": null,
            "object_position": null,
            "order": null,
            "overflow": null,
            "overflow_x": null,
            "overflow_y": null,
            "padding": null,
            "right": null,
            "top": null,
            "visibility": null,
            "width": null
          }
        },
        "45e8bdd7434f4bdd972620fde008ef73": {
          "model_module": "@jupyter-widgets/base",
          "model_module_version": "1.2.0",
          "model_name": "LayoutModel",
          "state": {
            "_model_module": "@jupyter-widgets/base",
            "_model_module_version": "1.2.0",
            "_model_name": "LayoutModel",
            "_view_count": null,
            "_view_module": "@jupyter-widgets/base",
            "_view_module_version": "1.2.0",
            "_view_name": "LayoutView",
            "align_content": null,
            "align_items": null,
            "align_self": null,
            "border": null,
            "bottom": null,
            "display": null,
            "flex": null,
            "flex_flow": null,
            "grid_area": null,
            "grid_auto_columns": null,
            "grid_auto_flow": null,
            "grid_auto_rows": null,
            "grid_column": null,
            "grid_gap": null,
            "grid_row": null,
            "grid_template_areas": null,
            "grid_template_columns": null,
            "grid_template_rows": null,
            "height": null,
            "justify_content": null,
            "justify_items": null,
            "left": null,
            "margin": null,
            "max_height": null,
            "max_width": null,
            "min_height": null,
            "min_width": null,
            "object_fit": null,
            "object_position": null,
            "order": null,
            "overflow": null,
            "overflow_x": null,
            "overflow_y": null,
            "padding": null,
            "right": null,
            "top": null,
            "visibility": null,
            "width": null
          }
        },
        "46e126028e334dbda80499b6f772e644": {
          "model_module": "@jupyter-widgets/controls",
          "model_module_version": "1.5.0",
          "model_name": "FloatProgressModel",
          "state": {
            "_dom_classes": [],
            "_model_module": "@jupyter-widgets/controls",
            "_model_module_version": "1.5.0",
            "_model_name": "FloatProgressModel",
            "_view_count": null,
            "_view_module": "@jupyter-widgets/controls",
            "_view_module_version": "1.5.0",
            "_view_name": "ProgressView",
            "bar_style": "success",
            "description": "",
            "description_tooltip": null,
            "layout": "IPY_MODEL_9a5fc1fde48e44bf8691255fd828d7b9",
            "max": 12330,
            "min": 0,
            "orientation": "horizontal",
            "style": "IPY_MODEL_95d1d867fa6c44258818539ece345a10",
            "value": 12330
          }
        },
        "4bba658eead546c0be7ca3515b8a0486": {
          "model_module": "@jupyter-widgets/controls",
          "model_module_version": "1.5.0",
          "model_name": "FloatProgressModel",
          "state": {
            "_dom_classes": [],
            "_model_module": "@jupyter-widgets/controls",
            "_model_module_version": "1.5.0",
            "_model_name": "FloatProgressModel",
            "_view_count": null,
            "_view_module": "@jupyter-widgets/controls",
            "_view_module_version": "1.5.0",
            "_view_name": "ProgressView",
            "bar_style": "success",
            "description": "",
            "description_tooltip": null,
            "layout": "IPY_MODEL_b93a5bc8bc4241ab83e7d9fddecb6bbd",
            "max": 982975,
            "min": 0,
            "orientation": "horizontal",
            "style": "IPY_MODEL_8b6d91f2d1794300a8bcb11c43e3cf2d",
            "value": 982975
          }
        },
        "4bc2940b205e46fa8a86bdb286d56db0": {
          "model_module": "@jupyter-widgets/controls",
          "model_module_version": "1.5.0",
          "model_name": "HTMLModel",
          "state": {
            "_dom_classes": [],
            "_model_module": "@jupyter-widgets/controls",
            "_model_module_version": "1.5.0",
            "_model_name": "HTMLModel",
            "_view_count": null,
            "_view_module": "@jupyter-widgets/controls",
            "_view_module_version": "1.5.0",
            "_view_name": "HTMLView",
            "description": "",
            "description_tooltip": null,
            "layout": "IPY_MODEL_634a8d609d1644d4bd76ea03e9266183",
            "placeholder": "​",
            "style": "IPY_MODEL_38fd313f7aa0495fbe661806d13a85d9",
            "value": " 3453/3453 [00:00&lt;00:00, 6677.09 examples/s]"
          }
        },
        "4cb0ac8727d2489694fc328d69df2a04": {
          "model_module": "@jupyter-widgets/base",
          "model_module_version": "1.2.0",
          "model_name": "LayoutModel",
          "state": {
            "_model_module": "@jupyter-widgets/base",
            "_model_module_version": "1.2.0",
            "_model_name": "LayoutModel",
            "_view_count": null,
            "_view_module": "@jupyter-widgets/base",
            "_view_module_version": "1.2.0",
            "_view_name": "LayoutView",
            "align_content": null,
            "align_items": null,
            "align_self": null,
            "border": null,
            "bottom": null,
            "display": null,
            "flex": null,
            "flex_flow": null,
            "grid_area": null,
            "grid_auto_columns": null,
            "grid_auto_flow": null,
            "grid_auto_rows": null,
            "grid_column": null,
            "grid_gap": null,
            "grid_row": null,
            "grid_template_areas": null,
            "grid_template_columns": null,
            "grid_template_rows": null,
            "height": null,
            "justify_content": null,
            "justify_items": null,
            "left": null,
            "margin": null,
            "max_height": null,
            "max_width": null,
            "min_height": null,
            "min_width": null,
            "object_fit": null,
            "object_position": null,
            "order": null,
            "overflow": null,
            "overflow_x": null,
            "overflow_y": null,
            "padding": null,
            "right": null,
            "top": null,
            "visibility": null,
            "width": null
          }
        },
        "5226bc8cec124f2c9d93f29ed342d930": {
          "model_module": "@jupyter-widgets/base",
          "model_module_version": "1.2.0",
          "model_name": "LayoutModel",
          "state": {
            "_model_module": "@jupyter-widgets/base",
            "_model_module_version": "1.2.0",
            "_model_name": "LayoutModel",
            "_view_count": null,
            "_view_module": "@jupyter-widgets/base",
            "_view_module_version": "1.2.0",
            "_view_name": "LayoutView",
            "align_content": null,
            "align_items": null,
            "align_self": null,
            "border": null,
            "bottom": null,
            "display": null,
            "flex": null,
            "flex_flow": null,
            "grid_area": null,
            "grid_auto_columns": null,
            "grid_auto_flow": null,
            "grid_auto_rows": null,
            "grid_column": null,
            "grid_gap": null,
            "grid_row": null,
            "grid_template_areas": null,
            "grid_template_columns": null,
            "grid_template_rows": null,
            "height": null,
            "justify_content": null,
            "justify_items": null,
            "left": null,
            "margin": null,
            "max_height": null,
            "max_width": null,
            "min_height": null,
            "min_width": null,
            "object_fit": null,
            "object_position": null,
            "order": null,
            "overflow": null,
            "overflow_x": null,
            "overflow_y": null,
            "padding": null,
            "right": null,
            "top": null,
            "visibility": null,
            "width": null
          }
        },
        "5234ec07ef0142cda5d9aa8e87b6d6f7": {
          "model_module": "@jupyter-widgets/controls",
          "model_module_version": "1.5.0",
          "model_name": "DescriptionStyleModel",
          "state": {
            "_model_module": "@jupyter-widgets/controls",
            "_model_module_version": "1.5.0",
            "_model_name": "DescriptionStyleModel",
            "_view_count": null,
            "_view_module": "@jupyter-widgets/base",
            "_view_module_version": "1.2.0",
            "_view_name": "StyleView",
            "description_width": ""
          }
        },
        "5267614c44ca44a693f0b017e331c8a9": {
          "model_module": "@jupyter-widgets/base",
          "model_module_version": "1.2.0",
          "model_name": "LayoutModel",
          "state": {
            "_model_module": "@jupyter-widgets/base",
            "_model_module_version": "1.2.0",
            "_model_name": "LayoutModel",
            "_view_count": null,
            "_view_module": "@jupyter-widgets/base",
            "_view_module_version": "1.2.0",
            "_view_name": "LayoutView",
            "align_content": null,
            "align_items": null,
            "align_self": null,
            "border": null,
            "bottom": null,
            "display": null,
            "flex": null,
            "flex_flow": null,
            "grid_area": null,
            "grid_auto_columns": null,
            "grid_auto_flow": null,
            "grid_auto_rows": null,
            "grid_column": null,
            "grid_gap": null,
            "grid_row": null,
            "grid_template_areas": null,
            "grid_template_columns": null,
            "grid_template_rows": null,
            "height": null,
            "justify_content": null,
            "justify_items": null,
            "left": null,
            "margin": null,
            "max_height": null,
            "max_width": null,
            "min_height": null,
            "min_width": null,
            "object_fit": null,
            "object_position": null,
            "order": null,
            "overflow": null,
            "overflow_x": null,
            "overflow_y": null,
            "padding": null,
            "right": null,
            "top": null,
            "visibility": null,
            "width": null
          }
        },
        "53c32c8f5458480ab229857796fab96d": {
          "model_module": "@jupyter-widgets/controls",
          "model_module_version": "1.5.0",
          "model_name": "HTMLModel",
          "state": {
            "_dom_classes": [],
            "_model_module": "@jupyter-widgets/controls",
            "_model_module_version": "1.5.0",
            "_model_name": "HTMLModel",
            "_view_count": null,
            "_view_module": "@jupyter-widgets/controls",
            "_view_module_version": "1.5.0",
            "_view_name": "HTMLView",
            "description": "",
            "description_tooltip": null,
            "layout": "IPY_MODEL_da97ee2385f7431c837169c8bce7949f",
            "placeholder": "​",
            "style": "IPY_MODEL_ebbdcfae7c444d43b80d37108200dbd5",
            "value": "vocab.txt: 100%"
          }
        },
        "552cc3e15c334686ac17179a14c3c982": {
          "model_module": "@jupyter-widgets/controls",
          "model_module_version": "1.5.0",
          "model_name": "HBoxModel",
          "state": {
            "_dom_classes": [],
            "_model_module": "@jupyter-widgets/controls",
            "_model_module_version": "1.5.0",
            "_model_name": "HBoxModel",
            "_view_count": null,
            "_view_module": "@jupyter-widgets/controls",
            "_view_module_version": "1.5.0",
            "_view_name": "HBoxView",
            "box_style": "",
            "children": [
              "IPY_MODEL_33afd6de8db743a9bc28ecb5bb47772e",
              "IPY_MODEL_7d79f4f8f2ac458c9258f68a8744a4e8",
              "IPY_MODEL_4bc2940b205e46fa8a86bdb286d56db0"
            ],
            "layout": "IPY_MODEL_45e8bdd7434f4bdd972620fde008ef73"
          }
        },
        "557043d17c434342afe1965c9603c137": {
          "model_module": "@jupyter-widgets/base",
          "model_module_version": "1.2.0",
          "model_name": "LayoutModel",
          "state": {
            "_model_module": "@jupyter-widgets/base",
            "_model_module_version": "1.2.0",
            "_model_name": "LayoutModel",
            "_view_count": null,
            "_view_module": "@jupyter-widgets/base",
            "_view_module_version": "1.2.0",
            "_view_name": "LayoutView",
            "align_content": null,
            "align_items": null,
            "align_self": null,
            "border": null,
            "bottom": null,
            "display": null,
            "flex": null,
            "flex_flow": null,
            "grid_area": null,
            "grid_auto_columns": null,
            "grid_auto_flow": null,
            "grid_auto_rows": null,
            "grid_column": null,
            "grid_gap": null,
            "grid_row": null,
            "grid_template_areas": null,
            "grid_template_columns": null,
            "grid_template_rows": null,
            "height": null,
            "justify_content": null,
            "justify_items": null,
            "left": null,
            "margin": null,
            "max_height": null,
            "max_width": null,
            "min_height": null,
            "min_width": null,
            "object_fit": null,
            "object_position": null,
            "order": null,
            "overflow": null,
            "overflow_x": null,
            "overflow_y": null,
            "padding": null,
            "right": null,
            "top": null,
            "visibility": null,
            "width": null
          }
        },
        "567316fa9dd94326bc324cf051e6f25e": {
          "model_module": "@jupyter-widgets/controls",
          "model_module_version": "1.5.0",
          "model_name": "FloatProgressModel",
          "state": {
            "_dom_classes": [],
            "_model_module": "@jupyter-widgets/controls",
            "_model_module_version": "1.5.0",
            "_model_name": "FloatProgressModel",
            "_view_count": null,
            "_view_module": "@jupyter-widgets/controls",
            "_view_module_version": "1.5.0",
            "_view_name": "ProgressView",
            "bar_style": "success",
            "description": "",
            "description_tooltip": null,
            "layout": "IPY_MODEL_c3627fc98bbb4754968728cab65d3798",
            "max": 267954768,
            "min": 0,
            "orientation": "horizontal",
            "style": "IPY_MODEL_fb51f86b2ac149d0834dbf8cc4da6d19",
            "value": 267954768
          }
        },
        "575719521faf4c56ac5e3db91758e80c": {
          "model_module": "@jupyter-widgets/base",
          "model_module_version": "1.2.0",
          "model_name": "LayoutModel",
          "state": {
            "_model_module": "@jupyter-widgets/base",
            "_model_module_version": "1.2.0",
            "_model_name": "LayoutModel",
            "_view_count": null,
            "_view_module": "@jupyter-widgets/base",
            "_view_module_version": "1.2.0",
            "_view_name": "LayoutView",
            "align_content": null,
            "align_items": null,
            "align_self": null,
            "border": null,
            "bottom": null,
            "display": null,
            "flex": null,
            "flex_flow": null,
            "grid_area": null,
            "grid_auto_columns": null,
            "grid_auto_flow": null,
            "grid_auto_rows": null,
            "grid_column": null,
            "grid_gap": null,
            "grid_row": null,
            "grid_template_areas": null,
            "grid_template_columns": null,
            "grid_template_rows": null,
            "height": null,
            "justify_content": null,
            "justify_items": null,
            "left": null,
            "margin": null,
            "max_height": null,
            "max_width": null,
            "min_height": null,
            "min_width": null,
            "object_fit": null,
            "object_position": null,
            "order": null,
            "overflow": null,
            "overflow_x": null,
            "overflow_y": null,
            "padding": null,
            "right": null,
            "top": null,
            "visibility": null,
            "width": null
          }
        },
        "58cfd20255f44eb2be58cc76f8f30a5a": {
          "model_module": "@jupyter-widgets/controls",
          "model_module_version": "1.5.0",
          "model_name": "HBoxModel",
          "state": {
            "_dom_classes": [],
            "_model_module": "@jupyter-widgets/controls",
            "_model_module_version": "1.5.0",
            "_model_name": "HBoxModel",
            "_view_count": null,
            "_view_module": "@jupyter-widgets/controls",
            "_view_module_version": "1.5.0",
            "_view_name": "HBoxView",
            "box_style": "",
            "children": [
              "IPY_MODEL_0d3b5ed27f1c47e9b6ddd77916b483c9",
              "IPY_MODEL_32bf45fc3f504faa93b585044508997f",
              "IPY_MODEL_1b7ba9eebc8e400b9d28ef0edbec2494"
            ],
            "layout": "IPY_MODEL_16954bb8e7a6466a8c1c72b127186f70"
          }
        },
        "59664cdb0ca64eefb73a4d864d726f0d": {
          "model_module": "@jupyter-widgets/controls",
          "model_module_version": "1.5.0",
          "model_name": "HTMLModel",
          "state": {
            "_dom_classes": [],
            "_model_module": "@jupyter-widgets/controls",
            "_model_module_version": "1.5.0",
            "_model_name": "HTMLModel",
            "_view_count": null,
            "_view_module": "@jupyter-widgets/controls",
            "_view_module_version": "1.5.0",
            "_view_name": "HTMLView",
            "description": "",
            "description_tooltip": null,
            "layout": "IPY_MODEL_310ef46ab5344cfdb9372fa0321eb342",
            "placeholder": "​",
            "style": "IPY_MODEL_c17eeef687c64310a37890a516638607",
            "value": ""
          }
        },
        "5a64ac6933a44b8f8f698e6104571e1c": {
          "model_module": "@jupyter-widgets/controls",
          "model_module_version": "1.5.0",
          "model_name": "HTMLModel",
          "state": {
            "_dom_classes": [],
            "_model_module": "@jupyter-widgets/controls",
            "_model_module_version": "1.5.0",
            "_model_name": "HTMLModel",
            "_view_count": null,
            "_view_module": "@jupyter-widgets/controls",
            "_view_module_version": "1.5.0",
            "_view_name": "HTMLView",
            "description": "",
            "description_tooltip": null,
            "layout": "IPY_MODEL_d42133f3472a4f629b33738b5483d19f",
            "placeholder": "​",
            "style": "IPY_MODEL_c042cc5e75c24992a8d253930c5f87ee",
            "value": "Downloading data: 100%"
          }
        },
        "5ab9360d09734a42828eaa4d24de4626": {
          "model_module": "@jupyter-widgets/base",
          "model_module_version": "1.2.0",
          "model_name": "LayoutModel",
          "state": {
            "_model_module": "@jupyter-widgets/base",
            "_model_module_version": "1.2.0",
            "_model_name": "LayoutModel",
            "_view_count": null,
            "_view_module": "@jupyter-widgets/base",
            "_view_module_version": "1.2.0",
            "_view_name": "LayoutView",
            "align_content": null,
            "align_items": null,
            "align_self": null,
            "border": null,
            "bottom": null,
            "display": null,
            "flex": null,
            "flex_flow": null,
            "grid_area": null,
            "grid_auto_columns": null,
            "grid_auto_flow": null,
            "grid_auto_rows": null,
            "grid_column": null,
            "grid_gap": null,
            "grid_row": null,
            "grid_template_areas": null,
            "grid_template_columns": null,
            "grid_template_rows": null,
            "height": null,
            "justify_content": null,
            "justify_items": null,
            "left": null,
            "margin": null,
            "max_height": null,
            "max_width": null,
            "min_height": null,
            "min_width": null,
            "object_fit": null,
            "object_position": null,
            "order": null,
            "overflow": null,
            "overflow_x": null,
            "overflow_y": null,
            "padding": null,
            "right": null,
            "top": null,
            "visibility": null,
            "width": null
          }
        },
        "5bd5ad249cb2434cb7ad25f02ae991cf": {
          "model_module": "@jupyter-widgets/base",
          "model_module_version": "1.2.0",
          "model_name": "LayoutModel",
          "state": {
            "_model_module": "@jupyter-widgets/base",
            "_model_module_version": "1.2.0",
            "_model_name": "LayoutModel",
            "_view_count": null,
            "_view_module": "@jupyter-widgets/base",
            "_view_module_version": "1.2.0",
            "_view_name": "LayoutView",
            "align_content": null,
            "align_items": null,
            "align_self": null,
            "border": null,
            "bottom": null,
            "display": null,
            "flex": null,
            "flex_flow": null,
            "grid_area": null,
            "grid_auto_columns": null,
            "grid_auto_flow": null,
            "grid_auto_rows": null,
            "grid_column": null,
            "grid_gap": null,
            "grid_row": null,
            "grid_template_areas": null,
            "grid_template_columns": null,
            "grid_template_rows": null,
            "height": null,
            "justify_content": null,
            "justify_items": null,
            "left": null,
            "margin": null,
            "max_height": null,
            "max_width": null,
            "min_height": null,
            "min_width": null,
            "object_fit": null,
            "object_position": null,
            "order": null,
            "overflow": null,
            "overflow_x": null,
            "overflow_y": null,
            "padding": null,
            "right": null,
            "top": null,
            "visibility": null,
            "width": null
          }
        },
        "5caff1568dc44b249caa58848577c277": {
          "model_module": "@jupyter-widgets/controls",
          "model_module_version": "1.5.0",
          "model_name": "DescriptionStyleModel",
          "state": {
            "_model_module": "@jupyter-widgets/controls",
            "_model_module_version": "1.5.0",
            "_model_name": "DescriptionStyleModel",
            "_view_count": null,
            "_view_module": "@jupyter-widgets/base",
            "_view_module_version": "1.2.0",
            "_view_name": "StyleView",
            "description_width": ""
          }
        },
        "5f4d81b6c1fd482d963bfcd9e4cc3f47": {
          "model_module": "@jupyter-widgets/controls",
          "model_module_version": "1.5.0",
          "model_name": "HTMLModel",
          "state": {
            "_dom_classes": [],
            "_model_module": "@jupyter-widgets/controls",
            "_model_module_version": "1.5.0",
            "_model_name": "HTMLModel",
            "_view_count": null,
            "_view_module": "@jupyter-widgets/controls",
            "_view_module_version": "1.5.0",
            "_view_name": "HTMLView",
            "description": "",
            "description_tooltip": null,
            "layout": "IPY_MODEL_32183becc41047d5a88c1b782757b474",
            "placeholder": "​",
            "style": "IPY_MODEL_21c6bef3797a4717b29d6d81ba589550",
            "value": " 12.3k/12.3k [00:00&lt;00:00, 286kB/s]"
          }
        },
        "60b4295569a848a9a81c65ad31482d17": {
          "model_module": "@jupyter-widgets/controls",
          "model_module_version": "1.5.0",
          "model_name": "HTMLModel",
          "state": {
            "_dom_classes": [],
            "_model_module": "@jupyter-widgets/controls",
            "_model_module_version": "1.5.0",
            "_model_name": "HTMLModel",
            "_view_count": null,
            "_view_module": "@jupyter-widgets/controls",
            "_view_module_version": "1.5.0",
            "_view_name": "HTMLView",
            "description": "",
            "description_tooltip": null,
            "layout": "IPY_MODEL_aa085eff17574845a371c13895aa6990",
            "placeholder": "​",
            "style": "IPY_MODEL_f2007d4835ef4a6390be0197316aa97d",
            "value": " 3250/3250 [00:00&lt;00:00, 4321.19 examples/s]"
          }
        },
        "60c8ae6297bd4e7e8c3c1d8d6e3387b3": {
          "model_module": "@jupyter-widgets/base",
          "model_module_version": "1.2.0",
          "model_name": "LayoutModel",
          "state": {
            "_model_module": "@jupyter-widgets/base",
            "_model_module_version": "1.2.0",
            "_model_name": "LayoutModel",
            "_view_count": null,
            "_view_module": "@jupyter-widgets/base",
            "_view_module_version": "1.2.0",
            "_view_name": "LayoutView",
            "align_content": null,
            "align_items": null,
            "align_self": null,
            "border": null,
            "bottom": null,
            "display": null,
            "flex": null,
            "flex_flow": null,
            "grid_area": null,
            "grid_auto_columns": null,
            "grid_auto_flow": null,
            "grid_auto_rows": null,
            "grid_column": null,
            "grid_gap": null,
            "grid_row": null,
            "grid_template_areas": null,
            "grid_template_columns": null,
            "grid_template_rows": null,
            "height": null,
            "justify_content": null,
            "justify_items": null,
            "left": null,
            "margin": null,
            "max_height": null,
            "max_width": null,
            "min_height": null,
            "min_width": null,
            "object_fit": null,
            "object_position": null,
            "order": null,
            "overflow": null,
            "overflow_x": null,
            "overflow_y": null,
            "padding": null,
            "right": null,
            "top": null,
            "visibility": null,
            "width": null
          }
        },
        "60fbac0986ea4ba9bef01dc43abf38aa": {
          "model_module": "@jupyter-widgets/base",
          "model_module_version": "1.2.0",
          "model_name": "LayoutModel",
          "state": {
            "_model_module": "@jupyter-widgets/base",
            "_model_module_version": "1.2.0",
            "_model_name": "LayoutModel",
            "_view_count": null,
            "_view_module": "@jupyter-widgets/base",
            "_view_module_version": "1.2.0",
            "_view_name": "LayoutView",
            "align_content": null,
            "align_items": null,
            "align_self": null,
            "border": null,
            "bottom": null,
            "display": null,
            "flex": null,
            "flex_flow": null,
            "grid_area": null,
            "grid_auto_columns": null,
            "grid_auto_flow": null,
            "grid_auto_rows": null,
            "grid_column": null,
            "grid_gap": null,
            "grid_row": null,
            "grid_template_areas": null,
            "grid_template_columns": null,
            "grid_template_rows": null,
            "height": null,
            "justify_content": null,
            "justify_items": null,
            "left": null,
            "margin": null,
            "max_height": null,
            "max_width": null,
            "min_height": null,
            "min_width": null,
            "object_fit": null,
            "object_position": null,
            "order": null,
            "overflow": null,
            "overflow_x": null,
            "overflow_y": null,
            "padding": null,
            "right": null,
            "top": null,
            "visibility": null,
            "width": null
          }
        },
        "6113d41190cc486babfdbf3efb3a1fee": {
          "model_module": "@jupyter-widgets/controls",
          "model_module_version": "1.5.0",
          "model_name": "ProgressStyleModel",
          "state": {
            "_model_module": "@jupyter-widgets/controls",
            "_model_module_version": "1.5.0",
            "_model_name": "ProgressStyleModel",
            "_view_count": null,
            "_view_module": "@jupyter-widgets/base",
            "_view_module_version": "1.2.0",
            "_view_name": "StyleView",
            "bar_color": null,
            "description_width": ""
          }
        },
        "634a8d609d1644d4bd76ea03e9266183": {
          "model_module": "@jupyter-widgets/base",
          "model_module_version": "1.2.0",
          "model_name": "LayoutModel",
          "state": {
            "_model_module": "@jupyter-widgets/base",
            "_model_module_version": "1.2.0",
            "_model_name": "LayoutModel",
            "_view_count": null,
            "_view_module": "@jupyter-widgets/base",
            "_view_module_version": "1.2.0",
            "_view_name": "LayoutView",
            "align_content": null,
            "align_items": null,
            "align_self": null,
            "border": null,
            "bottom": null,
            "display": null,
            "flex": null,
            "flex_flow": null,
            "grid_area": null,
            "grid_auto_columns": null,
            "grid_auto_flow": null,
            "grid_auto_rows": null,
            "grid_column": null,
            "grid_gap": null,
            "grid_row": null,
            "grid_template_areas": null,
            "grid_template_columns": null,
            "grid_template_rows": null,
            "height": null,
            "justify_content": null,
            "justify_items": null,
            "left": null,
            "margin": null,
            "max_height": null,
            "max_width": null,
            "min_height": null,
            "min_width": null,
            "object_fit": null,
            "object_position": null,
            "order": null,
            "overflow": null,
            "overflow_x": null,
            "overflow_y": null,
            "padding": null,
            "right": null,
            "top": null,
            "visibility": null,
            "width": null
          }
        },
        "63b43a7e70694432895f9246fd81b53e": {
          "model_module": "@jupyter-widgets/base",
          "model_module_version": "1.2.0",
          "model_name": "LayoutModel",
          "state": {
            "_model_module": "@jupyter-widgets/base",
            "_model_module_version": "1.2.0",
            "_model_name": "LayoutModel",
            "_view_count": null,
            "_view_module": "@jupyter-widgets/base",
            "_view_module_version": "1.2.0",
            "_view_name": "LayoutView",
            "align_content": null,
            "align_items": null,
            "align_self": null,
            "border": null,
            "bottom": null,
            "display": null,
            "flex": null,
            "flex_flow": null,
            "grid_area": null,
            "grid_auto_columns": null,
            "grid_auto_flow": null,
            "grid_auto_rows": null,
            "grid_column": null,
            "grid_gap": null,
            "grid_row": null,
            "grid_template_areas": null,
            "grid_template_columns": null,
            "grid_template_rows": null,
            "height": null,
            "justify_content": null,
            "justify_items": null,
            "left": null,
            "margin": null,
            "max_height": null,
            "max_width": null,
            "min_height": null,
            "min_width": null,
            "object_fit": null,
            "object_position": null,
            "order": null,
            "overflow": null,
            "overflow_x": null,
            "overflow_y": null,
            "padding": null,
            "right": null,
            "top": null,
            "visibility": null,
            "width": null
          }
        },
        "6520a7fdd6904898bb6b7ac32a8cd47d": {
          "model_module": "@jupyter-widgets/base",
          "model_module_version": "1.2.0",
          "model_name": "LayoutModel",
          "state": {
            "_model_module": "@jupyter-widgets/base",
            "_model_module_version": "1.2.0",
            "_model_name": "LayoutModel",
            "_view_count": null,
            "_view_module": "@jupyter-widgets/base",
            "_view_module_version": "1.2.0",
            "_view_name": "LayoutView",
            "align_content": null,
            "align_items": null,
            "align_self": null,
            "border": null,
            "bottom": null,
            "display": null,
            "flex": null,
            "flex_flow": null,
            "grid_area": null,
            "grid_auto_columns": null,
            "grid_auto_flow": null,
            "grid_auto_rows": null,
            "grid_column": null,
            "grid_gap": null,
            "grid_row": null,
            "grid_template_areas": null,
            "grid_template_columns": null,
            "grid_template_rows": null,
            "height": null,
            "justify_content": null,
            "justify_items": null,
            "left": null,
            "margin": null,
            "max_height": null,
            "max_width": null,
            "min_height": null,
            "min_width": null,
            "object_fit": null,
            "object_position": null,
            "order": null,
            "overflow": null,
            "overflow_x": null,
            "overflow_y": null,
            "padding": null,
            "right": null,
            "top": null,
            "visibility": null,
            "width": null
          }
        },
        "6a234e28a10c41fd84eb9b8e42ed96b0": {
          "model_module": "@jupyter-widgets/controls",
          "model_module_version": "1.5.0",
          "model_name": "ProgressStyleModel",
          "state": {
            "_model_module": "@jupyter-widgets/controls",
            "_model_module_version": "1.5.0",
            "_model_name": "ProgressStyleModel",
            "_view_count": null,
            "_view_module": "@jupyter-widgets/base",
            "_view_module_version": "1.2.0",
            "_view_name": "StyleView",
            "bar_color": null,
            "description_width": ""
          }
        },
        "6c2c98ba0530459eb8e53fffb158684d": {
          "model_module": "@jupyter-widgets/controls",
          "model_module_version": "1.5.0",
          "model_name": "DescriptionStyleModel",
          "state": {
            "_model_module": "@jupyter-widgets/controls",
            "_model_module_version": "1.5.0",
            "_model_name": "DescriptionStyleModel",
            "_view_count": null,
            "_view_module": "@jupyter-widgets/base",
            "_view_module_version": "1.2.0",
            "_view_name": "StyleView",
            "description_width": ""
          }
        },
        "6d2fa25014224d6a86da4b9e6e710aca": {
          "model_module": "@jupyter-widgets/base",
          "model_module_version": "1.2.0",
          "model_name": "LayoutModel",
          "state": {
            "_model_module": "@jupyter-widgets/base",
            "_model_module_version": "1.2.0",
            "_model_name": "LayoutModel",
            "_view_count": null,
            "_view_module": "@jupyter-widgets/base",
            "_view_module_version": "1.2.0",
            "_view_name": "LayoutView",
            "align_content": null,
            "align_items": null,
            "align_self": null,
            "border": null,
            "bottom": null,
            "display": null,
            "flex": null,
            "flex_flow": null,
            "grid_area": null,
            "grid_auto_columns": null,
            "grid_auto_flow": null,
            "grid_auto_rows": null,
            "grid_column": null,
            "grid_gap": null,
            "grid_row": null,
            "grid_template_areas": null,
            "grid_template_columns": null,
            "grid_template_rows": null,
            "height": null,
            "justify_content": null,
            "justify_items": null,
            "left": null,
            "margin": null,
            "max_height": null,
            "max_width": null,
            "min_height": null,
            "min_width": null,
            "object_fit": null,
            "object_position": null,
            "order": null,
            "overflow": null,
            "overflow_x": null,
            "overflow_y": null,
            "padding": null,
            "right": null,
            "top": null,
            "visibility": null,
            "width": null
          }
        },
        "745b4d79fd1443ddafd8e5470991ecb2": {
          "model_module": "@jupyter-widgets/base",
          "model_module_version": "1.2.0",
          "model_name": "LayoutModel",
          "state": {
            "_model_module": "@jupyter-widgets/base",
            "_model_module_version": "1.2.0",
            "_model_name": "LayoutModel",
            "_view_count": null,
            "_view_module": "@jupyter-widgets/base",
            "_view_module_version": "1.2.0",
            "_view_name": "LayoutView",
            "align_content": null,
            "align_items": null,
            "align_self": null,
            "border": null,
            "bottom": null,
            "display": null,
            "flex": null,
            "flex_flow": null,
            "grid_area": null,
            "grid_auto_columns": null,
            "grid_auto_flow": null,
            "grid_auto_rows": null,
            "grid_column": null,
            "grid_gap": null,
            "grid_row": null,
            "grid_template_areas": null,
            "grid_template_columns": null,
            "grid_template_rows": null,
            "height": null,
            "justify_content": null,
            "justify_items": null,
            "left": null,
            "margin": null,
            "max_height": null,
            "max_width": null,
            "min_height": null,
            "min_width": null,
            "object_fit": null,
            "object_position": null,
            "order": null,
            "overflow": null,
            "overflow_x": null,
            "overflow_y": null,
            "padding": null,
            "right": null,
            "top": null,
            "visibility": null,
            "width": null
          }
        },
        "795b971c58704f90ba46fdef7c20942c": {
          "model_module": "@jupyter-widgets/controls",
          "model_module_version": "1.5.0",
          "model_name": "DescriptionStyleModel",
          "state": {
            "_model_module": "@jupyter-widgets/controls",
            "_model_module_version": "1.5.0",
            "_model_name": "DescriptionStyleModel",
            "_view_count": null,
            "_view_module": "@jupyter-widgets/base",
            "_view_module_version": "1.2.0",
            "_view_name": "StyleView",
            "description_width": ""
          }
        },
        "799df88c584d4234bfe4a48ae9834d4f": {
          "model_module": "@jupyter-widgets/controls",
          "model_module_version": "1.5.0",
          "model_name": "ProgressStyleModel",
          "state": {
            "_model_module": "@jupyter-widgets/controls",
            "_model_module_version": "1.5.0",
            "_model_name": "ProgressStyleModel",
            "_view_count": null,
            "_view_module": "@jupyter-widgets/base",
            "_view_module_version": "1.2.0",
            "_view_name": "StyleView",
            "bar_color": null,
            "description_width": ""
          }
        },
        "7d79f4f8f2ac458c9258f68a8744a4e8": {
          "model_module": "@jupyter-widgets/controls",
          "model_module_version": "1.5.0",
          "model_name": "FloatProgressModel",
          "state": {
            "_dom_classes": [],
            "_model_module": "@jupyter-widgets/controls",
            "_model_module_version": "1.5.0",
            "_model_name": "FloatProgressModel",
            "_view_count": null,
            "_view_module": "@jupyter-widgets/controls",
            "_view_module_version": "1.5.0",
            "_view_name": "ProgressView",
            "bar_style": "success",
            "description": "",
            "description_tooltip": null,
            "layout": "IPY_MODEL_6520a7fdd6904898bb6b7ac32a8cd47d",
            "max": 3453,
            "min": 0,
            "orientation": "horizontal",
            "style": "IPY_MODEL_b26848a230fc49bfbf9c9d515704ba64",
            "value": 3453
          }
        },
        "7f2657e56d0f4970a4ef9e649c7117c0": {
          "model_module": "@jupyter-widgets/controls",
          "model_module_version": "1.5.0",
          "model_name": "HBoxModel",
          "state": {
            "_dom_classes": [],
            "_model_module": "@jupyter-widgets/controls",
            "_model_module_version": "1.5.0",
            "_model_name": "HBoxModel",
            "_view_count": null,
            "_view_module": "@jupyter-widgets/controls",
            "_view_module_version": "1.5.0",
            "_view_name": "HBoxView",
            "box_style": "",
            "children": [
              "IPY_MODEL_1f24477213194fbc99f996299c3732c8",
              "IPY_MODEL_3bf0d374aec640be85fb4dae1e5045ff",
              "IPY_MODEL_da82fb43cfd94519af9051eb37e7cbbc"
            ],
            "layout": "IPY_MODEL_10760c39a5d8474f97ea4014c6ff7174"
          }
        },
        "7fea6c65bd8f402490dd044f4648eeb7": {
          "model_module": "@jupyter-widgets/base",
          "model_module_version": "1.2.0",
          "model_name": "LayoutModel",
          "state": {
            "_model_module": "@jupyter-widgets/base",
            "_model_module_version": "1.2.0",
            "_model_name": "LayoutModel",
            "_view_count": null,
            "_view_module": "@jupyter-widgets/base",
            "_view_module_version": "1.2.0",
            "_view_name": "LayoutView",
            "align_content": null,
            "align_items": null,
            "align_self": null,
            "border": null,
            "bottom": null,
            "display": null,
            "flex": null,
            "flex_flow": null,
            "grid_area": null,
            "grid_auto_columns": null,
            "grid_auto_flow": null,
            "grid_auto_rows": null,
            "grid_column": null,
            "grid_gap": null,
            "grid_row": null,
            "grid_template_areas": null,
            "grid_template_columns": null,
            "grid_template_rows": null,
            "height": null,
            "justify_content": null,
            "justify_items": null,
            "left": null,
            "margin": null,
            "max_height": null,
            "max_width": null,
            "min_height": null,
            "min_width": null,
            "object_fit": null,
            "object_position": null,
            "order": null,
            "overflow": null,
            "overflow_x": null,
            "overflow_y": null,
            "padding": null,
            "right": null,
            "top": null,
            "visibility": null,
            "width": null
          }
        },
        "830d1e5b43bc4c4e8877d2665709ead1": {
          "model_module": "@jupyter-widgets/controls",
          "model_module_version": "1.5.0",
          "model_name": "DescriptionStyleModel",
          "state": {
            "_model_module": "@jupyter-widgets/controls",
            "_model_module_version": "1.5.0",
            "_model_name": "DescriptionStyleModel",
            "_view_count": null,
            "_view_module": "@jupyter-widgets/base",
            "_view_module_version": "1.2.0",
            "_view_name": "StyleView",
            "description_width": ""
          }
        },
        "839643ec688e448b9f0b5afdcdb1be12": {
          "model_module": "@jupyter-widgets/base",
          "model_module_version": "1.2.0",
          "model_name": "LayoutModel",
          "state": {
            "_model_module": "@jupyter-widgets/base",
            "_model_module_version": "1.2.0",
            "_model_name": "LayoutModel",
            "_view_count": null,
            "_view_module": "@jupyter-widgets/base",
            "_view_module_version": "1.2.0",
            "_view_name": "LayoutView",
            "align_content": null,
            "align_items": null,
            "align_self": null,
            "border": null,
            "bottom": null,
            "display": null,
            "flex": null,
            "flex_flow": null,
            "grid_area": null,
            "grid_auto_columns": null,
            "grid_auto_flow": null,
            "grid_auto_rows": null,
            "grid_column": null,
            "grid_gap": null,
            "grid_row": null,
            "grid_template_areas": null,
            "grid_template_columns": null,
            "grid_template_rows": null,
            "height": null,
            "justify_content": null,
            "justify_items": null,
            "left": null,
            "margin": null,
            "max_height": null,
            "max_width": null,
            "min_height": null,
            "min_width": null,
            "object_fit": null,
            "object_position": null,
            "order": null,
            "overflow": null,
            "overflow_x": null,
            "overflow_y": null,
            "padding": null,
            "right": null,
            "top": null,
            "visibility": null,
            "width": null
          }
        },
        "86eb199710694fb6a9a86ab3cd7eaf0a": {
          "model_module": "@jupyter-widgets/controls",
          "model_module_version": "1.5.0",
          "model_name": "DescriptionStyleModel",
          "state": {
            "_model_module": "@jupyter-widgets/controls",
            "_model_module_version": "1.5.0",
            "_model_name": "DescriptionStyleModel",
            "_view_count": null,
            "_view_module": "@jupyter-widgets/base",
            "_view_module_version": "1.2.0",
            "_view_name": "StyleView",
            "description_width": ""
          }
        },
        "874bbc8d0f844d00bfaad768458b7867": {
          "model_module": "@jupyter-widgets/base",
          "model_module_version": "1.2.0",
          "model_name": "LayoutModel",
          "state": {
            "_model_module": "@jupyter-widgets/base",
            "_model_module_version": "1.2.0",
            "_model_name": "LayoutModel",
            "_view_count": null,
            "_view_module": "@jupyter-widgets/base",
            "_view_module_version": "1.2.0",
            "_view_name": "LayoutView",
            "align_content": null,
            "align_items": null,
            "align_self": null,
            "border": null,
            "bottom": null,
            "display": null,
            "flex": null,
            "flex_flow": null,
            "grid_area": null,
            "grid_auto_columns": null,
            "grid_auto_flow": null,
            "grid_auto_rows": null,
            "grid_column": null,
            "grid_gap": null,
            "grid_row": null,
            "grid_template_areas": null,
            "grid_template_columns": null,
            "grid_template_rows": null,
            "height": null,
            "justify_content": null,
            "justify_items": null,
            "left": null,
            "margin": null,
            "max_height": null,
            "max_width": null,
            "min_height": null,
            "min_width": null,
            "object_fit": null,
            "object_position": null,
            "order": null,
            "overflow": null,
            "overflow_x": null,
            "overflow_y": null,
            "padding": null,
            "right": null,
            "top": null,
            "visibility": null,
            "width": null
          }
        },
        "886d892bd8044971bc50e6b5e4df082a": {
          "model_module": "@jupyter-widgets/controls",
          "model_module_version": "1.5.0",
          "model_name": "ProgressStyleModel",
          "state": {
            "_model_module": "@jupyter-widgets/controls",
            "_model_module_version": "1.5.0",
            "_model_name": "ProgressStyleModel",
            "_view_count": null,
            "_view_module": "@jupyter-widgets/base",
            "_view_module_version": "1.2.0",
            "_view_name": "StyleView",
            "bar_color": null,
            "description_width": ""
          }
        },
        "88f051f5326a4c4db5de3eebad77574c": {
          "model_module": "@jupyter-widgets/controls",
          "model_module_version": "1.5.0",
          "model_name": "HTMLModel",
          "state": {
            "_dom_classes": [],
            "_model_module": "@jupyter-widgets/controls",
            "_model_module_version": "1.5.0",
            "_model_name": "HTMLModel",
            "_view_count": null,
            "_view_module": "@jupyter-widgets/controls",
            "_view_module_version": "1.5.0",
            "_view_name": "HTMLView",
            "description": "",
            "description_tooltip": null,
            "layout": "IPY_MODEL_3e94226c60c348e987d01304d83a2efb",
            "placeholder": "​",
            "style": "IPY_MODEL_6c2c98ba0530459eb8e53fffb158684d",
            "value": " 14041/14041 [00:06&lt;00:00, 2433.27 examples/s]"
          }
        },
        "8b6d91f2d1794300a8bcb11c43e3cf2d": {
          "model_module": "@jupyter-widgets/controls",
          "model_module_version": "1.5.0",
          "model_name": "ProgressStyleModel",
          "state": {
            "_model_module": "@jupyter-widgets/controls",
            "_model_module_version": "1.5.0",
            "_model_name": "ProgressStyleModel",
            "_view_count": null,
            "_view_module": "@jupyter-widgets/base",
            "_view_module_version": "1.2.0",
            "_view_name": "StyleView",
            "bar_color": null,
            "description_width": ""
          }
        },
        "8c1ff12a53eb4eddabd609cbc60ca4f5": {
          "model_module": "@jupyter-widgets/base",
          "model_module_version": "1.2.0",
          "model_name": "LayoutModel",
          "state": {
            "_model_module": "@jupyter-widgets/base",
            "_model_module_version": "1.2.0",
            "_model_name": "LayoutModel",
            "_view_count": null,
            "_view_module": "@jupyter-widgets/base",
            "_view_module_version": "1.2.0",
            "_view_name": "LayoutView",
            "align_content": null,
            "align_items": null,
            "align_self": null,
            "border": null,
            "bottom": null,
            "display": null,
            "flex": null,
            "flex_flow": null,
            "grid_area": null,
            "grid_auto_columns": null,
            "grid_auto_flow": null,
            "grid_auto_rows": null,
            "grid_column": null,
            "grid_gap": null,
            "grid_row": null,
            "grid_template_areas": null,
            "grid_template_columns": null,
            "grid_template_rows": null,
            "height": null,
            "justify_content": null,
            "justify_items": null,
            "left": null,
            "margin": null,
            "max_height": null,
            "max_width": null,
            "min_height": null,
            "min_width": null,
            "object_fit": null,
            "object_position": null,
            "order": null,
            "overflow": null,
            "overflow_x": null,
            "overflow_y": null,
            "padding": null,
            "right": null,
            "top": null,
            "visibility": null,
            "width": null
          }
        },
        "8ce6ca036f284e55a0251c7f1e639f28": {
          "model_module": "@jupyter-widgets/controls",
          "model_module_version": "1.5.0",
          "model_name": "HBoxModel",
          "state": {
            "_dom_classes": [],
            "_model_module": "@jupyter-widgets/controls",
            "_model_module_version": "1.5.0",
            "_model_name": "HBoxModel",
            "_view_count": null,
            "_view_module": "@jupyter-widgets/controls",
            "_view_module_version": "1.5.0",
            "_view_name": "HBoxView",
            "box_style": "",
            "children": [
              "IPY_MODEL_b0b6c47afd8947518ebc0ff0c41b4525",
              "IPY_MODEL_d96a8e76c6424621a32f5d1bca10c52f",
              "IPY_MODEL_94b8b77078b4487fa7ae6eae17b47276"
            ],
            "layout": "IPY_MODEL_4cb0ac8727d2489694fc328d69df2a04"
          }
        },
        "931ee3038dc341d1aba1f5dc94ccc9b4": {
          "model_module": "@jupyter-widgets/controls",
          "model_module_version": "1.5.0",
          "model_name": "FloatProgressModel",
          "state": {
            "_dom_classes": [],
            "_model_module": "@jupyter-widgets/controls",
            "_model_module_version": "1.5.0",
            "_model_name": "FloatProgressModel",
            "_view_count": null,
            "_view_module": "@jupyter-widgets/controls",
            "_view_module_version": "1.5.0",
            "_view_name": "ProgressView",
            "bar_style": "success",
            "description": "",
            "description_tooltip": null,
            "layout": "IPY_MODEL_8c1ff12a53eb4eddabd609cbc60ca4f5",
            "max": 6338,
            "min": 0,
            "orientation": "horizontal",
            "style": "IPY_MODEL_799df88c584d4234bfe4a48ae9834d4f",
            "value": 6338
          }
        },
        "941468310ed74fcfa36b50ea6b563306": {
          "model_module": "@jupyter-widgets/base",
          "model_module_version": "1.2.0",
          "model_name": "LayoutModel",
          "state": {
            "_model_module": "@jupyter-widgets/base",
            "_model_module_version": "1.2.0",
            "_model_name": "LayoutModel",
            "_view_count": null,
            "_view_module": "@jupyter-widgets/base",
            "_view_module_version": "1.2.0",
            "_view_name": "LayoutView",
            "align_content": null,
            "align_items": null,
            "align_self": null,
            "border": null,
            "bottom": null,
            "display": null,
            "flex": null,
            "flex_flow": null,
            "grid_area": null,
            "grid_auto_columns": null,
            "grid_auto_flow": null,
            "grid_auto_rows": null,
            "grid_column": null,
            "grid_gap": null,
            "grid_row": null,
            "grid_template_areas": null,
            "grid_template_columns": null,
            "grid_template_rows": null,
            "height": null,
            "justify_content": null,
            "justify_items": null,
            "left": null,
            "margin": null,
            "max_height": null,
            "max_width": null,
            "min_height": null,
            "min_width": null,
            "object_fit": null,
            "object_position": null,
            "order": null,
            "overflow": null,
            "overflow_x": null,
            "overflow_y": null,
            "padding": null,
            "right": null,
            "top": null,
            "visibility": null,
            "width": null
          }
        },
        "94b8b77078b4487fa7ae6eae17b47276": {
          "model_module": "@jupyter-widgets/controls",
          "model_module_version": "1.5.0",
          "model_name": "HTMLModel",
          "state": {
            "_dom_classes": [],
            "_model_module": "@jupyter-widgets/controls",
            "_model_module_version": "1.5.0",
            "_model_name": "HTMLModel",
            "_view_count": null,
            "_view_module": "@jupyter-widgets/controls",
            "_view_module_version": "1.5.0",
            "_view_name": "HTMLView",
            "description": "",
            "description_tooltip": null,
            "layout": "IPY_MODEL_af13305d83ce4947a17a20d723511d7d",
            "placeholder": "​",
            "style": "IPY_MODEL_5caff1568dc44b249caa58848577c277",
            "value": " 9.57k/9.57k [00:00&lt;00:00, 177kB/s]"
          }
        },
        "95d1d867fa6c44258818539ece345a10": {
          "model_module": "@jupyter-widgets/controls",
          "model_module_version": "1.5.0",
          "model_name": "ProgressStyleModel",
          "state": {
            "_model_module": "@jupyter-widgets/controls",
            "_model_module_version": "1.5.0",
            "_model_name": "ProgressStyleModel",
            "_view_count": null,
            "_view_module": "@jupyter-widgets/base",
            "_view_module_version": "1.2.0",
            "_view_name": "StyleView",
            "bar_color": null,
            "description_width": ""
          }
        },
        "98215993763149419b58ca1dd02e3e2d": {
          "model_module": "@jupyter-widgets/base",
          "model_module_version": "1.2.0",
          "model_name": "LayoutModel",
          "state": {
            "_model_module": "@jupyter-widgets/base",
            "_model_module_version": "1.2.0",
            "_model_name": "LayoutModel",
            "_view_count": null,
            "_view_module": "@jupyter-widgets/base",
            "_view_module_version": "1.2.0",
            "_view_name": "LayoutView",
            "align_content": null,
            "align_items": null,
            "align_self": null,
            "border": null,
            "bottom": null,
            "display": null,
            "flex": null,
            "flex_flow": null,
            "grid_area": null,
            "grid_auto_columns": null,
            "grid_auto_flow": null,
            "grid_auto_rows": null,
            "grid_column": null,
            "grid_gap": null,
            "grid_row": null,
            "grid_template_areas": null,
            "grid_template_columns": null,
            "grid_template_rows": null,
            "height": null,
            "justify_content": null,
            "justify_items": null,
            "left": null,
            "margin": null,
            "max_height": null,
            "max_width": null,
            "min_height": null,
            "min_width": null,
            "object_fit": null,
            "object_position": null,
            "order": null,
            "overflow": null,
            "overflow_x": null,
            "overflow_y": null,
            "padding": null,
            "right": null,
            "top": null,
            "visibility": null,
            "width": null
          }
        },
        "984aa0cf6c3b45568165fa83c37ed850": {
          "model_module": "@jupyter-widgets/base",
          "model_module_version": "1.2.0",
          "model_name": "LayoutModel",
          "state": {
            "_model_module": "@jupyter-widgets/base",
            "_model_module_version": "1.2.0",
            "_model_name": "LayoutModel",
            "_view_count": null,
            "_view_module": "@jupyter-widgets/base",
            "_view_module_version": "1.2.0",
            "_view_name": "LayoutView",
            "align_content": null,
            "align_items": null,
            "align_self": null,
            "border": null,
            "bottom": null,
            "display": null,
            "flex": null,
            "flex_flow": null,
            "grid_area": null,
            "grid_auto_columns": null,
            "grid_auto_flow": null,
            "grid_auto_rows": null,
            "grid_column": null,
            "grid_gap": null,
            "grid_row": null,
            "grid_template_areas": null,
            "grid_template_columns": null,
            "grid_template_rows": null,
            "height": null,
            "justify_content": null,
            "justify_items": null,
            "left": null,
            "margin": null,
            "max_height": null,
            "max_width": null,
            "min_height": null,
            "min_width": null,
            "object_fit": null,
            "object_position": null,
            "order": null,
            "overflow": null,
            "overflow_x": null,
            "overflow_y": null,
            "padding": null,
            "right": null,
            "top": null,
            "visibility": null,
            "width": null
          }
        },
        "9a5fc1fde48e44bf8691255fd828d7b9": {
          "model_module": "@jupyter-widgets/base",
          "model_module_version": "1.2.0",
          "model_name": "LayoutModel",
          "state": {
            "_model_module": "@jupyter-widgets/base",
            "_model_module_version": "1.2.0",
            "_model_name": "LayoutModel",
            "_view_count": null,
            "_view_module": "@jupyter-widgets/base",
            "_view_module_version": "1.2.0",
            "_view_name": "LayoutView",
            "align_content": null,
            "align_items": null,
            "align_self": null,
            "border": null,
            "bottom": null,
            "display": null,
            "flex": null,
            "flex_flow": null,
            "grid_area": null,
            "grid_auto_columns": null,
            "grid_auto_flow": null,
            "grid_auto_rows": null,
            "grid_column": null,
            "grid_gap": null,
            "grid_row": null,
            "grid_template_areas": null,
            "grid_template_columns": null,
            "grid_template_rows": null,
            "height": null,
            "justify_content": null,
            "justify_items": null,
            "left": null,
            "margin": null,
            "max_height": null,
            "max_width": null,
            "min_height": null,
            "min_width": null,
            "object_fit": null,
            "object_position": null,
            "order": null,
            "overflow": null,
            "overflow_x": null,
            "overflow_y": null,
            "padding": null,
            "right": null,
            "top": null,
            "visibility": null,
            "width": null
          }
        },
        "9c08127a884543cda3afd10755f03ed8": {
          "model_module": "@jupyter-widgets/base",
          "model_module_version": "1.2.0",
          "model_name": "LayoutModel",
          "state": {
            "_model_module": "@jupyter-widgets/base",
            "_model_module_version": "1.2.0",
            "_model_name": "LayoutModel",
            "_view_count": null,
            "_view_module": "@jupyter-widgets/base",
            "_view_module_version": "1.2.0",
            "_view_name": "LayoutView",
            "align_content": null,
            "align_items": null,
            "align_self": null,
            "border": null,
            "bottom": null,
            "display": null,
            "flex": null,
            "flex_flow": null,
            "grid_area": null,
            "grid_auto_columns": null,
            "grid_auto_flow": null,
            "grid_auto_rows": null,
            "grid_column": null,
            "grid_gap": null,
            "grid_row": null,
            "grid_template_areas": null,
            "grid_template_columns": null,
            "grid_template_rows": null,
            "height": null,
            "justify_content": null,
            "justify_items": null,
            "left": null,
            "margin": null,
            "max_height": null,
            "max_width": null,
            "min_height": null,
            "min_width": null,
            "object_fit": null,
            "object_position": null,
            "order": null,
            "overflow": null,
            "overflow_x": null,
            "overflow_y": null,
            "padding": null,
            "right": null,
            "top": null,
            "visibility": null,
            "width": null
          }
        },
        "9c467f91e90d4c7b9ba382b8921f144c": {
          "model_module": "@jupyter-widgets/controls",
          "model_module_version": "1.5.0",
          "model_name": "HTMLModel",
          "state": {
            "_dom_classes": [],
            "_model_module": "@jupyter-widgets/controls",
            "_model_module_version": "1.5.0",
            "_model_name": "HTMLModel",
            "_view_count": null,
            "_view_module": "@jupyter-widgets/controls",
            "_view_module_version": "1.5.0",
            "_view_name": "HTMLView",
            "description": "",
            "description_tooltip": null,
            "layout": "IPY_MODEL_bcc66e7e1bf7484aaaa8542919c6b25b",
            "placeholder": "​",
            "style": "IPY_MODEL_fea9ae44b1fb4b4f915a52293354b41c",
            "value": "Generating validation split: 100%"
          }
        },
        "9ce1bf8c2a98418abc62b77b484adac9": {
          "model_module": "@jupyter-widgets/base",
          "model_module_version": "1.2.0",
          "model_name": "LayoutModel",
          "state": {
            "_model_module": "@jupyter-widgets/base",
            "_model_module_version": "1.2.0",
            "_model_name": "LayoutModel",
            "_view_count": null,
            "_view_module": "@jupyter-widgets/base",
            "_view_module_version": "1.2.0",
            "_view_name": "LayoutView",
            "align_content": null,
            "align_items": null,
            "align_self": null,
            "border": null,
            "bottom": null,
            "display": null,
            "flex": null,
            "flex_flow": null,
            "grid_area": null,
            "grid_auto_columns": null,
            "grid_auto_flow": null,
            "grid_auto_rows": null,
            "grid_column": null,
            "grid_gap": null,
            "grid_row": null,
            "grid_template_areas": null,
            "grid_template_columns": null,
            "grid_template_rows": null,
            "height": null,
            "justify_content": null,
            "justify_items": null,
            "left": null,
            "margin": null,
            "max_height": null,
            "max_width": null,
            "min_height": null,
            "min_width": null,
            "object_fit": null,
            "object_position": null,
            "order": null,
            "overflow": null,
            "overflow_x": null,
            "overflow_y": null,
            "padding": null,
            "right": null,
            "top": null,
            "visibility": null,
            "width": null
          }
        },
        "9f1cf31cfc234b5188d6bbe87a592870": {
          "model_module": "@jupyter-widgets/controls",
          "model_module_version": "1.5.0",
          "model_name": "ProgressStyleModel",
          "state": {
            "_model_module": "@jupyter-widgets/controls",
            "_model_module_version": "1.5.0",
            "_model_name": "ProgressStyleModel",
            "_view_count": null,
            "_view_module": "@jupyter-widgets/base",
            "_view_module_version": "1.2.0",
            "_view_name": "StyleView",
            "bar_color": null,
            "description_width": ""
          }
        },
        "9f39e0682e614a919f2471d633397043": {
          "model_module": "@jupyter-widgets/controls",
          "model_module_version": "1.5.0",
          "model_name": "DescriptionStyleModel",
          "state": {
            "_model_module": "@jupyter-widgets/controls",
            "_model_module_version": "1.5.0",
            "_model_name": "DescriptionStyleModel",
            "_view_count": null,
            "_view_module": "@jupyter-widgets/base",
            "_view_module_version": "1.2.0",
            "_view_name": "StyleView",
            "description_width": ""
          }
        },
        "9fc2c574cd3641dba2833ed43b00c515": {
          "model_module": "@jupyter-widgets/base",
          "model_module_version": "1.2.0",
          "model_name": "LayoutModel",
          "state": {
            "_model_module": "@jupyter-widgets/base",
            "_model_module_version": "1.2.0",
            "_model_name": "LayoutModel",
            "_view_count": null,
            "_view_module": "@jupyter-widgets/base",
            "_view_module_version": "1.2.0",
            "_view_name": "LayoutView",
            "align_content": null,
            "align_items": null,
            "align_self": null,
            "border": null,
            "bottom": null,
            "display": null,
            "flex": null,
            "flex_flow": null,
            "grid_area": null,
            "grid_auto_columns": null,
            "grid_auto_flow": null,
            "grid_auto_rows": null,
            "grid_column": null,
            "grid_gap": null,
            "grid_row": null,
            "grid_template_areas": null,
            "grid_template_columns": null,
            "grid_template_rows": null,
            "height": null,
            "justify_content": null,
            "justify_items": null,
            "left": null,
            "margin": null,
            "max_height": null,
            "max_width": null,
            "min_height": null,
            "min_width": null,
            "object_fit": null,
            "object_position": null,
            "order": null,
            "overflow": null,
            "overflow_x": null,
            "overflow_y": null,
            "padding": null,
            "right": null,
            "top": null,
            "visibility": null,
            "width": null
          }
        },
        "a24bad0024ca4c96a19fedab129e5ff3": {
          "model_module": "@jupyter-widgets/controls",
          "model_module_version": "1.5.0",
          "model_name": "HTMLModel",
          "state": {
            "_dom_classes": [],
            "_model_module": "@jupyter-widgets/controls",
            "_model_module_version": "1.5.0",
            "_model_name": "HTMLModel",
            "_view_count": null,
            "_view_module": "@jupyter-widgets/controls",
            "_view_module_version": "1.5.0",
            "_view_name": "HTMLView",
            "description": "",
            "description_tooltip": null,
            "layout": "IPY_MODEL_5ab9360d09734a42828eaa4d24de4626",
            "placeholder": "​",
            "style": "IPY_MODEL_b7c2c2bac74047b892772a84333115f2",
            "value": " 0/0 [00:00&lt;?, ?it/s]"
          }
        },
        "a48a610418564f6689652946decd8dfa": {
          "model_module": "@jupyter-widgets/controls",
          "model_module_version": "1.5.0",
          "model_name": "HTMLModel",
          "state": {
            "_dom_classes": [],
            "_model_module": "@jupyter-widgets/controls",
            "_model_module_version": "1.5.0",
            "_model_name": "HTMLModel",
            "_view_count": null,
            "_view_module": "@jupyter-widgets/controls",
            "_view_module_version": "1.5.0",
            "_view_name": "HTMLView",
            "description": "",
            "description_tooltip": null,
            "layout": "IPY_MODEL_941468310ed74fcfa36b50ea6b563306",
            "placeholder": "​",
            "style": "IPY_MODEL_b3fb940e25a24667aa9fc494cc1c71c8",
            "value": " 983k/983k [00:00&lt;00:00, 1.72MB/s]"
          }
        },
        "a4bc4821deee4dfca04dd5c0cd97b8f4": {
          "model_module": "@jupyter-widgets/controls",
          "model_module_version": "1.5.0",
          "model_name": "HTMLModel",
          "state": {
            "_dom_classes": [],
            "_model_module": "@jupyter-widgets/controls",
            "_model_module_version": "1.5.0",
            "_model_name": "HTMLModel",
            "_view_count": null,
            "_view_module": "@jupyter-widgets/controls",
            "_view_module_version": "1.5.0",
            "_view_name": "HTMLView",
            "description": "",
            "description_tooltip": null,
            "layout": "IPY_MODEL_98215993763149419b58ca1dd02e3e2d",
            "placeholder": "​",
            "style": "IPY_MODEL_145be7089c674010a08a83f69a1f9a7b",
            "value": "config.json: 100%"
          }
        },
        "a710b1e7d93b4de9b9808e23d5e44b81": {
          "model_module": "@jupyter-widgets/base",
          "model_module_version": "1.2.0",
          "model_name": "LayoutModel",
          "state": {
            "_model_module": "@jupyter-widgets/base",
            "_model_module_version": "1.2.0",
            "_model_name": "LayoutModel",
            "_view_count": null,
            "_view_module": "@jupyter-widgets/base",
            "_view_module_version": "1.2.0",
            "_view_name": "LayoutView",
            "align_content": null,
            "align_items": null,
            "align_self": null,
            "border": null,
            "bottom": null,
            "display": null,
            "flex": null,
            "flex_flow": null,
            "grid_area": null,
            "grid_auto_columns": null,
            "grid_auto_flow": null,
            "grid_auto_rows": null,
            "grid_column": null,
            "grid_gap": null,
            "grid_row": null,
            "grid_template_areas": null,
            "grid_template_columns": null,
            "grid_template_rows": null,
            "height": null,
            "justify_content": null,
            "justify_items": null,
            "left": null,
            "margin": null,
            "max_height": null,
            "max_width": null,
            "min_height": null,
            "min_width": null,
            "object_fit": null,
            "object_position": null,
            "order": null,
            "overflow": null,
            "overflow_x": null,
            "overflow_y": null,
            "padding": null,
            "right": null,
            "top": null,
            "visibility": null,
            "width": null
          }
        },
        "a73a5a384abf45b3a3a03cbe46c2c707": {
          "model_module": "@jupyter-widgets/controls",
          "model_module_version": "1.5.0",
          "model_name": "FloatProgressModel",
          "state": {
            "_dom_classes": [],
            "_model_module": "@jupyter-widgets/controls",
            "_model_module_version": "1.5.0",
            "_model_name": "FloatProgressModel",
            "_view_count": null,
            "_view_module": "@jupyter-widgets/controls",
            "_view_module_version": "1.5.0",
            "_view_name": "ProgressView",
            "bar_style": "success",
            "description": "",
            "description_tooltip": null,
            "layout": "IPY_MODEL_0ffa0edbbb234df2803fc133ec9eb531",
            "max": 1,
            "min": 0,
            "orientation": "horizontal",
            "style": "IPY_MODEL_9f1cf31cfc234b5188d6bbe87a592870",
            "value": 0
          }
        },
        "aa085eff17574845a371c13895aa6990": {
          "model_module": "@jupyter-widgets/base",
          "model_module_version": "1.2.0",
          "model_name": "LayoutModel",
          "state": {
            "_model_module": "@jupyter-widgets/base",
            "_model_module_version": "1.2.0",
            "_model_name": "LayoutModel",
            "_view_count": null,
            "_view_module": "@jupyter-widgets/base",
            "_view_module_version": "1.2.0",
            "_view_name": "LayoutView",
            "align_content": null,
            "align_items": null,
            "align_self": null,
            "border": null,
            "bottom": null,
            "display": null,
            "flex": null,
            "flex_flow": null,
            "grid_area": null,
            "grid_auto_columns": null,
            "grid_auto_flow": null,
            "grid_auto_rows": null,
            "grid_column": null,
            "grid_gap": null,
            "grid_row": null,
            "grid_template_areas": null,
            "grid_template_columns": null,
            "grid_template_rows": null,
            "height": null,
            "justify_content": null,
            "justify_items": null,
            "left": null,
            "margin": null,
            "max_height": null,
            "max_width": null,
            "min_height": null,
            "min_width": null,
            "object_fit": null,
            "object_position": null,
            "order": null,
            "overflow": null,
            "overflow_x": null,
            "overflow_y": null,
            "padding": null,
            "right": null,
            "top": null,
            "visibility": null,
            "width": null
          }
        },
        "aa3a9aa987ac4972884e0f59b7964a86": {
          "model_module": "@jupyter-widgets/base",
          "model_module_version": "1.2.0",
          "model_name": "LayoutModel",
          "state": {
            "_model_module": "@jupyter-widgets/base",
            "_model_module_version": "1.2.0",
            "_model_name": "LayoutModel",
            "_view_count": null,
            "_view_module": "@jupyter-widgets/base",
            "_view_module_version": "1.2.0",
            "_view_name": "LayoutView",
            "align_content": null,
            "align_items": null,
            "align_self": null,
            "border": null,
            "bottom": null,
            "display": null,
            "flex": null,
            "flex_flow": null,
            "grid_area": null,
            "grid_auto_columns": null,
            "grid_auto_flow": null,
            "grid_auto_rows": null,
            "grid_column": null,
            "grid_gap": null,
            "grid_row": null,
            "grid_template_areas": null,
            "grid_template_columns": null,
            "grid_template_rows": null,
            "height": null,
            "justify_content": null,
            "justify_items": null,
            "left": null,
            "margin": null,
            "max_height": null,
            "max_width": null,
            "min_height": null,
            "min_width": null,
            "object_fit": null,
            "object_position": null,
            "order": null,
            "overflow": null,
            "overflow_x": null,
            "overflow_y": null,
            "padding": null,
            "right": null,
            "top": null,
            "visibility": null,
            "width": null
          }
        },
        "aa8d97a6e953453e9fa16ed9a6996a75": {
          "model_module": "@jupyter-widgets/base",
          "model_module_version": "1.2.0",
          "model_name": "LayoutModel",
          "state": {
            "_model_module": "@jupyter-widgets/base",
            "_model_module_version": "1.2.0",
            "_model_name": "LayoutModel",
            "_view_count": null,
            "_view_module": "@jupyter-widgets/base",
            "_view_module_version": "1.2.0",
            "_view_name": "LayoutView",
            "align_content": null,
            "align_items": null,
            "align_self": null,
            "border": null,
            "bottom": null,
            "display": null,
            "flex": null,
            "flex_flow": null,
            "grid_area": null,
            "grid_auto_columns": null,
            "grid_auto_flow": null,
            "grid_auto_rows": null,
            "grid_column": null,
            "grid_gap": null,
            "grid_row": null,
            "grid_template_areas": null,
            "grid_template_columns": null,
            "grid_template_rows": null,
            "height": null,
            "justify_content": null,
            "justify_items": null,
            "left": null,
            "margin": null,
            "max_height": null,
            "max_width": null,
            "min_height": null,
            "min_width": null,
            "object_fit": null,
            "object_position": null,
            "order": null,
            "overflow": null,
            "overflow_x": null,
            "overflow_y": null,
            "padding": null,
            "right": null,
            "top": null,
            "visibility": null,
            "width": null
          }
        },
        "aa9a1efc565d4c81bcbd0b10c007c535": {
          "model_module": "@jupyter-widgets/controls",
          "model_module_version": "1.5.0",
          "model_name": "DescriptionStyleModel",
          "state": {
            "_model_module": "@jupyter-widgets/controls",
            "_model_module_version": "1.5.0",
            "_model_name": "DescriptionStyleModel",
            "_view_count": null,
            "_view_module": "@jupyter-widgets/base",
            "_view_module_version": "1.2.0",
            "_view_name": "StyleView",
            "description_width": ""
          }
        },
        "aab78d0b74d14326be813dc0c7d4e7e1": {
          "model_module": "@jupyter-widgets/controls",
          "model_module_version": "1.5.0",
          "model_name": "HTMLModel",
          "state": {
            "_dom_classes": [],
            "_model_module": "@jupyter-widgets/controls",
            "_model_module_version": "1.5.0",
            "_model_name": "HTMLModel",
            "_view_count": null,
            "_view_module": "@jupyter-widgets/controls",
            "_view_module_version": "1.5.0",
            "_view_name": "HTMLView",
            "description": "",
            "description_tooltip": null,
            "layout": "IPY_MODEL_311887f368a44541854baadd71df2c1d",
            "placeholder": "​",
            "style": "IPY_MODEL_86eb199710694fb6a9a86ab3cd7eaf0a",
            "value": "Generating test split: 100%"
          }
        },
        "ade78582e2154dc1bb6cc78fdab812bd": {
          "model_module": "@jupyter-widgets/controls",
          "model_module_version": "1.5.0",
          "model_name": "DescriptionStyleModel",
          "state": {
            "_model_module": "@jupyter-widgets/controls",
            "_model_module_version": "1.5.0",
            "_model_name": "DescriptionStyleModel",
            "_view_count": null,
            "_view_module": "@jupyter-widgets/base",
            "_view_module_version": "1.2.0",
            "_view_name": "StyleView",
            "description_width": ""
          }
        },
        "ae16017c50814239a334780e546ed1f9": {
          "model_module": "@jupyter-widgets/controls",
          "model_module_version": "1.5.0",
          "model_name": "HBoxModel",
          "state": {
            "_dom_classes": [],
            "_model_module": "@jupyter-widgets/controls",
            "_model_module_version": "1.5.0",
            "_model_name": "HBoxModel",
            "_view_count": null,
            "_view_module": "@jupyter-widgets/controls",
            "_view_module_version": "1.5.0",
            "_view_name": "HBoxView",
            "box_style": "",
            "children": [
              "IPY_MODEL_53c32c8f5458480ab229857796fab96d",
              "IPY_MODEL_b16fe5a9f3a940508a12f13fe1e766a8",
              "IPY_MODEL_f0dc617a2d4046d69deb2c57fed7d19a"
            ],
            "layout": "IPY_MODEL_a710b1e7d93b4de9b9808e23d5e44b81"
          }
        },
        "af13305d83ce4947a17a20d723511d7d": {
          "model_module": "@jupyter-widgets/base",
          "model_module_version": "1.2.0",
          "model_name": "LayoutModel",
          "state": {
            "_model_module": "@jupyter-widgets/base",
            "_model_module_version": "1.2.0",
            "_model_name": "LayoutModel",
            "_view_count": null,
            "_view_module": "@jupyter-widgets/base",
            "_view_module_version": "1.2.0",
            "_view_name": "LayoutView",
            "align_content": null,
            "align_items": null,
            "align_self": null,
            "border": null,
            "bottom": null,
            "display": null,
            "flex": null,
            "flex_flow": null,
            "grid_area": null,
            "grid_auto_columns": null,
            "grid_auto_flow": null,
            "grid_auto_rows": null,
            "grid_column": null,
            "grid_gap": null,
            "grid_row": null,
            "grid_template_areas": null,
            "grid_template_columns": null,
            "grid_template_rows": null,
            "height": null,
            "justify_content": null,
            "justify_items": null,
            "left": null,
            "margin": null,
            "max_height": null,
            "max_width": null,
            "min_height": null,
            "min_width": null,
            "object_fit": null,
            "object_position": null,
            "order": null,
            "overflow": null,
            "overflow_x": null,
            "overflow_y": null,
            "padding": null,
            "right": null,
            "top": null,
            "visibility": null,
            "width": null
          }
        },
        "af4e837597cc4d9789191cc72e20f2f1": {
          "model_module": "@jupyter-widgets/controls",
          "model_module_version": "1.5.0",
          "model_name": "DescriptionStyleModel",
          "state": {
            "_model_module": "@jupyter-widgets/controls",
            "_model_module_version": "1.5.0",
            "_model_name": "DescriptionStyleModel",
            "_view_count": null,
            "_view_module": "@jupyter-widgets/base",
            "_view_module_version": "1.2.0",
            "_view_name": "StyleView",
            "description_width": ""
          }
        },
        "b0b6c47afd8947518ebc0ff0c41b4525": {
          "model_module": "@jupyter-widgets/controls",
          "model_module_version": "1.5.0",
          "model_name": "HTMLModel",
          "state": {
            "_dom_classes": [],
            "_model_module": "@jupyter-widgets/controls",
            "_model_module_version": "1.5.0",
            "_model_name": "HTMLModel",
            "_view_count": null,
            "_view_module": "@jupyter-widgets/controls",
            "_view_module_version": "1.5.0",
            "_view_name": "HTMLView",
            "description": "",
            "description_tooltip": null,
            "layout": "IPY_MODEL_984aa0cf6c3b45568165fa83c37ed850",
            "placeholder": "​",
            "style": "IPY_MODEL_1f8bb12c982444da82370c8875507683",
            "value": "conll2003.py: 100%"
          }
        },
        "b16fe5a9f3a940508a12f13fe1e766a8": {
          "model_module": "@jupyter-widgets/controls",
          "model_module_version": "1.5.0",
          "model_name": "FloatProgressModel",
          "state": {
            "_dom_classes": [],
            "_model_module": "@jupyter-widgets/controls",
            "_model_module_version": "1.5.0",
            "_model_name": "FloatProgressModel",
            "_view_count": null,
            "_view_module": "@jupyter-widgets/controls",
            "_view_module_version": "1.5.0",
            "_view_name": "ProgressView",
            "bar_style": "success",
            "description": "",
            "description_tooltip": null,
            "layout": "IPY_MODEL_e429149167964007b45abc7121749dd6",
            "max": 231508,
            "min": 0,
            "orientation": "horizontal",
            "style": "IPY_MODEL_b816bc462cad43a6a5adffb93c624b9f",
            "value": 231508
          }
        },
        "b26848a230fc49bfbf9c9d515704ba64": {
          "model_module": "@jupyter-widgets/controls",
          "model_module_version": "1.5.0",
          "model_name": "ProgressStyleModel",
          "state": {
            "_model_module": "@jupyter-widgets/controls",
            "_model_module_version": "1.5.0",
            "_model_name": "ProgressStyleModel",
            "_view_count": null,
            "_view_module": "@jupyter-widgets/base",
            "_view_module_version": "1.2.0",
            "_view_name": "StyleView",
            "bar_color": null,
            "description_width": ""
          }
        },
        "b3fb940e25a24667aa9fc494cc1c71c8": {
          "model_module": "@jupyter-widgets/controls",
          "model_module_version": "1.5.0",
          "model_name": "DescriptionStyleModel",
          "state": {
            "_model_module": "@jupyter-widgets/controls",
            "_model_module_version": "1.5.0",
            "_model_name": "DescriptionStyleModel",
            "_view_count": null,
            "_view_module": "@jupyter-widgets/base",
            "_view_module_version": "1.2.0",
            "_view_name": "StyleView",
            "description_width": ""
          }
        },
        "b426512b0453478080a4cd264b269b22": {
          "model_module": "@jupyter-widgets/controls",
          "model_module_version": "1.5.0",
          "model_name": "ProgressStyleModel",
          "state": {
            "_model_module": "@jupyter-widgets/controls",
            "_model_module_version": "1.5.0",
            "_model_name": "ProgressStyleModel",
            "_view_count": null,
            "_view_module": "@jupyter-widgets/base",
            "_view_module_version": "1.2.0",
            "_view_name": "StyleView",
            "bar_color": null,
            "description_width": ""
          }
        },
        "b7c2c2bac74047b892772a84333115f2": {
          "model_module": "@jupyter-widgets/controls",
          "model_module_version": "1.5.0",
          "model_name": "DescriptionStyleModel",
          "state": {
            "_model_module": "@jupyter-widgets/controls",
            "_model_module_version": "1.5.0",
            "_model_name": "DescriptionStyleModel",
            "_view_count": null,
            "_view_module": "@jupyter-widgets/base",
            "_view_module_version": "1.2.0",
            "_view_name": "StyleView",
            "description_width": ""
          }
        },
        "b816bc462cad43a6a5adffb93c624b9f": {
          "model_module": "@jupyter-widgets/controls",
          "model_module_version": "1.5.0",
          "model_name": "ProgressStyleModel",
          "state": {
            "_model_module": "@jupyter-widgets/controls",
            "_model_module_version": "1.5.0",
            "_model_name": "ProgressStyleModel",
            "_view_count": null,
            "_view_module": "@jupyter-widgets/base",
            "_view_module_version": "1.2.0",
            "_view_name": "StyleView",
            "bar_color": null,
            "description_width": ""
          }
        },
        "b93a5bc8bc4241ab83e7d9fddecb6bbd": {
          "model_module": "@jupyter-widgets/base",
          "model_module_version": "1.2.0",
          "model_name": "LayoutModel",
          "state": {
            "_model_module": "@jupyter-widgets/base",
            "_model_module_version": "1.2.0",
            "_model_name": "LayoutModel",
            "_view_count": null,
            "_view_module": "@jupyter-widgets/base",
            "_view_module_version": "1.2.0",
            "_view_name": "LayoutView",
            "align_content": null,
            "align_items": null,
            "align_self": null,
            "border": null,
            "bottom": null,
            "display": null,
            "flex": null,
            "flex_flow": null,
            "grid_area": null,
            "grid_auto_columns": null,
            "grid_auto_flow": null,
            "grid_auto_rows": null,
            "grid_column": null,
            "grid_gap": null,
            "grid_row": null,
            "grid_template_areas": null,
            "grid_template_columns": null,
            "grid_template_rows": null,
            "height": null,
            "justify_content": null,
            "justify_items": null,
            "left": null,
            "margin": null,
            "max_height": null,
            "max_width": null,
            "min_height": null,
            "min_width": null,
            "object_fit": null,
            "object_position": null,
            "order": null,
            "overflow": null,
            "overflow_x": null,
            "overflow_y": null,
            "padding": null,
            "right": null,
            "top": null,
            "visibility": null,
            "width": null
          }
        },
        "b94d571bc09c41fabd603348baa0172b": {
          "model_module": "@jupyter-widgets/controls",
          "model_module_version": "1.5.0",
          "model_name": "FloatProgressModel",
          "state": {
            "_dom_classes": [],
            "_model_module": "@jupyter-widgets/controls",
            "_model_module_version": "1.5.0",
            "_model_name": "FloatProgressModel",
            "_view_count": null,
            "_view_module": "@jupyter-widgets/controls",
            "_view_module_version": "1.5.0",
            "_view_name": "ProgressView",
            "bar_style": "success",
            "description": "",
            "description_tooltip": null,
            "layout": "IPY_MODEL_aa8d97a6e953453e9fa16ed9a6996a75",
            "max": 3250,
            "min": 0,
            "orientation": "horizontal",
            "style": "IPY_MODEL_06cf18bd14c3416a881bf12574b2d3b1",
            "value": 3250
          }
        },
        "ba830f4bdca8414bb8b6cbe55012dfed": {
          "model_module": "@jupyter-widgets/controls",
          "model_module_version": "1.5.0",
          "model_name": "DescriptionStyleModel",
          "state": {
            "_model_module": "@jupyter-widgets/controls",
            "_model_module_version": "1.5.0",
            "_model_name": "DescriptionStyleModel",
            "_view_count": null,
            "_view_module": "@jupyter-widgets/base",
            "_view_module_version": "1.2.0",
            "_view_name": "StyleView",
            "description_width": ""
          }
        },
        "bcc66e7e1bf7484aaaa8542919c6b25b": {
          "model_module": "@jupyter-widgets/base",
          "model_module_version": "1.2.0",
          "model_name": "LayoutModel",
          "state": {
            "_model_module": "@jupyter-widgets/base",
            "_model_module_version": "1.2.0",
            "_model_name": "LayoutModel",
            "_view_count": null,
            "_view_module": "@jupyter-widgets/base",
            "_view_module_version": "1.2.0",
            "_view_name": "LayoutView",
            "align_content": null,
            "align_items": null,
            "align_self": null,
            "border": null,
            "bottom": null,
            "display": null,
            "flex": null,
            "flex_flow": null,
            "grid_area": null,
            "grid_auto_columns": null,
            "grid_auto_flow": null,
            "grid_auto_rows": null,
            "grid_column": null,
            "grid_gap": null,
            "grid_row": null,
            "grid_template_areas": null,
            "grid_template_columns": null,
            "grid_template_rows": null,
            "height": null,
            "justify_content": null,
            "justify_items": null,
            "left": null,
            "margin": null,
            "max_height": null,
            "max_width": null,
            "min_height": null,
            "min_width": null,
            "object_fit": null,
            "object_position": null,
            "order": null,
            "overflow": null,
            "overflow_x": null,
            "overflow_y": null,
            "padding": null,
            "right": null,
            "top": null,
            "visibility": null,
            "width": null
          }
        },
        "be0d5e00be9646e8a3b729bbb2b5736e": {
          "model_module": "@jupyter-widgets/controls",
          "model_module_version": "1.5.0",
          "model_name": "HBoxModel",
          "state": {
            "_dom_classes": [],
            "_model_module": "@jupyter-widgets/controls",
            "_model_module_version": "1.5.0",
            "_model_name": "HBoxModel",
            "_view_count": null,
            "_view_module": "@jupyter-widgets/controls",
            "_view_module_version": "1.5.0",
            "_view_name": "HBoxView",
            "box_style": "",
            "children": [
              "IPY_MODEL_9c467f91e90d4c7b9ba382b8921f144c",
              "IPY_MODEL_eee9669371f84986a17e134ee8c99238",
              "IPY_MODEL_60b4295569a848a9a81c65ad31482d17"
            ],
            "layout": "IPY_MODEL_575719521faf4c56ac5e3db91758e80c"
          }
        },
        "be79cf31d98a487db8ed31c39402c0f9": {
          "model_module": "@jupyter-widgets/controls",
          "model_module_version": "1.5.0",
          "model_name": "FloatProgressModel",
          "state": {
            "_dom_classes": [],
            "_model_module": "@jupyter-widgets/controls",
            "_model_module_version": "1.5.0",
            "_model_name": "FloatProgressModel",
            "_view_count": null,
            "_view_module": "@jupyter-widgets/controls",
            "_view_module_version": "1.5.0",
            "_view_name": "ProgressView",
            "bar_style": "success",
            "description": "",
            "description_tooltip": null,
            "layout": "IPY_MODEL_9c08127a884543cda3afd10755f03ed8",
            "max": 466062,
            "min": 0,
            "orientation": "horizontal",
            "style": "IPY_MODEL_05590b0b90c64fb184e7bf98b10624cc",
            "value": 466062
          }
        },
        "bff625b836f949c5b9a40d3ee74fdf1b": {
          "model_module": "@jupyter-widgets/controls",
          "model_module_version": "1.5.0",
          "model_name": "HBoxModel",
          "state": {
            "_dom_classes": [],
            "_model_module": "@jupyter-widgets/controls",
            "_model_module_version": "1.5.0",
            "_model_name": "HBoxModel",
            "_view_count": null,
            "_view_module": "@jupyter-widgets/controls",
            "_view_module_version": "1.5.0",
            "_view_name": "HBoxView",
            "box_style": "",
            "children": [
              "IPY_MODEL_dbc083d489564fc992267ead669ce8a8",
              "IPY_MODEL_46e126028e334dbda80499b6f772e644",
              "IPY_MODEL_5f4d81b6c1fd482d963bfcd9e4cc3f47"
            ],
            "layout": "IPY_MODEL_5267614c44ca44a693f0b017e331c8a9"
          }
        },
        "c042cc5e75c24992a8d253930c5f87ee": {
          "model_module": "@jupyter-widgets/controls",
          "model_module_version": "1.5.0",
          "model_name": "DescriptionStyleModel",
          "state": {
            "_model_module": "@jupyter-widgets/controls",
            "_model_module_version": "1.5.0",
            "_model_name": "DescriptionStyleModel",
            "_view_count": null,
            "_view_module": "@jupyter-widgets/base",
            "_view_module_version": "1.2.0",
            "_view_name": "StyleView",
            "description_width": ""
          }
        },
        "c093596876c04a17bcb6b07fafff42e1": {
          "model_module": "@jupyter-widgets/base",
          "model_module_version": "1.2.0",
          "model_name": "LayoutModel",
          "state": {
            "_model_module": "@jupyter-widgets/base",
            "_model_module_version": "1.2.0",
            "_model_name": "LayoutModel",
            "_view_count": null,
            "_view_module": "@jupyter-widgets/base",
            "_view_module_version": "1.2.0",
            "_view_name": "LayoutView",
            "align_content": null,
            "align_items": null,
            "align_self": null,
            "border": null,
            "bottom": null,
            "display": null,
            "flex": null,
            "flex_flow": null,
            "grid_area": null,
            "grid_auto_columns": null,
            "grid_auto_flow": null,
            "grid_auto_rows": null,
            "grid_column": null,
            "grid_gap": null,
            "grid_row": null,
            "grid_template_areas": null,
            "grid_template_columns": null,
            "grid_template_rows": null,
            "height": null,
            "justify_content": null,
            "justify_items": null,
            "left": null,
            "margin": null,
            "max_height": null,
            "max_width": null,
            "min_height": null,
            "min_width": null,
            "object_fit": null,
            "object_position": null,
            "order": null,
            "overflow": null,
            "overflow_x": null,
            "overflow_y": null,
            "padding": null,
            "right": null,
            "top": null,
            "visibility": null,
            "width": null
          }
        },
        "c17eeef687c64310a37890a516638607": {
          "model_module": "@jupyter-widgets/controls",
          "model_module_version": "1.5.0",
          "model_name": "DescriptionStyleModel",
          "state": {
            "_model_module": "@jupyter-widgets/controls",
            "_model_module_version": "1.5.0",
            "_model_name": "DescriptionStyleModel",
            "_view_count": null,
            "_view_module": "@jupyter-widgets/base",
            "_view_module_version": "1.2.0",
            "_view_name": "StyleView",
            "description_width": ""
          }
        },
        "c3627fc98bbb4754968728cab65d3798": {
          "model_module": "@jupyter-widgets/base",
          "model_module_version": "1.2.0",
          "model_name": "LayoutModel",
          "state": {
            "_model_module": "@jupyter-widgets/base",
            "_model_module_version": "1.2.0",
            "_model_name": "LayoutModel",
            "_view_count": null,
            "_view_module": "@jupyter-widgets/base",
            "_view_module_version": "1.2.0",
            "_view_name": "LayoutView",
            "align_content": null,
            "align_items": null,
            "align_self": null,
            "border": null,
            "bottom": null,
            "display": null,
            "flex": null,
            "flex_flow": null,
            "grid_area": null,
            "grid_auto_columns": null,
            "grid_auto_flow": null,
            "grid_auto_rows": null,
            "grid_column": null,
            "grid_gap": null,
            "grid_row": null,
            "grid_template_areas": null,
            "grid_template_columns": null,
            "grid_template_rows": null,
            "height": null,
            "justify_content": null,
            "justify_items": null,
            "left": null,
            "margin": null,
            "max_height": null,
            "max_width": null,
            "min_height": null,
            "min_width": null,
            "object_fit": null,
            "object_position": null,
            "order": null,
            "overflow": null,
            "overflow_x": null,
            "overflow_y": null,
            "padding": null,
            "right": null,
            "top": null,
            "visibility": null,
            "width": null
          }
        },
        "c5371cf51fbf439c9a5b81dd6e870ab1": {
          "model_module": "@jupyter-widgets/controls",
          "model_module_version": "1.5.0",
          "model_name": "DescriptionStyleModel",
          "state": {
            "_model_module": "@jupyter-widgets/controls",
            "_model_module_version": "1.5.0",
            "_model_name": "DescriptionStyleModel",
            "_view_count": null,
            "_view_module": "@jupyter-widgets/base",
            "_view_module_version": "1.2.0",
            "_view_name": "StyleView",
            "description_width": ""
          }
        },
        "c6830400bc014e4989025912949ff2b6": {
          "model_module": "@jupyter-widgets/controls",
          "model_module_version": "1.5.0",
          "model_name": "HBoxModel",
          "state": {
            "_dom_classes": [],
            "_model_module": "@jupyter-widgets/controls",
            "_model_module_version": "1.5.0",
            "_model_name": "HBoxModel",
            "_view_count": null,
            "_view_module": "@jupyter-widgets/controls",
            "_view_module_version": "1.5.0",
            "_view_name": "HBoxView",
            "box_style": "",
            "children": [
              "IPY_MODEL_a4bc4821deee4dfca04dd5c0cd97b8f4",
              "IPY_MODEL_1e9b21d4d4c94fc1a8b0267131c6efad",
              "IPY_MODEL_35a2a3bf325c4fcc999d18b179391c5f"
            ],
            "layout": "IPY_MODEL_283ae8a3e09a4c9eac662a80a1995622"
          }
        },
        "c6efa791bb8c452ca5d4cab2064a7caf": {
          "model_module": "@jupyter-widgets/base",
          "model_module_version": "1.2.0",
          "model_name": "LayoutModel",
          "state": {
            "_model_module": "@jupyter-widgets/base",
            "_model_module_version": "1.2.0",
            "_model_name": "LayoutModel",
            "_view_count": null,
            "_view_module": "@jupyter-widgets/base",
            "_view_module_version": "1.2.0",
            "_view_name": "LayoutView",
            "align_content": null,
            "align_items": null,
            "align_self": null,
            "border": null,
            "bottom": null,
            "display": null,
            "flex": null,
            "flex_flow": null,
            "grid_area": null,
            "grid_auto_columns": null,
            "grid_auto_flow": null,
            "grid_auto_rows": null,
            "grid_column": null,
            "grid_gap": null,
            "grid_row": null,
            "grid_template_areas": null,
            "grid_template_columns": null,
            "grid_template_rows": null,
            "height": null,
            "justify_content": null,
            "justify_items": null,
            "left": null,
            "margin": null,
            "max_height": null,
            "max_width": null,
            "min_height": null,
            "min_width": null,
            "object_fit": null,
            "object_position": null,
            "order": null,
            "overflow": null,
            "overflow_x": null,
            "overflow_y": null,
            "padding": null,
            "right": null,
            "top": null,
            "visibility": null,
            "width": null
          }
        },
        "c7b8f526dc4944068f156722bc555637": {
          "model_module": "@jupyter-widgets/controls",
          "model_module_version": "1.5.0",
          "model_name": "DescriptionStyleModel",
          "state": {
            "_model_module": "@jupyter-widgets/controls",
            "_model_module_version": "1.5.0",
            "_model_name": "DescriptionStyleModel",
            "_view_count": null,
            "_view_module": "@jupyter-widgets/base",
            "_view_module_version": "1.2.0",
            "_view_name": "StyleView",
            "description_width": ""
          }
        },
        "c8130d71a0b14f2b8f3a5fc22ee38410": {
          "model_module": "@jupyter-widgets/base",
          "model_module_version": "1.2.0",
          "model_name": "LayoutModel",
          "state": {
            "_model_module": "@jupyter-widgets/base",
            "_model_module_version": "1.2.0",
            "_model_name": "LayoutModel",
            "_view_count": null,
            "_view_module": "@jupyter-widgets/base",
            "_view_module_version": "1.2.0",
            "_view_name": "LayoutView",
            "align_content": null,
            "align_items": null,
            "align_self": null,
            "border": null,
            "bottom": null,
            "display": null,
            "flex": null,
            "flex_flow": null,
            "grid_area": null,
            "grid_auto_columns": null,
            "grid_auto_flow": null,
            "grid_auto_rows": null,
            "grid_column": null,
            "grid_gap": null,
            "grid_row": null,
            "grid_template_areas": null,
            "grid_template_columns": null,
            "grid_template_rows": null,
            "height": null,
            "justify_content": null,
            "justify_items": null,
            "left": null,
            "margin": null,
            "max_height": null,
            "max_width": null,
            "min_height": null,
            "min_width": null,
            "object_fit": null,
            "object_position": null,
            "order": null,
            "overflow": null,
            "overflow_x": null,
            "overflow_y": null,
            "padding": null,
            "right": null,
            "top": null,
            "visibility": null,
            "width": null
          }
        },
        "ca77976cab0d4daebbb6b38cb6c9b3e5": {
          "model_module": "@jupyter-widgets/controls",
          "model_module_version": "1.5.0",
          "model_name": "DescriptionStyleModel",
          "state": {
            "_model_module": "@jupyter-widgets/controls",
            "_model_module_version": "1.5.0",
            "_model_name": "DescriptionStyleModel",
            "_view_count": null,
            "_view_module": "@jupyter-widgets/base",
            "_view_module_version": "1.2.0",
            "_view_name": "StyleView",
            "description_width": ""
          }
        },
        "ce3fc8b0774c405784bf606ec18ea3af": {
          "model_module": "@jupyter-widgets/controls",
          "model_module_version": "1.5.0",
          "model_name": "DescriptionStyleModel",
          "state": {
            "_model_module": "@jupyter-widgets/controls",
            "_model_module_version": "1.5.0",
            "_model_name": "DescriptionStyleModel",
            "_view_count": null,
            "_view_module": "@jupyter-widgets/base",
            "_view_module_version": "1.2.0",
            "_view_name": "StyleView",
            "description_width": ""
          }
        },
        "d2838275eec5484fb934c0fd67803ed0": {
          "model_module": "@jupyter-widgets/base",
          "model_module_version": "1.2.0",
          "model_name": "LayoutModel",
          "state": {
            "_model_module": "@jupyter-widgets/base",
            "_model_module_version": "1.2.0",
            "_model_name": "LayoutModel",
            "_view_count": null,
            "_view_module": "@jupyter-widgets/base",
            "_view_module_version": "1.2.0",
            "_view_name": "LayoutView",
            "align_content": null,
            "align_items": null,
            "align_self": null,
            "border": null,
            "bottom": null,
            "display": null,
            "flex": null,
            "flex_flow": null,
            "grid_area": null,
            "grid_auto_columns": null,
            "grid_auto_flow": null,
            "grid_auto_rows": null,
            "grid_column": null,
            "grid_gap": null,
            "grid_row": null,
            "grid_template_areas": null,
            "grid_template_columns": null,
            "grid_template_rows": null,
            "height": null,
            "justify_content": null,
            "justify_items": null,
            "left": null,
            "margin": null,
            "max_height": null,
            "max_width": null,
            "min_height": null,
            "min_width": null,
            "object_fit": null,
            "object_position": null,
            "order": null,
            "overflow": null,
            "overflow_x": null,
            "overflow_y": null,
            "padding": null,
            "right": null,
            "top": null,
            "visibility": null,
            "width": null
          }
        },
        "d42133f3472a4f629b33738b5483d19f": {
          "model_module": "@jupyter-widgets/base",
          "model_module_version": "1.2.0",
          "model_name": "LayoutModel",
          "state": {
            "_model_module": "@jupyter-widgets/base",
            "_model_module_version": "1.2.0",
            "_model_name": "LayoutModel",
            "_view_count": null,
            "_view_module": "@jupyter-widgets/base",
            "_view_module_version": "1.2.0",
            "_view_name": "LayoutView",
            "align_content": null,
            "align_items": null,
            "align_self": null,
            "border": null,
            "bottom": null,
            "display": null,
            "flex": null,
            "flex_flow": null,
            "grid_area": null,
            "grid_auto_columns": null,
            "grid_auto_flow": null,
            "grid_auto_rows": null,
            "grid_column": null,
            "grid_gap": null,
            "grid_row": null,
            "grid_template_areas": null,
            "grid_template_columns": null,
            "grid_template_rows": null,
            "height": null,
            "justify_content": null,
            "justify_items": null,
            "left": null,
            "margin": null,
            "max_height": null,
            "max_width": null,
            "min_height": null,
            "min_width": null,
            "object_fit": null,
            "object_position": null,
            "order": null,
            "overflow": null,
            "overflow_x": null,
            "overflow_y": null,
            "padding": null,
            "right": null,
            "top": null,
            "visibility": null,
            "width": null
          }
        },
        "d76e58fc87834d1d9b305cc94cc109b5": {
          "model_module": "@jupyter-widgets/base",
          "model_module_version": "1.2.0",
          "model_name": "LayoutModel",
          "state": {
            "_model_module": "@jupyter-widgets/base",
            "_model_module_version": "1.2.0",
            "_model_name": "LayoutModel",
            "_view_count": null,
            "_view_module": "@jupyter-widgets/base",
            "_view_module_version": "1.2.0",
            "_view_name": "LayoutView",
            "align_content": null,
            "align_items": "center",
            "align_self": null,
            "border": null,
            "bottom": null,
            "display": "flex",
            "flex": null,
            "flex_flow": "column",
            "grid_area": null,
            "grid_auto_columns": null,
            "grid_auto_flow": null,
            "grid_auto_rows": null,
            "grid_column": null,
            "grid_gap": null,
            "grid_row": null,
            "grid_template_areas": null,
            "grid_template_columns": null,
            "grid_template_rows": null,
            "height": null,
            "justify_content": null,
            "justify_items": null,
            "left": null,
            "margin": null,
            "max_height": null,
            "max_width": null,
            "min_height": null,
            "min_width": null,
            "object_fit": null,
            "object_position": null,
            "order": null,
            "overflow": null,
            "overflow_x": null,
            "overflow_y": null,
            "padding": null,
            "right": null,
            "top": null,
            "visibility": null,
            "width": "50%"
          }
        },
        "d8df1dc1e1744be0982c159a0d5ccf71": {
          "model_module": "@jupyter-widgets/controls",
          "model_module_version": "1.5.0",
          "model_name": "ProgressStyleModel",
          "state": {
            "_model_module": "@jupyter-widgets/controls",
            "_model_module_version": "1.5.0",
            "_model_name": "ProgressStyleModel",
            "_view_count": null,
            "_view_module": "@jupyter-widgets/base",
            "_view_module_version": "1.2.0",
            "_view_name": "StyleView",
            "bar_color": null,
            "description_width": ""
          }
        },
        "d96a8e76c6424621a32f5d1bca10c52f": {
          "model_module": "@jupyter-widgets/controls",
          "model_module_version": "1.5.0",
          "model_name": "FloatProgressModel",
          "state": {
            "_dom_classes": [],
            "_model_module": "@jupyter-widgets/controls",
            "_model_module_version": "1.5.0",
            "_model_name": "FloatProgressModel",
            "_view_count": null,
            "_view_module": "@jupyter-widgets/controls",
            "_view_module_version": "1.5.0",
            "_view_name": "ProgressView",
            "bar_style": "success",
            "description": "",
            "description_tooltip": null,
            "layout": "IPY_MODEL_5226bc8cec124f2c9d93f29ed342d930",
            "max": 9570,
            "min": 0,
            "orientation": "horizontal",
            "style": "IPY_MODEL_d8df1dc1e1744be0982c159a0d5ccf71",
            "value": 9570
          }
        },
        "da82fb43cfd94519af9051eb37e7cbbc": {
          "model_module": "@jupyter-widgets/controls",
          "model_module_version": "1.5.0",
          "model_name": "HTMLModel",
          "state": {
            "_dom_classes": [],
            "_model_module": "@jupyter-widgets/controls",
            "_model_module_version": "1.5.0",
            "_model_name": "HTMLModel",
            "_view_count": null,
            "_view_module": "@jupyter-widgets/controls",
            "_view_module_version": "1.5.0",
            "_view_name": "HTMLView",
            "description": "",
            "description_tooltip": null,
            "layout": "IPY_MODEL_874bbc8d0f844d00bfaad768458b7867",
            "placeholder": "​",
            "style": "IPY_MODEL_795b971c58704f90ba46fdef7c20942c",
            "value": " 48.0/48.0 [00:00&lt;00:00, 1.14kB/s]"
          }
        },
        "da97ee2385f7431c837169c8bce7949f": {
          "model_module": "@jupyter-widgets/base",
          "model_module_version": "1.2.0",
          "model_name": "LayoutModel",
          "state": {
            "_model_module": "@jupyter-widgets/base",
            "_model_module_version": "1.2.0",
            "_model_name": "LayoutModel",
            "_view_count": null,
            "_view_module": "@jupyter-widgets/base",
            "_view_module_version": "1.2.0",
            "_view_name": "LayoutView",
            "align_content": null,
            "align_items": null,
            "align_self": null,
            "border": null,
            "bottom": null,
            "display": null,
            "flex": null,
            "flex_flow": null,
            "grid_area": null,
            "grid_auto_columns": null,
            "grid_auto_flow": null,
            "grid_auto_rows": null,
            "grid_column": null,
            "grid_gap": null,
            "grid_row": null,
            "grid_template_areas": null,
            "grid_template_columns": null,
            "grid_template_rows": null,
            "height": null,
            "justify_content": null,
            "justify_items": null,
            "left": null,
            "margin": null,
            "max_height": null,
            "max_width": null,
            "min_height": null,
            "min_width": null,
            "object_fit": null,
            "object_position": null,
            "order": null,
            "overflow": null,
            "overflow_x": null,
            "overflow_y": null,
            "padding": null,
            "right": null,
            "top": null,
            "visibility": null,
            "width": null
          }
        },
        "db7d44835fa94ce09a7da90beb32573c": {
          "model_module": "@jupyter-widgets/controls",
          "model_module_version": "1.5.0",
          "model_name": "HTMLModel",
          "state": {
            "_dom_classes": [],
            "_model_module": "@jupyter-widgets/controls",
            "_model_module_version": "1.5.0",
            "_model_name": "HTMLModel",
            "_view_count": null,
            "_view_module": "@jupyter-widgets/controls",
            "_view_module_version": "1.5.0",
            "_view_name": "HTMLView",
            "description": "",
            "description_tooltip": null,
            "layout": "IPY_MODEL_7fea6c65bd8f402490dd044f4648eeb7",
            "placeholder": "​",
            "style": "IPY_MODEL_ade78582e2154dc1bb6cc78fdab812bd",
            "value": " 268M/268M [00:01&lt;00:00, 221MB/s]"
          }
        },
        "dbc083d489564fc992267ead669ce8a8": {
          "model_module": "@jupyter-widgets/controls",
          "model_module_version": "1.5.0",
          "model_name": "HTMLModel",
          "state": {
            "_dom_classes": [],
            "_model_module": "@jupyter-widgets/controls",
            "_model_module_version": "1.5.0",
            "_model_name": "HTMLModel",
            "_view_count": null,
            "_view_module": "@jupyter-widgets/controls",
            "_view_module_version": "1.5.0",
            "_view_name": "HTMLView",
            "description": "",
            "description_tooltip": null,
            "layout": "IPY_MODEL_60fbac0986ea4ba9bef01dc43abf38aa",
            "placeholder": "​",
            "style": "IPY_MODEL_aa9a1efc565d4c81bcbd0b10c007c535",
            "value": "README.md: 100%"
          }
        },
        "ddb2d8778b814c888b6851ff519e32bf": {
          "model_module": "@jupyter-widgets/base",
          "model_module_version": "1.2.0",
          "model_name": "LayoutModel",
          "state": {
            "_model_module": "@jupyter-widgets/base",
            "_model_module_version": "1.2.0",
            "_model_name": "LayoutModel",
            "_view_count": null,
            "_view_module": "@jupyter-widgets/base",
            "_view_module_version": "1.2.0",
            "_view_name": "LayoutView",
            "align_content": null,
            "align_items": null,
            "align_self": null,
            "border": null,
            "bottom": null,
            "display": null,
            "flex": null,
            "flex_flow": null,
            "grid_area": null,
            "grid_auto_columns": null,
            "grid_auto_flow": null,
            "grid_auto_rows": null,
            "grid_column": null,
            "grid_gap": null,
            "grid_row": null,
            "grid_template_areas": null,
            "grid_template_columns": null,
            "grid_template_rows": null,
            "height": null,
            "justify_content": null,
            "justify_items": null,
            "left": null,
            "margin": null,
            "max_height": null,
            "max_width": null,
            "min_height": null,
            "min_width": null,
            "object_fit": null,
            "object_position": null,
            "order": null,
            "overflow": null,
            "overflow_x": null,
            "overflow_y": null,
            "padding": null,
            "right": null,
            "top": null,
            "visibility": null,
            "width": null
          }
        },
        "e385dd2dae09428b959e694c83e48590": {
          "model_module": "@jupyter-widgets/controls",
          "model_module_version": "1.5.0",
          "model_name": "DescriptionStyleModel",
          "state": {
            "_model_module": "@jupyter-widgets/controls",
            "_model_module_version": "1.5.0",
            "_model_name": "DescriptionStyleModel",
            "_view_count": null,
            "_view_module": "@jupyter-widgets/base",
            "_view_module_version": "1.2.0",
            "_view_name": "StyleView",
            "description_width": ""
          }
        },
        "e429149167964007b45abc7121749dd6": {
          "model_module": "@jupyter-widgets/base",
          "model_module_version": "1.2.0",
          "model_name": "LayoutModel",
          "state": {
            "_model_module": "@jupyter-widgets/base",
            "_model_module_version": "1.2.0",
            "_model_name": "LayoutModel",
            "_view_count": null,
            "_view_module": "@jupyter-widgets/base",
            "_view_module_version": "1.2.0",
            "_view_name": "LayoutView",
            "align_content": null,
            "align_items": null,
            "align_self": null,
            "border": null,
            "bottom": null,
            "display": null,
            "flex": null,
            "flex_flow": null,
            "grid_area": null,
            "grid_auto_columns": null,
            "grid_auto_flow": null,
            "grid_auto_rows": null,
            "grid_column": null,
            "grid_gap": null,
            "grid_row": null,
            "grid_template_areas": null,
            "grid_template_columns": null,
            "grid_template_rows": null,
            "height": null,
            "justify_content": null,
            "justify_items": null,
            "left": null,
            "margin": null,
            "max_height": null,
            "max_width": null,
            "min_height": null,
            "min_width": null,
            "object_fit": null,
            "object_position": null,
            "order": null,
            "overflow": null,
            "overflow_x": null,
            "overflow_y": null,
            "padding": null,
            "right": null,
            "top": null,
            "visibility": null,
            "width": null
          }
        },
        "e89c38f501114ed7bb12aac1d2eb9054": {
          "model_module": "@jupyter-widgets/controls",
          "model_module_version": "1.5.0",
          "model_name": "VBoxModel",
          "state": {
            "_dom_classes": [],
            "_model_module": "@jupyter-widgets/controls",
            "_model_module_version": "1.5.0",
            "_model_name": "VBoxModel",
            "_view_count": null,
            "_view_module": "@jupyter-widgets/controls",
            "_view_module_version": "1.5.0",
            "_view_name": "VBoxView",
            "box_style": "",
            "children": [],
            "layout": "IPY_MODEL_d76e58fc87834d1d9b305cc94cc109b5"
          }
        },
        "e8c68357d7a24f88b87d1045c529deb1": {
          "model_module": "@jupyter-widgets/controls",
          "model_module_version": "1.5.0",
          "model_name": "DescriptionStyleModel",
          "state": {
            "_model_module": "@jupyter-widgets/controls",
            "_model_module_version": "1.5.0",
            "_model_name": "DescriptionStyleModel",
            "_view_count": null,
            "_view_module": "@jupyter-widgets/base",
            "_view_module_version": "1.2.0",
            "_view_name": "StyleView",
            "description_width": ""
          }
        },
        "ea8b507861744481a4ec50fb1b7b2d23": {
          "model_module": "@jupyter-widgets/controls",
          "model_module_version": "1.5.0",
          "model_name": "HTMLModel",
          "state": {
            "_dom_classes": [],
            "_model_module": "@jupyter-widgets/controls",
            "_model_module_version": "1.5.0",
            "_model_name": "HTMLModel",
            "_view_count": null,
            "_view_module": "@jupyter-widgets/controls",
            "_view_module_version": "1.5.0",
            "_view_name": "HTMLView",
            "description": "",
            "description_tooltip": null,
            "layout": "IPY_MODEL_745b4d79fd1443ddafd8e5470991ecb2",
            "placeholder": "​",
            "style": "IPY_MODEL_30ca3d4d67c44c96b409539b68692229",
            "value": "tokenizer.json: 100%"
          }
        },
        "ebbdcfae7c444d43b80d37108200dbd5": {
          "model_module": "@jupyter-widgets/controls",
          "model_module_version": "1.5.0",
          "model_name": "DescriptionStyleModel",
          "state": {
            "_model_module": "@jupyter-widgets/controls",
            "_model_module_version": "1.5.0",
            "_model_name": "DescriptionStyleModel",
            "_view_count": null,
            "_view_module": "@jupyter-widgets/base",
            "_view_module_version": "1.2.0",
            "_view_name": "StyleView",
            "description_width": ""
          }
        },
        "ee5180e2ac724719be6e55a34d955f3c": {
          "model_module": "@jupyter-widgets/controls",
          "model_module_version": "1.5.0",
          "model_name": "HBoxModel",
          "state": {
            "_dom_classes": [],
            "_model_module": "@jupyter-widgets/controls",
            "_model_module_version": "1.5.0",
            "_model_name": "HBoxModel",
            "_view_count": null,
            "_view_module": "@jupyter-widgets/controls",
            "_view_module_version": "1.5.0",
            "_view_name": "HBoxView",
            "box_style": "",
            "children": [
              "IPY_MODEL_5a64ac6933a44b8f8f698e6104571e1c",
              "IPY_MODEL_4bba658eead546c0be7ca3515b8a0486",
              "IPY_MODEL_a48a610418564f6689652946decd8dfa"
            ],
            "layout": "IPY_MODEL_317502d56ffc4975b7cfabf09b188d7f"
          }
        },
        "eee9669371f84986a17e134ee8c99238": {
          "model_module": "@jupyter-widgets/controls",
          "model_module_version": "1.5.0",
          "model_name": "FloatProgressModel",
          "state": {
            "_dom_classes": [],
            "_model_module": "@jupyter-widgets/controls",
            "_model_module_version": "1.5.0",
            "_model_name": "FloatProgressModel",
            "_view_count": null,
            "_view_module": "@jupyter-widgets/controls",
            "_view_module_version": "1.5.0",
            "_view_name": "ProgressView",
            "bar_style": "success",
            "description": "",
            "description_tooltip": null,
            "layout": "IPY_MODEL_d2838275eec5484fb934c0fd67803ed0",
            "max": 3250,
            "min": 0,
            "orientation": "horizontal",
            "style": "IPY_MODEL_fb207773608e4fc4b35f277cc819dec3",
            "value": 3250
          }
        },
        "f0dc617a2d4046d69deb2c57fed7d19a": {
          "model_module": "@jupyter-widgets/controls",
          "model_module_version": "1.5.0",
          "model_name": "HTMLModel",
          "state": {
            "_dom_classes": [],
            "_model_module": "@jupyter-widgets/controls",
            "_model_module_version": "1.5.0",
            "_model_name": "HTMLModel",
            "_view_count": null,
            "_view_module": "@jupyter-widgets/controls",
            "_view_module_version": "1.5.0",
            "_view_name": "HTMLView",
            "description": "",
            "description_tooltip": null,
            "layout": "IPY_MODEL_9ce1bf8c2a98418abc62b77b484adac9",
            "placeholder": "​",
            "style": "IPY_MODEL_e385dd2dae09428b959e694c83e48590",
            "value": " 232k/232k [00:00&lt;00:00, 3.42MB/s]"
          }
        },
        "f2007d4835ef4a6390be0197316aa97d": {
          "model_module": "@jupyter-widgets/controls",
          "model_module_version": "1.5.0",
          "model_name": "DescriptionStyleModel",
          "state": {
            "_model_module": "@jupyter-widgets/controls",
            "_model_module_version": "1.5.0",
            "_model_name": "DescriptionStyleModel",
            "_view_count": null,
            "_view_module": "@jupyter-widgets/base",
            "_view_module_version": "1.2.0",
            "_view_name": "StyleView",
            "description_width": ""
          }
        },
        "f4f4c9fa9bb54e478dc2b64788b512c1": {
          "model_module": "@jupyter-widgets/controls",
          "model_module_version": "1.5.0",
          "model_name": "HTMLModel",
          "state": {
            "_dom_classes": [],
            "_model_module": "@jupyter-widgets/controls",
            "_model_module_version": "1.5.0",
            "_model_name": "HTMLModel",
            "_view_count": null,
            "_view_module": "@jupyter-widgets/controls",
            "_view_module_version": "1.5.0",
            "_view_name": "HTMLView",
            "description": "",
            "description_tooltip": null,
            "layout": "IPY_MODEL_440014d6df904e3e8570146e3f99741c",
            "placeholder": "​",
            "style": "IPY_MODEL_830d1e5b43bc4c4e8877d2665709ead1",
            "value": " 3453/3453 [00:00&lt;00:00, 5447.22 examples/s]"
          }
        },
        "f6284398344646e6a0c4255275dc8388": {
          "model_module": "@jupyter-widgets/controls",
          "model_module_version": "1.5.0",
          "model_name": "HTMLModel",
          "state": {
            "_dom_classes": [],
            "_model_module": "@jupyter-widgets/controls",
            "_model_module_version": "1.5.0",
            "_model_name": "HTMLModel",
            "_view_count": null,
            "_view_module": "@jupyter-widgets/controls",
            "_view_module_version": "1.5.0",
            "_view_name": "HTMLView",
            "description": "",
            "description_tooltip": null,
            "layout": "IPY_MODEL_1fe8a9463c204e9aa828753685c02d15",
            "placeholder": "​",
            "style": "IPY_MODEL_15ecfdb178e84b32a8a9a3c5b5b6ed0d",
            "value": "model.safetensors: 100%"
          }
        },
        "fb207773608e4fc4b35f277cc819dec3": {
          "model_module": "@jupyter-widgets/controls",
          "model_module_version": "1.5.0",
          "model_name": "ProgressStyleModel",
          "state": {
            "_model_module": "@jupyter-widgets/controls",
            "_model_module_version": "1.5.0",
            "_model_name": "ProgressStyleModel",
            "_view_count": null,
            "_view_module": "@jupyter-widgets/base",
            "_view_module_version": "1.2.0",
            "_view_name": "StyleView",
            "bar_color": null,
            "description_width": ""
          }
        },
        "fb33ec0106d246f19ddcaa4186ffe340": {
          "model_module": "@jupyter-widgets/controls",
          "model_module_version": "1.5.0",
          "model_name": "HTMLModel",
          "state": {
            "_dom_classes": [],
            "_model_module": "@jupyter-widgets/controls",
            "_model_module_version": "1.5.0",
            "_model_name": "HTMLModel",
            "_view_count": null,
            "_view_module": "@jupyter-widgets/controls",
            "_view_module_version": "1.5.0",
            "_view_name": "HTMLView",
            "description": "",
            "description_tooltip": null,
            "layout": "IPY_MODEL_9fc2c574cd3641dba2833ed43b00c515",
            "placeholder": "​",
            "style": "IPY_MODEL_c5371cf51fbf439c9a5b81dd6e870ab1",
            "value": "Generating train split: 100%"
          }
        },
        "fb51f86b2ac149d0834dbf8cc4da6d19": {
          "model_module": "@jupyter-widgets/controls",
          "model_module_version": "1.5.0",
          "model_name": "ProgressStyleModel",
          "state": {
            "_model_module": "@jupyter-widgets/controls",
            "_model_module_version": "1.5.0",
            "_model_name": "ProgressStyleModel",
            "_view_count": null,
            "_view_module": "@jupyter-widgets/base",
            "_view_module_version": "1.2.0",
            "_view_name": "StyleView",
            "bar_color": null,
            "description_width": ""
          }
        },
        "fbf24d00595347dfb5fcfd9053aec907": {
          "model_module": "@jupyter-widgets/base",
          "model_module_version": "1.2.0",
          "model_name": "LayoutModel",
          "state": {
            "_model_module": "@jupyter-widgets/base",
            "_model_module_version": "1.2.0",
            "_model_name": "LayoutModel",
            "_view_count": null,
            "_view_module": "@jupyter-widgets/base",
            "_view_module_version": "1.2.0",
            "_view_name": "LayoutView",
            "align_content": null,
            "align_items": null,
            "align_self": null,
            "border": null,
            "bottom": null,
            "display": null,
            "flex": null,
            "flex_flow": null,
            "grid_area": null,
            "grid_auto_columns": null,
            "grid_auto_flow": null,
            "grid_auto_rows": null,
            "grid_column": null,
            "grid_gap": null,
            "grid_row": null,
            "grid_template_areas": null,
            "grid_template_columns": null,
            "grid_template_rows": null,
            "height": null,
            "justify_content": null,
            "justify_items": null,
            "left": null,
            "margin": null,
            "max_height": null,
            "max_width": null,
            "min_height": null,
            "min_width": null,
            "object_fit": null,
            "object_position": null,
            "order": null,
            "overflow": null,
            "overflow_x": null,
            "overflow_y": null,
            "padding": null,
            "right": null,
            "top": null,
            "visibility": null,
            "width": null
          }
        },
        "fea9ae44b1fb4b4f915a52293354b41c": {
          "model_module": "@jupyter-widgets/controls",
          "model_module_version": "1.5.0",
          "model_name": "DescriptionStyleModel",
          "state": {
            "_model_module": "@jupyter-widgets/controls",
            "_model_module_version": "1.5.0",
            "_model_name": "DescriptionStyleModel",
            "_view_count": null,
            "_view_module": "@jupyter-widgets/base",
            "_view_module_version": "1.2.0",
            "_view_name": "StyleView",
            "description_width": ""
          }
        }
      }
    },
    "kaggle": {
      "accelerator": "gpu",
      "dataSources": [],
      "dockerImageVersionId": 30823,
      "isInternetEnabled": true,
      "language": "python",
      "sourceType": "notebook",
      "isGpuEnabled": true
    }
  },
  "nbformat_minor": 0,
  "nbformat": 4,
  "cells": [
    {
      "cell_type": "markdown",
      "source": [
        "# Fine-Tuned BERT for Named-Entity Recognition (NER) using Transformers and PyTorch\n",
        "\n",
        "In this notebook, the process of fine-tuning a pre-trained BERT-based model (DistilBERT) for the task of Named-Entity Recognition (NER) will be explored. NER is a fundamental task in Natural Language Processing (NLP) that involves identifying entities such as persons, locations, and organizations in text.\n",
        "\n",
        "**Why Fine-Tune BERT for NER?**\n",
        "\n",
        "Pre-trained models like BERT and DistilBERT are general-purpose language models trained on vast amounts of text data. However, for domain-specific tasks like NER, fine-tuning is essential to *adapt the model to the specific task* requirements and dataset. This enables the model to achieve higher accuracy by leveraging task-specific labeled data.\n",
        "\n",
        "**How to Fine-Tune BERT?**\n",
        "\n",
        "We will first utilize the **Trainer API** from the **Transformers library** to simplify the fine-tuning process. Next, we will implement a **custom training loop using PyTorch** for greater flexibility and control. Finally, we will evaluate the fine-tuned models and make predictions using the trained models.\n",
        "\n",
        "**Steps:**\n",
        "\n",
        "0) Install the Transformers, Datasets, and Evaluate libraries.\n",
        "\n",
        "1) Load and understand the dataset for the NER task.\n",
        "\n",
        "2) Preprocess the data to make it compatible with the model.\n",
        "\n",
        "3) Fine-tune the model using the Trainer API of the Transformers library.\n",
        "\n",
        "4) Fine-tune the model using a custom PyTorch implementation.\n",
        "\n",
        "5) Make predictions using the pipeline API on the Trainer API fine-tuned model.\n",
        "\n",
        "6) Make predictions using the PyTorch fine-tuned model.\n",
        "\n",
        "\n",
        "The model is saved on my account of HuggingFace, you can import it and use it (you can see how it's done on the step number 5)\n",
        "\n",
        "[Wencho/distilledber-finetuned-ner](https://huggingface.co/Wencho/distilledbert-finetuned-ner)"
      ],
      "metadata": {
        "id": "PeBev56IPXS2"
      }
    },
    {
      "cell_type": "markdown",
      "source": [
        "### 0) Install the Transformers, Datasets, and Evaluate libraries"
      ],
      "metadata": {
        "id": "t14SDDDxPXS3"
      }
    },
    {
      "cell_type": "code",
      "source": [
        "!pip install datasets evaluate transformers[sentencepiece]\n",
        "!pip install accelerate -U"
      ],
      "metadata": {
        "colab": {
          "base_uri": "https://localhost:8080/"
        },
        "id": "j7X8viLTPXS3",
        "outputId": "f9df3904-4356-48f2-c5a4-6d35f1879580",
        "trusted": true,
        "execution": {
          "iopub.status.busy": "2025-01-03T20:51:07.936808Z",
          "iopub.execute_input": "2025-01-03T20:51:07.937087Z",
          "iopub.status.idle": "2025-01-03T20:51:16.577651Z",
          "shell.execute_reply.started": "2025-01-03T20:51:07.937066Z",
          "shell.execute_reply": "2025-01-03T20:51:16.576561Z"
        }
      },
      "outputs": [
        {
          "name": "stdout",
          "text": "Requirement already satisfied: datasets in /usr/local/lib/python3.10/dist-packages (3.2.0)\nCollecting evaluate\n  Downloading evaluate-0.4.3-py3-none-any.whl.metadata (9.2 kB)\nRequirement already satisfied: transformers[sentencepiece] in /usr/local/lib/python3.10/dist-packages (4.44.2)\nRequirement already satisfied: filelock in /usr/local/lib/python3.10/dist-packages (from datasets) (3.16.1)\nRequirement already satisfied: numpy>=1.17 in /usr/local/lib/python3.10/dist-packages (from datasets) (1.26.4)\nRequirement already satisfied: pyarrow>=15.0.0 in /usr/local/lib/python3.10/dist-packages (from datasets) (18.1.0)\nRequirement already satisfied: dill<0.3.9,>=0.3.0 in /usr/local/lib/python3.10/dist-packages (from datasets) (0.3.8)\nRequirement already satisfied: pandas in /usr/local/lib/python3.10/dist-packages (from datasets) (2.1.4)\nRequirement already satisfied: requests>=2.32.2 in /usr/local/lib/python3.10/dist-packages (from datasets) (2.32.3)\nRequirement already satisfied: tqdm>=4.66.3 in /usr/local/lib/python3.10/dist-packages (from datasets) (4.66.5)\nRequirement already satisfied: xxhash in /usr/local/lib/python3.10/dist-packages (from datasets) (3.5.0)\nRequirement already satisfied: multiprocess<0.70.17 in /usr/local/lib/python3.10/dist-packages (from datasets) (0.70.16)\nRequirement already satisfied: fsspec<=2024.9.0,>=2023.1.0 in /usr/local/lib/python3.10/dist-packages (from fsspec[http]<=2024.9.0,>=2023.1.0->datasets) (2024.6.1)\nRequirement already satisfied: aiohttp in /usr/local/lib/python3.10/dist-packages (from datasets) (3.10.5)\nRequirement already satisfied: huggingface-hub>=0.23.0 in /usr/local/lib/python3.10/dist-packages (from datasets) (0.24.7)\nRequirement already satisfied: packaging in /usr/local/lib/python3.10/dist-packages (from datasets) (24.1)\nRequirement already satisfied: pyyaml>=5.1 in /usr/local/lib/python3.10/dist-packages (from datasets) (6.0.2)\nRequirement already satisfied: regex!=2019.12.17 in /usr/local/lib/python3.10/dist-packages (from transformers[sentencepiece]) (2024.9.11)\nRequirement already satisfied: safetensors>=0.4.1 in /usr/local/lib/python3.10/dist-packages (from transformers[sentencepiece]) (0.4.5)\nRequirement already satisfied: tokenizers<0.20,>=0.19 in /usr/local/lib/python3.10/dist-packages (from transformers[sentencepiece]) (0.19.1)\nRequirement already satisfied: protobuf in /usr/local/lib/python3.10/dist-packages (from transformers[sentencepiece]) (3.20.3)\nRequirement already satisfied: sentencepiece!=0.1.92,>=0.1.91 in /usr/local/lib/python3.10/dist-packages (from transformers[sentencepiece]) (0.2.0)\nRequirement already satisfied: aiohappyeyeballs>=2.3.0 in /usr/local/lib/python3.10/dist-packages (from aiohttp->datasets) (2.4.0)\nRequirement already satisfied: aiosignal>=1.1.2 in /usr/local/lib/python3.10/dist-packages (from aiohttp->datasets) (1.3.1)\nRequirement already satisfied: attrs>=17.3.0 in /usr/local/lib/python3.10/dist-packages (from aiohttp->datasets) (24.2.0)\nRequirement already satisfied: frozenlist>=1.1.1 in /usr/local/lib/python3.10/dist-packages (from aiohttp->datasets) (1.4.1)\nRequirement already satisfied: multidict<7.0,>=4.5 in /usr/local/lib/python3.10/dist-packages (from aiohttp->datasets) (6.1.0)\nRequirement already satisfied: yarl<2.0,>=1.0 in /usr/local/lib/python3.10/dist-packages (from aiohttp->datasets) (1.11.1)\nRequirement already satisfied: async-timeout<5.0,>=4.0 in /usr/local/lib/python3.10/dist-packages (from aiohttp->datasets) (4.0.3)\nRequirement already satisfied: typing-extensions>=3.7.4.3 in /usr/local/lib/python3.10/dist-packages (from huggingface-hub>=0.23.0->datasets) (4.12.2)\nRequirement already satisfied: charset-normalizer<4,>=2 in /usr/local/lib/python3.10/dist-packages (from requests>=2.32.2->datasets) (3.3.2)\nRequirement already satisfied: idna<4,>=2.5 in /usr/local/lib/python3.10/dist-packages (from requests>=2.32.2->datasets) (3.10)\nRequirement already satisfied: urllib3<3,>=1.21.1 in /usr/local/lib/python3.10/dist-packages (from requests>=2.32.2->datasets) (2.2.3)\nRequirement already satisfied: certifi>=2017.4.17 in /usr/local/lib/python3.10/dist-packages (from requests>=2.32.2->datasets) (2024.8.30)\nRequirement already satisfied: python-dateutil>=2.8.2 in /usr/local/lib/python3.10/dist-packages (from pandas->datasets) (2.8.2)\nRequirement already satisfied: pytz>=2020.1 in /usr/local/lib/python3.10/dist-packages (from pandas->datasets) (2024.2)\nRequirement already satisfied: tzdata>=2022.1 in /usr/local/lib/python3.10/dist-packages (from pandas->datasets) (2024.1)\nRequirement already satisfied: six>=1.5 in /usr/local/lib/python3.10/dist-packages (from python-dateutil>=2.8.2->pandas->datasets) (1.16.0)\nDownloading evaluate-0.4.3-py3-none-any.whl (84 kB)\n\u001b[2K   \u001b[90m━━━━━━━━━━━━━━━━━━━━━━━━━━━━━━━━━━━━━━━━\u001b[0m \u001b[32m84.0/84.0 kB\u001b[0m \u001b[31m3.6 MB/s\u001b[0m eta \u001b[36m0:00:00\u001b[0m\n\u001b[?25hInstalling collected packages: evaluate\nSuccessfully installed evaluate-0.4.3\nRequirement already satisfied: accelerate in /usr/local/lib/python3.10/dist-packages (0.34.2)\nCollecting accelerate\n  Downloading accelerate-1.2.1-py3-none-any.whl.metadata (19 kB)\nRequirement already satisfied: numpy<3.0.0,>=1.17 in /usr/local/lib/python3.10/dist-packages (from accelerate) (1.26.4)\nRequirement already satisfied: packaging>=20.0 in /usr/local/lib/python3.10/dist-packages (from accelerate) (24.1)\nRequirement already satisfied: psutil in /usr/local/lib/python3.10/dist-packages (from accelerate) (5.9.5)\nRequirement already satisfied: pyyaml in /usr/local/lib/python3.10/dist-packages (from accelerate) (6.0.2)\nRequirement already satisfied: torch>=1.10.0 in /usr/local/lib/python3.10/dist-packages (from accelerate) (2.4.1+cu121)\nRequirement already satisfied: huggingface-hub>=0.21.0 in /usr/local/lib/python3.10/dist-packages (from accelerate) (0.24.7)\nRequirement already satisfied: safetensors>=0.4.3 in /usr/local/lib/python3.10/dist-packages (from accelerate) (0.4.5)\nRequirement already satisfied: filelock in /usr/local/lib/python3.10/dist-packages (from huggingface-hub>=0.21.0->accelerate) (3.16.1)\nRequirement already satisfied: fsspec>=2023.5.0 in /usr/local/lib/python3.10/dist-packages (from huggingface-hub>=0.21.0->accelerate) (2024.6.1)\nRequirement already satisfied: requests in /usr/local/lib/python3.10/dist-packages (from huggingface-hub>=0.21.0->accelerate) (2.32.3)\nRequirement already satisfied: tqdm>=4.42.1 in /usr/local/lib/python3.10/dist-packages (from huggingface-hub>=0.21.0->accelerate) (4.66.5)\nRequirement already satisfied: typing-extensions>=3.7.4.3 in /usr/local/lib/python3.10/dist-packages (from huggingface-hub>=0.21.0->accelerate) (4.12.2)\nRequirement already satisfied: sympy in /usr/local/lib/python3.10/dist-packages (from torch>=1.10.0->accelerate) (1.13.3)\nRequirement already satisfied: networkx in /usr/local/lib/python3.10/dist-packages (from torch>=1.10.0->accelerate) (3.3)\nRequirement already satisfied: jinja2 in /usr/local/lib/python3.10/dist-packages (from torch>=1.10.0->accelerate) (3.1.4)\nRequirement already satisfied: MarkupSafe>=2.0 in /usr/local/lib/python3.10/dist-packages (from jinja2->torch>=1.10.0->accelerate) (2.1.5)\nRequirement already satisfied: charset-normalizer<4,>=2 in /usr/local/lib/python3.10/dist-packages (from requests->huggingface-hub>=0.21.0->accelerate) (3.3.2)\nRequirement already satisfied: idna<4,>=2.5 in /usr/local/lib/python3.10/dist-packages (from requests->huggingface-hub>=0.21.0->accelerate) (3.10)\nRequirement already satisfied: urllib3<3,>=1.21.1 in /usr/local/lib/python3.10/dist-packages (from requests->huggingface-hub>=0.21.0->accelerate) (2.2.3)\nRequirement already satisfied: certifi>=2017.4.17 in /usr/local/lib/python3.10/dist-packages (from requests->huggingface-hub>=0.21.0->accelerate) (2024.8.30)\nRequirement already satisfied: mpmath<1.4,>=1.1.0 in /usr/local/lib/python3.10/dist-packages (from sympy->torch>=1.10.0->accelerate) (1.3.0)\nDownloading accelerate-1.2.1-py3-none-any.whl (336 kB)\n\u001b[2K   \u001b[90m━━━━━━━━━━━━━━━━━━━━━━━━━━━━━━━━━━━━━━━━\u001b[0m \u001b[32m336.4/336.4 kB\u001b[0m \u001b[31m8.4 MB/s\u001b[0m eta \u001b[36m0:00:00\u001b[0mta \u001b[36m0:00:01\u001b[0m\n\u001b[?25hInstalling collected packages: accelerate\n  Attempting uninstall: accelerate\n    Found existing installation: accelerate 0.34.2\n    Uninstalling accelerate-0.34.2:\n      Successfully uninstalled accelerate-0.34.2\nSuccessfully installed accelerate-1.2.1\n",
          "output_type": "stream"
        }
      ],
      "execution_count": null
    },
    {
      "cell_type": "markdown",
      "source": [
        "### 1) Load and understand the dataset for the NER task\n",
        "\n",
        "In this section, we load the **CoNLL-2003 dataset** using the **datasets library** from **Hugging Face**. This dataset is a widely used benchmark for Named Entity Recognition (NER) tasks and contains labeled tokens **with four types of named entities**:\n",
        "- LOC (locations)\n",
        "- ORG (organizations)\n",
        "- PER (persons)\n",
        "- MISC (miscellaneous entities).\n",
        "\n",
        "\n",
        "**The dataset is divided into three parts:**\n",
        "\n",
        "- Train: Contains 14,041 examples for model training. This is the primary dataset used to fine-tune the model.\n",
        "- Validation: Includes 3,250 examples used to evaluate the model during training and tune hyperparameters, ensuring it generalizes well.\n",
        "- Test: Comprises 3,453 examples to assess the model's performance after training."
      ],
      "metadata": {
        "id": "9mrk4p72Vy72"
      }
    },
    {
      "cell_type": "code",
      "source": [
        "from datasets import load_dataset\n",
        "\n",
        "raw_datasets = load_dataset(\"conll2003\")"
      ],
      "metadata": {
        "colab": {
          "base_uri": "https://localhost:8080/",
          "height": 383,
          "referenced_widgets": [
            "bff625b836f949c5b9a40d3ee74fdf1b",
            "dbc083d489564fc992267ead669ce8a8",
            "46e126028e334dbda80499b6f772e644",
            "5f4d81b6c1fd482d963bfcd9e4cc3f47",
            "5267614c44ca44a693f0b017e331c8a9",
            "60fbac0986ea4ba9bef01dc43abf38aa",
            "aa9a1efc565d4c81bcbd0b10c007c535",
            "9a5fc1fde48e44bf8691255fd828d7b9",
            "95d1d867fa6c44258818539ece345a10",
            "32183becc41047d5a88c1b782757b474",
            "21c6bef3797a4717b29d6d81ba589550",
            "8ce6ca036f284e55a0251c7f1e639f28",
            "b0b6c47afd8947518ebc0ff0c41b4525",
            "d96a8e76c6424621a32f5d1bca10c52f",
            "94b8b77078b4487fa7ae6eae17b47276",
            "4cb0ac8727d2489694fc328d69df2a04",
            "984aa0cf6c3b45568165fa83c37ed850",
            "1f8bb12c982444da82370c8875507683",
            "5226bc8cec124f2c9d93f29ed342d930",
            "d8df1dc1e1744be0982c159a0d5ccf71",
            "af13305d83ce4947a17a20d723511d7d",
            "5caff1568dc44b249caa58848577c277",
            "ee5180e2ac724719be6e55a34d955f3c",
            "5a64ac6933a44b8f8f698e6104571e1c",
            "4bba658eead546c0be7ca3515b8a0486",
            "a48a610418564f6689652946decd8dfa",
            "317502d56ffc4975b7cfabf09b188d7f",
            "d42133f3472a4f629b33738b5483d19f",
            "c042cc5e75c24992a8d253930c5f87ee",
            "b93a5bc8bc4241ab83e7d9fddecb6bbd",
            "8b6d91f2d1794300a8bcb11c43e3cf2d",
            "941468310ed74fcfa36b50ea6b563306",
            "b3fb940e25a24667aa9fc494cc1c71c8",
            "321085d6870d4dafabe925a0e77ee187",
            "fb33ec0106d246f19ddcaa4186ffe340",
            "266cf14f043e47adb07d87310bbd9ff8",
            "88f051f5326a4c4db5de3eebad77574c",
            "3a3bf159928a438abb06442dbd971733",
            "9fc2c574cd3641dba2833ed43b00c515",
            "c5371cf51fbf439c9a5b81dd6e870ab1",
            "449b3fd9943f4f84bebf51d5a767eca0",
            "6a234e28a10c41fd84eb9b8e42ed96b0",
            "3e94226c60c348e987d01304d83a2efb",
            "6c2c98ba0530459eb8e53fffb158684d",
            "be0d5e00be9646e8a3b729bbb2b5736e",
            "9c467f91e90d4c7b9ba382b8921f144c",
            "eee9669371f84986a17e134ee8c99238",
            "60b4295569a848a9a81c65ad31482d17",
            "575719521faf4c56ac5e3db91758e80c",
            "bcc66e7e1bf7484aaaa8542919c6b25b",
            "fea9ae44b1fb4b4f915a52293354b41c",
            "d2838275eec5484fb934c0fd67803ed0",
            "fb207773608e4fc4b35f277cc819dec3",
            "aa085eff17574845a371c13895aa6990",
            "f2007d4835ef4a6390be0197316aa97d",
            "3386cebdda3047959e7c371006f6e530",
            "aab78d0b74d14326be813dc0c7d4e7e1",
            "1eed0f1ada1e428cbd330f33dd52d0d5",
            "f4f4c9fa9bb54e478dc2b64788b512c1",
            "346a75df28dc4b03930a22346ff80b12",
            "311887f368a44541854baadd71df2c1d",
            "86eb199710694fb6a9a86ab3cd7eaf0a",
            "c6efa791bb8c452ca5d4cab2064a7caf",
            "886d892bd8044971bc50e6b5e4df082a",
            "440014d6df904e3e8570146e3f99741c",
            "830d1e5b43bc4c4e8877d2665709ead1",
            "c0576258124a401e95f7f1a073027ed2",
            "45fd43744ff44d8ab3b7bf75bc5a2503",
            "b02a361e2c5f48a4ad9c84e95fd9e531",
            "dd7e157cda7e4394be78a86603d5150a",
            "f8f6bc2fe51d4d5699dce74fd4c6cdaa",
            "6aeb7dc3e3f24fe3af2389b76bdd8f11"
          ]
        },
        "id": "532EV_tQPXS5",
        "outputId": "a60868b4-0d72-4fd3-f64c-b1d0705fefac",
        "trusted": true,
        "execution": {
          "iopub.status.busy": "2025-01-03T20:51:20.82314Z",
          "iopub.execute_input": "2025-01-03T20:51:20.823507Z",
          "iopub.status.idle": "2025-01-03T20:51:30.0006Z",
          "shell.execute_reply.started": "2025-01-03T20:51:20.823475Z",
          "shell.execute_reply": "2025-01-03T20:51:29.99997Z"
        }
      },
      "outputs": [
        {
          "output_type": "display_data",
          "data": {
            "text/plain": "README.md:   0%|          | 0.00/12.3k [00:00<?, ?B/s]",
            "application/vnd.jupyter.widget-view+json": {
              "version_major": 2,
              "version_minor": 0,
              "model_id": "c0576258124a401e95f7f1a073027ed2"
            }
          },
          "metadata": {}
        },
        {
          "output_type": "display_data",
          "data": {
            "text/plain": "conll2003.py:   0%|          | 0.00/9.57k [00:00<?, ?B/s]",
            "application/vnd.jupyter.widget-view+json": {
              "version_major": 2,
              "version_minor": 0,
              "model_id": "45fd43744ff44d8ab3b7bf75bc5a2503"
            }
          },
          "metadata": {}
        },
        {
          "output_type": "stream",
          "name": "stdin",
          "text": "The repository for conll2003 contains custom code which must be executed to correctly load the dataset. You can inspect the repository content at https://hf.co/datasets/conll2003.\nYou can avoid this prompt in future by passing the argument `trust_remote_code=True`.\n\nDo you wish to run the custom code? [y/N]  y\n"
        },
        {
          "output_type": "display_data",
          "data": {
            "text/plain": "Downloading data:   0%|          | 0.00/983k [00:00<?, ?B/s]",
            "application/vnd.jupyter.widget-view+json": {
              "version_major": 2,
              "version_minor": 0,
              "model_id": "b02a361e2c5f48a4ad9c84e95fd9e531"
            }
          },
          "metadata": {}
        },
        {
          "output_type": "display_data",
          "data": {
            "text/plain": "Generating train split:   0%|          | 0/14041 [00:00<?, ? examples/s]",
            "application/vnd.jupyter.widget-view+json": {
              "version_major": 2,
              "version_minor": 0,
              "model_id": "dd7e157cda7e4394be78a86603d5150a"
            }
          },
          "metadata": {}
        },
        {
          "output_type": "display_data",
          "data": {
            "text/plain": "Generating validation split:   0%|          | 0/3250 [00:00<?, ? examples/s]",
            "application/vnd.jupyter.widget-view+json": {
              "version_major": 2,
              "version_minor": 0,
              "model_id": "f8f6bc2fe51d4d5699dce74fd4c6cdaa"
            }
          },
          "metadata": {}
        },
        {
          "output_type": "display_data",
          "data": {
            "text/plain": "Generating test split:   0%|          | 0/3453 [00:00<?, ? examples/s]",
            "application/vnd.jupyter.widget-view+json": {
              "version_major": 2,
              "version_minor": 0,
              "model_id": "6aeb7dc3e3f24fe3af2389b76bdd8f11"
            }
          },
          "metadata": {}
        }
      ],
      "execution_count": null
    },
    {
      "cell_type": "markdown",
      "source": [
        "Let's take a first look at the dataset\n",
        "\n",
        "As we can see, we have the tokens and the labels of each one of them for the following NLP tasks: POS, CHUNK, and NER.\n",
        "\n",
        "**I'm going to use the NER section**\n",
        "\n",
        "\n",
        "**IMPORTANT:**  The input texts **are not presented as sentences or documents**, but **lists of words (Pre-Tokenized dataset)**."
      ],
      "metadata": {
        "id": "HNjGtV51V23J"
      }
    },
    {
      "cell_type": "code",
      "source": [
        "raw_datasets"
      ],
      "metadata": {
        "colab": {
          "base_uri": "https://localhost:8080/"
        },
        "id": "ydYRJfTMPXS5",
        "outputId": "1d590558-176f-4945-c574-f22bf6bb3920",
        "trusted": true,
        "execution": {
          "iopub.status.busy": "2025-01-03T20:51:32.660803Z",
          "iopub.execute_input": "2025-01-03T20:51:32.661092Z",
          "iopub.status.idle": "2025-01-03T20:51:32.666375Z",
          "shell.execute_reply.started": "2025-01-03T20:51:32.661069Z",
          "shell.execute_reply": "2025-01-03T20:51:32.665496Z"
        }
      },
      "outputs": [
        {
          "execution_count": 4,
          "output_type": "execute_result",
          "data": {
            "text/plain": "DatasetDict({\n    train: Dataset({\n        features: ['id', 'tokens', 'pos_tags', 'chunk_tags', 'ner_tags'],\n        num_rows: 14041\n    })\n    validation: Dataset({\n        features: ['id', 'tokens', 'pos_tags', 'chunk_tags', 'ner_tags'],\n        num_rows: 3250\n    })\n    test: Dataset({\n        features: ['id', 'tokens', 'pos_tags', 'chunk_tags', 'ner_tags'],\n        num_rows: 3453\n    })\n})"
          },
          "metadata": {}
        }
      ],
      "execution_count": null
    },
    {
      "cell_type": "code",
      "source": [
        "# Printing the first training example.\n",
        "## For the first example we print the tokens and the NER tags that we'll use for the training part.\n",
        "\n",
        "print(raw_datasets[\"train\"][0])\n",
        "print(raw_datasets[\"train\"][0][\"tokens\"])\n",
        "print(raw_datasets[\"train\"][0][\"ner_tags\"])"
      ],
      "metadata": {
        "colab": {
          "base_uri": "https://localhost:8080/"
        },
        "id": "IzsefcaJPXS6",
        "outputId": "b7bba19c-c5c1-4a25-f0b3-d1b644e23900",
        "trusted": true,
        "execution": {
          "iopub.status.busy": "2025-01-03T20:51:35.241865Z",
          "iopub.execute_input": "2025-01-03T20:51:35.242149Z",
          "iopub.status.idle": "2025-01-03T20:51:35.250377Z",
          "shell.execute_reply.started": "2025-01-03T20:51:35.242127Z",
          "shell.execute_reply": "2025-01-03T20:51:35.249689Z"
        }
      },
      "outputs": [
        {
          "name": "stdout",
          "text": "{'id': '0', 'tokens': ['EU', 'rejects', 'German', 'call', 'to', 'boycott', 'British', 'lamb', '.'], 'pos_tags': [22, 42, 16, 21, 35, 37, 16, 21, 7], 'chunk_tags': [11, 21, 11, 12, 21, 22, 11, 12, 0], 'ner_tags': [3, 0, 7, 0, 0, 0, 7, 0, 0]}\n['EU', 'rejects', 'German', 'call', 'to', 'boycott', 'British', 'lamb', '.']\n[3, 0, 7, 0, 0, 0, 7, 0, 0]\n",
          "output_type": "stream"
        }
      ],
      "execution_count": null
    },
    {
      "cell_type": "markdown",
      "source": [
        "**0** means the word doesn’t correspond to any entity.\n",
        "\n",
        "**B-PER/I-PER** means the word corresponds to the beginning of/is inside a person entity.\n",
        "\n",
        "**B-ORG/I-ORG** means the word corresponds to the beginning of/is inside an organization entity.\n",
        "\n",
        "**B-LOC/I-LOC** means the word corresponds to the beginning of/is inside a location entity.\n",
        "\n",
        "**B-MISC/I-MISC** means the word corresponds to the beginning of/is inside a miscellaneous entity.\n",
        "\n",
        "Each **ner_tag** has an associated **ner_feature.name**\n",
        "\n",
        "\n",
        "\n",
        "**For example:** 3 refers to B-ORG, 7 refers to MISC"
      ],
      "metadata": {
        "id": "CU2DwC9kWMqz"
      }
    },
    {
      "cell_type": "code",
      "source": [
        "ner_feature = raw_datasets[\"train\"].features[\"ner_tags\"]\n",
        "print(ner_feature)\n",
        "\n",
        "label_names = ner_feature.feature.names\n",
        "print(label_names)"
      ],
      "metadata": {
        "colab": {
          "base_uri": "https://localhost:8080/"
        },
        "id": "9sbJ50xGPXS6",
        "outputId": "16aa4a4c-a08a-4f70-990c-f544eec68a46",
        "trusted": true,
        "execution": {
          "iopub.status.busy": "2025-01-03T20:51:38.019953Z",
          "iopub.execute_input": "2025-01-03T20:51:38.020238Z",
          "iopub.status.idle": "2025-01-03T20:51:38.025367Z",
          "shell.execute_reply.started": "2025-01-03T20:51:38.020214Z",
          "shell.execute_reply": "2025-01-03T20:51:38.024588Z"
        }
      },
      "outputs": [
        {
          "name": "stdout",
          "text": "Sequence(feature=ClassLabel(names=['O', 'B-PER', 'I-PER', 'B-ORG', 'I-ORG', 'B-LOC', 'I-LOC', 'B-MISC', 'I-MISC'], id=None), length=-1, id=None)\n['O', 'B-PER', 'I-PER', 'B-ORG', 'I-ORG', 'B-LOC', 'I-LOC', 'B-MISC', 'I-MISC']\n",
          "output_type": "stream"
        }
      ],
      "execution_count": null
    },
    {
      "cell_type": "markdown",
      "source": [
        "In this example below:\n",
        "\"EU rejects German call to boycott British lamb.\"\n",
        "\n",
        "EU is B-ORG\n",
        "\n",
        "German B-MISC\n",
        "\n",
        "British B-MISC\n",
        "\n",
        "and the rest is 0."
      ],
      "metadata": {
        "id": "38Sle4eyWWFi"
      }
    },
    {
      "cell_type": "code",
      "source": [
        "words = raw_datasets[\"train\"][0][\"tokens\"]\n",
        "labels = raw_datasets[\"train\"][0][\"ner_tags\"]\n",
        "line1 = \"\"\n",
        "line2 = \"\"\n",
        "for word, label in zip(words, labels):\n",
        "    full_label = label_names[label]\n",
        "    max_length = max(len(word), len(full_label))\n",
        "    line1 += word + \" \" * (max_length - len(word) + 1)\n",
        "    line2 += full_label + \" \" * (max_length - len(full_label) + 1)\n",
        "\n",
        "print(line1)\n",
        "print(line2)"
      ],
      "metadata": {
        "colab": {
          "base_uri": "https://localhost:8080/"
        },
        "id": "lMNrGW8YPXS7",
        "outputId": "c7f92020-d0c8-43e4-f17c-489bfccbe740",
        "trusted": true,
        "execution": {
          "iopub.status.busy": "2025-01-03T20:51:43.043852Z",
          "iopub.execute_input": "2025-01-03T20:51:43.044139Z",
          "iopub.status.idle": "2025-01-03T20:51:43.050467Z",
          "shell.execute_reply.started": "2025-01-03T20:51:43.044117Z",
          "shell.execute_reply": "2025-01-03T20:51:43.049536Z"
        }
      },
      "outputs": [
        {
          "name": "stdout",
          "text": "EU    rejects German call to boycott British lamb . \nB-ORG O       B-MISC O    O  O       B-MISC  O    O \n",
          "output_type": "stream"
        }
      ],
      "execution_count": null
    },
    {
      "cell_type": "markdown",
      "source": [
        "### 2) Preprocess the data to make it compatible with the model\n",
        "\n",
        "Before the **DistilBERT model** can process the dataset, the **text data must be converted into token IDs**. This transformation allows the model to understand and process the input effectively. To accomplish this, we use a pretrained **DistilBERT tokenizer**, which will tokenize the input text and generate corresponding token IDs.\n",
        "\n",
        "Since the **CoNLL-2003 dataset is pre-tokenized** (containing individual words rather than entire sentences), we utilize the tokenizer with the parameter **is_split_into_words=True**. This ensures that the tokenizer correctly processes the pre-tokenized input without treating each word as a separate sentence.\n",
        "\n",
        "However, tokenization introduces **challenges** when aligning the labels with the tokens. For example:\n",
        "\n",
        "1) The tokenizer may split a word into multiple subwords\n",
        "\n",
        "2) Special tokens like [CLS] (at the beginning) and [SEP] (at the end) are added automatically.\n",
        "\n",
        "This mismatch means that the *number of tokens may not match the number of labels*. To address this, we **align the labels with the tokenized input** while accounting for special tokens and subword splits. This alignment ensures that each token is correctly associated with its corresponding label, enabling the model to learn effectively during training."
      ],
      "metadata": {
        "id": "qc21bYp0W8ke"
      }
    },
    {
      "cell_type": "markdown",
      "source": [
        "#### A) Using AutoTokenizer with the model_checkpoint"
      ],
      "metadata": {
        "id": "Chzr8dOWvklM"
      }
    },
    {
      "cell_type": "code",
      "source": [
        "from transformers import AutoTokenizer\n",
        "\n",
        "model_checkpoint = \"distilbert-base-uncased\"\n",
        "tokenizer = AutoTokenizer.from_pretrained(model_checkpoint)"
      ],
      "metadata": {
        "colab": {
          "base_uri": "https://localhost:8080/",
          "height": 214,
          "referenced_widgets": [
            "1b8e58ccb077472da590f77f22c849db",
            "59664cdb0ca64eefb73a4d864d726f0d",
            "a73a5a384abf45b3a3a03cbe46c2c707",
            "a24bad0024ca4c96a19fedab129e5ff3",
            "c8130d71a0b14f2b8f3a5fc22ee38410",
            "310ef46ab5344cfdb9372fa0321eb342",
            "c17eeef687c64310a37890a516638607",
            "0ffa0edbbb234df2803fc133ec9eb531",
            "9f1cf31cfc234b5188d6bbe87a592870",
            "5ab9360d09734a42828eaa4d24de4626",
            "b7c2c2bac74047b892772a84333115f2",
            "7f2657e56d0f4970a4ef9e649c7117c0",
            "1f24477213194fbc99f996299c3732c8",
            "3bf0d374aec640be85fb4dae1e5045ff",
            "da82fb43cfd94519af9051eb37e7cbbc",
            "10760c39a5d8474f97ea4014c6ff7174",
            "c093596876c04a17bcb6b07fafff42e1",
            "3e530a354fe8463487b349da110386a7",
            "198ccf57193f45bea264151c73d661cc",
            "b426512b0453478080a4cd264b269b22",
            "874bbc8d0f844d00bfaad768458b7867",
            "795b971c58704f90ba46fdef7c20942c",
            "c6830400bc014e4989025912949ff2b6",
            "a4bc4821deee4dfca04dd5c0cd97b8f4",
            "1e9b21d4d4c94fc1a8b0267131c6efad",
            "35a2a3bf325c4fcc999d18b179391c5f",
            "283ae8a3e09a4c9eac662a80a1995622",
            "98215993763149419b58ca1dd02e3e2d",
            "145be7089c674010a08a83f69a1f9a7b",
            "ddb2d8778b814c888b6851ff519e32bf",
            "6113d41190cc486babfdbf3efb3a1fee",
            "3c731b998bce430b9baa4fcbf7850682",
            "9f39e0682e614a919f2471d633397043",
            "ae16017c50814239a334780e546ed1f9",
            "53c32c8f5458480ab229857796fab96d",
            "b16fe5a9f3a940508a12f13fe1e766a8",
            "f0dc617a2d4046d69deb2c57fed7d19a",
            "a710b1e7d93b4de9b9808e23d5e44b81",
            "da97ee2385f7431c837169c8bce7949f",
            "ebbdcfae7c444d43b80d37108200dbd5",
            "e429149167964007b45abc7121749dd6",
            "b816bc462cad43a6a5adffb93c624b9f",
            "9ce1bf8c2a98418abc62b77b484adac9",
            "e385dd2dae09428b959e694c83e48590",
            "3de3e21e78f44be88f88aad9ce5a91de",
            "ea8b507861744481a4ec50fb1b7b2d23",
            "be79cf31d98a487db8ed31c39402c0f9",
            "3f7e9c5ff64744cf9b8ed3d154a46568",
            "385bb702cd0440a3805bf55cf51fe0af",
            "745b4d79fd1443ddafd8e5470991ecb2",
            "30ca3d4d67c44c96b409539b68692229",
            "9c08127a884543cda3afd10755f03ed8",
            "05590b0b90c64fb184e7bf98b10624cc",
            "aa3a9aa987ac4972884e0f59b7964a86",
            "ba830f4bdca8414bb8b6cbe55012dfed",
            "78a1122b91ab4ce398ea378d3825958f",
            "d037cb95cdb14165b8d5e9b382a9b30c",
            "f51af99b9b3e41c59707422eab5f94f7",
            "d557231ed2134212938daf7dd1e34973",
            "1c8d200f5770449fb590eb4645a4a0f8"
          ]
        },
        "id": "uQFibjFDPXS7",
        "outputId": "6661ceae-5553-4d2c-93da-4a52fff8a823",
        "trusted": true,
        "execution": {
          "iopub.status.busy": "2025-01-03T20:51:46.631909Z",
          "iopub.execute_input": "2025-01-03T20:51:46.63221Z",
          "iopub.status.idle": "2025-01-03T20:51:48.4247Z",
          "shell.execute_reply.started": "2025-01-03T20:51:46.632183Z",
          "shell.execute_reply": "2025-01-03T20:51:48.423802Z"
        }
      },
      "outputs": [
        {
          "name": "stderr",
          "text": "The cache for model files in Transformers v4.22.0 has been updated. Migrating your old cache. This is a one-time only operation. You can interrupt this and resume the migration later on by calling `transformers.utils.move_cache()`.\n",
          "output_type": "stream"
        },
        {
          "output_type": "display_data",
          "data": {
            "text/plain": "0it [00:00, ?it/s]",
            "application/vnd.jupyter.widget-view+json": {
              "version_major": 2,
              "version_minor": 0,
              "model_id": "78a1122b91ab4ce398ea378d3825958f"
            }
          },
          "metadata": {}
        },
        {
          "output_type": "display_data",
          "data": {
            "text/plain": "tokenizer_config.json:   0%|          | 0.00/48.0 [00:00<?, ?B/s]",
            "application/vnd.jupyter.widget-view+json": {
              "version_major": 2,
              "version_minor": 0,
              "model_id": "d037cb95cdb14165b8d5e9b382a9b30c"
            }
          },
          "metadata": {}
        },
        {
          "output_type": "display_data",
          "data": {
            "text/plain": "config.json:   0%|          | 0.00/483 [00:00<?, ?B/s]",
            "application/vnd.jupyter.widget-view+json": {
              "version_major": 2,
              "version_minor": 0,
              "model_id": "f51af99b9b3e41c59707422eab5f94f7"
            }
          },
          "metadata": {}
        },
        {
          "output_type": "display_data",
          "data": {
            "text/plain": "vocab.txt:   0%|          | 0.00/232k [00:00<?, ?B/s]",
            "application/vnd.jupyter.widget-view+json": {
              "version_major": 2,
              "version_minor": 0,
              "model_id": "d557231ed2134212938daf7dd1e34973"
            }
          },
          "metadata": {}
        },
        {
          "output_type": "display_data",
          "data": {
            "text/plain": "tokenizer.json:   0%|          | 0.00/466k [00:00<?, ?B/s]",
            "application/vnd.jupyter.widget-view+json": {
              "version_major": 2,
              "version_minor": 0,
              "model_id": "1c8d200f5770449fb590eb4645a4a0f8"
            }
          },
          "metadata": {}
        },
        {
          "name": "stderr",
          "text": "/usr/local/lib/python3.10/dist-packages/transformers/tokenization_utils_base.py:1601: FutureWarning: `clean_up_tokenization_spaces` was not set. It will be set to `True` by default. This behavior will be depracted in transformers v4.45, and will be then set to `False` by default. For more details check this issue: https://github.com/huggingface/transformers/issues/31884\n  warnings.warn(\n",
          "output_type": "stream"
        }
      ],
      "execution_count": null
    },
    {
      "cell_type": "markdown",
      "source": [
        " to check that the tokenizer object using is indeed backed by Tokenizers library."
      ],
      "metadata": {
        "id": "MjeFNyzQXT9R"
      }
    },
    {
      "cell_type": "code",
      "source": [
        "tokenizer.is_fast"
      ],
      "metadata": {
        "colab": {
          "base_uri": "https://localhost:8080/"
        },
        "id": "RqBG2AUAPXS7",
        "outputId": "80e1825b-afc8-4342-b4bb-7f626f4710b6",
        "trusted": true,
        "execution": {
          "iopub.status.busy": "2025-01-03T20:51:51.228276Z",
          "iopub.execute_input": "2025-01-03T20:51:51.228749Z",
          "iopub.status.idle": "2025-01-03T20:51:51.234549Z",
          "shell.execute_reply.started": "2025-01-03T20:51:51.228711Z",
          "shell.execute_reply": "2025-01-03T20:51:51.233708Z"
        }
      },
      "outputs": [
        {
          "execution_count": 10,
          "output_type": "execute_result",
          "data": {
            "text/plain": "True"
          },
          "metadata": {}
        }
      ],
      "execution_count": null
    },
    {
      "cell_type": "markdown",
      "source": [
        "#### B) Example of tokenization and why we must align the labels"
      ],
      "metadata": {
        "id": "Z_Qiw99DvqzH"
      }
    },
    {
      "cell_type": "markdown",
      "source": [
        "**KeyNotes on the tokenization:**\n",
        "\n",
        "To tokenize a pre-tokenized input, we use the tokenizer adding: **is_split_into_words=True:**\n",
        "\n",
        "As said before there are a few challenges that we must take into consideration after the tokenization:\n",
        "\n",
        "**1)** The tokenizer added the **special tokens** used by the model BERT ([CLS] at the beginning and [SEP] at the end)\n",
        "\n",
        "**2)** Some words were tokenized as **subwords** (For example unjustified as un ##just ##ified\n",
        "\n",
        "This creates a **discrepancy** between our inputs and the labels: the label list contains only 9 elements, while the tokenized input now includes 12 tokens.\n",
        "\n",
        "Handling the special tokens is straightforward since we know their fixed positions at the beginning and end of the input. However, *aligning the remaining labels with the corresponding words becomes more complex*, especially when a word is split into multiple subword tokens."
      ],
      "metadata": {
        "id": "PrcFR2NrYA7b"
      }
    },
    {
      "cell_type": "code",
      "source": [
        "# Display the raw tokens from the dataset\n",
        "print(\"Raw tokens from the dataset:\")\n",
        "print(raw_datasets[\"train\"][10][\"tokens\"])\n",
        "\n",
        "# Tokenize the input while keeping track of word boundaries\n",
        "inputs = tokenizer(raw_datasets[\"train\"][10][\"tokens\"], is_split_into_words=True)\n",
        "\n",
        "# Display the tokens generated by the tokenizer\n",
        "print(\"\\nTokens generated by the tokenizer:\")\n",
        "print(inputs.tokens())\n",
        "\n",
        "# Display the word IDs corresponding to each token\n",
        "print(\"\\nWord IDs corresponding to each token:\")\n",
        "print(inputs.word_ids())\n"
      ],
      "metadata": {
        "colab": {
          "base_uri": "https://localhost:8080/"
        },
        "id": "LXHcygGPPXS7",
        "outputId": "09f767e1-519b-45ab-9dc7-f83fc305be4e",
        "trusted": true,
        "execution": {
          "iopub.status.busy": "2025-01-03T20:51:55.291975Z",
          "iopub.execute_input": "2025-01-03T20:51:55.292291Z",
          "iopub.status.idle": "2025-01-03T20:51:55.301954Z",
          "shell.execute_reply.started": "2025-01-03T20:51:55.292263Z",
          "shell.execute_reply": "2025-01-03T20:51:55.301015Z"
        }
      },
      "outputs": [
        {
          "name": "stdout",
          "text": "Raw tokens from the dataset:\n['Spanish', 'Farm', 'Minister', 'Loyola', 'de', 'Palacio', 'had', 'earlier', 'accused', 'Fischler', 'at', 'an', 'EU', 'farm', 'ministers', \"'\", 'meeting', 'of', 'causing', 'unjustified', 'alarm', 'through', '\"', 'dangerous', 'generalisation', '.', '\"']\n\nTokens generated by the tokenizer:\n['[CLS]', 'spanish', 'farm', 'minister', 'loyola', 'de', 'pal', '##acio', 'had', 'earlier', 'accused', 'fis', '##ch', '##ler', 'at', 'an', 'eu', 'farm', 'ministers', \"'\", 'meeting', 'of', 'causing', 'un', '##just', '##ified', 'alarm', 'through', '\"', 'dangerous', 'general', '##isation', '.', '\"', '[SEP]']\n\nWord IDs corresponding to each token:\n[None, 0, 1, 2, 3, 4, 5, 5, 6, 7, 8, 9, 9, 9, 10, 11, 12, 13, 14, 15, 16, 17, 18, 19, 19, 19, 20, 21, 22, 23, 24, 24, 25, 26, None]\n",
          "output_type": "stream"
        }
      ],
      "execution_count": null
    },
    {
      "cell_type": "markdown",
      "source": [
        "#### C) Aligning Labels with new Tokens"
      ],
      "metadata": {
        "id": "B7CJUD8D0ksN"
      }
    },
    {
      "cell_type": "markdown",
      "source": [
        "The **align_labels_with_tokens** function is used to align the labels from the dataset with the tokens generated by the tokenizer.\n",
        "\n",
        "For each **word_id** (which indicates which word a token belongs to):\n",
        "<br>\n",
        "<br>\n",
        "\n",
        "**A) New Word:** If the word_id changes (indicating the start of a new word), the corresponding label from the original list is used.\n",
        "  \n",
        "**B) Special Token:** If the word_id is None, it indicates a special token, and -100 is appended to new_labels.\n",
        "\n",
        "--> With -100 we indicate to the loss function to not care about this tokens (so we don't affect the training)\n",
        "\n",
        "**C) Subword of the Same Word:** If the word_id remains the same as the previous one, it means the token is a subword of the current word. In this case:\n",
        "The original label is reused.\n",
        "\n",
        "-->If the label represents the beginning of an entity (e.g., B-XXX), it is changed to the inside label (I-XXX) to maintain consistency across subwords.\n"
      ],
      "metadata": {
        "id": "Ra9iNopWY9Gw"
      }
    },
    {
      "cell_type": "code",
      "source": [
        "def align_labels_with_tokens(labels, word_ids):\n",
        "    new_labels = []\n",
        "    current_word = None\n",
        "    for word_id in word_ids:\n",
        "        if word_id != current_word:\n",
        "            # Start of a new word\n",
        "            current_word = word_id\n",
        "            label = -100 if word_id is None else labels[word_id]\n",
        "            new_labels.append(label)\n",
        "        elif word_id is None:\n",
        "            # Special token\n",
        "            new_labels.append(-100)\n",
        "        else:\n",
        "            # Same word as previous token\n",
        "            label = labels[word_id]\n",
        "            # If the label is B-XXX we change it to I-XXX\n",
        "            if label % 2 == 1:\n",
        "                label += 1\n",
        "            new_labels.append(label)\n",
        "\n",
        "    return new_labels"
      ],
      "metadata": {
        "id": "ynpbWTuSPXS8",
        "trusted": true,
        "execution": {
          "iopub.status.busy": "2025-01-03T20:51:59.507648Z",
          "iopub.execute_input": "2025-01-03T20:51:59.507931Z",
          "iopub.status.idle": "2025-01-03T20:51:59.512724Z",
          "shell.execute_reply.started": "2025-01-03T20:51:59.507909Z",
          "shell.execute_reply": "2025-01-03T20:51:59.511863Z"
        }
      },
      "outputs": [],
      "execution_count": null
    },
    {
      "cell_type": "code",
      "source": [
        " ### As an Example we show the element number 10 of train\n",
        "\n",
        "labels = raw_datasets[\"train\"][10][\"ner_tags\"]\n",
        "word_ids = inputs.word_ids()\n",
        "print(inputs.tokens())\n",
        "print(labels)\n",
        "print(align_labels_with_tokens(labels, word_ids))"
      ],
      "metadata": {
        "colab": {
          "base_uri": "https://localhost:8080/"
        },
        "id": "YNn-2HO9PXS8",
        "outputId": "534fd295-8b0b-432d-b54d-710b71c5cbe0",
        "trusted": true,
        "execution": {
          "iopub.status.busy": "2025-01-03T20:52:02.015153Z",
          "iopub.execute_input": "2025-01-03T20:52:02.015596Z",
          "iopub.status.idle": "2025-01-03T20:52:02.022769Z",
          "shell.execute_reply.started": "2025-01-03T20:52:02.015558Z",
          "shell.execute_reply": "2025-01-03T20:52:02.021906Z"
        }
      },
      "outputs": [
        {
          "name": "stdout",
          "text": "['[CLS]', 'spanish', 'farm', 'minister', 'loyola', 'de', 'pal', '##acio', 'had', 'earlier', 'accused', 'fis', '##ch', '##ler', 'at', 'an', 'eu', 'farm', 'ministers', \"'\", 'meeting', 'of', 'causing', 'un', '##just', '##ified', 'alarm', 'through', '\"', 'dangerous', 'general', '##isation', '.', '\"', '[SEP]']\n[7, 0, 0, 1, 2, 2, 0, 0, 0, 1, 0, 0, 3, 0, 0, 0, 0, 0, 0, 0, 0, 0, 0, 0, 0, 0, 0]\n[-100, 7, 0, 0, 1, 2, 2, 2, 0, 0, 0, 1, 2, 2, 0, 0, 3, 0, 0, 0, 0, 0, 0, 0, 0, 0, 0, 0, 0, 0, 0, 0, 0, 0, -100]\n",
          "output_type": "stream"
        }
      ],
      "execution_count": null
    },
    {
      "cell_type": "markdown",
      "source": [
        "#### D) Tokenization of the whole dataset with map()"
      ],
      "metadata": {
        "id": "KjSIa4gM0rOq"
      }
    },
    {
      "cell_type": "markdown",
      "source": [
        "To preprocess our whole dataset, we need to **tokenize all the inputs** and apply **align_labels_with_tokens()** on all the labels.\n",
        "\n",
        "Dataset.map() method with the option batched=True: To take advantage of the speed of the fast tokenizer, it’s best to tokenize lots of texts at the same time, processing as a list of examples."
      ],
      "metadata": {
        "id": "TZ7jycZ8ZwPX"
      }
    },
    {
      "cell_type": "code",
      "source": [
        "def tokenize_and_align_labels(examples):\n",
        "    tokenized_inputs = tokenizer(\n",
        "        examples[\"tokens\"], truncation=True, is_split_into_words=True\n",
        "    )\n",
        "    all_labels = examples[\"ner_tags\"]\n",
        "    new_labels = []\n",
        "    for i, labels in enumerate(all_labels):\n",
        "        word_ids = tokenized_inputs.word_ids(i)\n",
        "        new_labels.append(align_labels_with_tokens(labels, word_ids))\n",
        "\n",
        "    tokenized_inputs[\"labels\"] = new_labels\n",
        "    return tokenized_inputs"
      ],
      "metadata": {
        "id": "cMySHWVyPXS8",
        "trusted": true,
        "execution": {
          "iopub.status.busy": "2025-01-03T20:52:05.494843Z",
          "iopub.execute_input": "2025-01-03T20:52:05.495122Z",
          "iopub.status.idle": "2025-01-03T20:52:05.49944Z",
          "shell.execute_reply.started": "2025-01-03T20:52:05.495101Z",
          "shell.execute_reply": "2025-01-03T20:52:05.498692Z"
        }
      },
      "outputs": [],
      "execution_count": null
    },
    {
      "cell_type": "code",
      "source": [
        "tokenized_datasets = raw_datasets.map(\n",
        "    tokenize_and_align_labels,\n",
        "    batched=True,\n",
        "    remove_columns=raw_datasets[\"train\"].column_names,\n",
        ")"
      ],
      "metadata": {
        "colab": {
          "base_uri": "https://localhost:8080/",
          "height": 113,
          "referenced_widgets": [
            "58cfd20255f44eb2be58cc76f8f30a5a",
            "0d3b5ed27f1c47e9b6ddd77916b483c9",
            "32bf45fc3f504faa93b585044508997f",
            "1b7ba9eebc8e400b9d28ef0edbec2494",
            "16954bb8e7a6466a8c1c72b127186f70",
            "2843a5228b2a4fff9efea992c276460c",
            "af4e837597cc4d9789191cc72e20f2f1",
            "839643ec688e448b9f0b5afdcdb1be12",
            "449604fd22fb467785bf9d9c55acadfc",
            "fbf24d00595347dfb5fcfd9053aec907",
            "5234ec07ef0142cda5d9aa8e87b6d6f7",
            "002a8ce93b214e0cbbdac2e7273a1df2",
            "4110379ee0a3464e8c499b4d459038e7",
            "b94d571bc09c41fabd603348baa0172b",
            "148c85bd2f1d455e91e75c982e8cd673",
            "557043d17c434342afe1965c9603c137",
            "2c008c8e128e494d96302e99b7aca8f1",
            "c7b8f526dc4944068f156722bc555637",
            "aa8d97a6e953453e9fa16ed9a6996a75",
            "06cf18bd14c3416a881bf12574b2d3b1",
            "0b6bb9ffc30b4a4f8d115cdf97d03bb5",
            "ce3fc8b0774c405784bf606ec18ea3af",
            "552cc3e15c334686ac17179a14c3c982",
            "33afd6de8db743a9bc28ecb5bb47772e",
            "7d79f4f8f2ac458c9258f68a8744a4e8",
            "4bc2940b205e46fa8a86bdb286d56db0",
            "45e8bdd7434f4bdd972620fde008ef73",
            "6d2fa25014224d6a86da4b9e6e710aca",
            "1ab9d00c08154364b96342f5d67ef03b",
            "6520a7fdd6904898bb6b7ac32a8cd47d",
            "b26848a230fc49bfbf9c9d515704ba64",
            "634a8d609d1644d4bd76ea03e9266183",
            "38fd313f7aa0495fbe661806d13a85d9",
            "86c50fa749ae4114b82bbed248619a21",
            "55c11808143a427f95f84e771ebb35fe",
            "206ccd026aac490d8db23c5f79f3c741"
          ]
        },
        "id": "7XRqp7cjPXS8",
        "outputId": "5829cf3c-d05e-458b-b3af-65dd7aa4cdcf",
        "trusted": true,
        "execution": {
          "iopub.status.busy": "2025-01-03T20:52:10.412421Z",
          "iopub.execute_input": "2025-01-03T20:52:10.412761Z",
          "iopub.status.idle": "2025-01-03T20:52:12.284446Z",
          "shell.execute_reply.started": "2025-01-03T20:52:10.412736Z",
          "shell.execute_reply": "2025-01-03T20:52:12.28353Z"
        }
      },
      "outputs": [
        {
          "output_type": "display_data",
          "data": {
            "text/plain": "Map:   0%|          | 0/14041 [00:00<?, ? examples/s]",
            "application/vnd.jupyter.widget-view+json": {
              "version_major": 2,
              "version_minor": 0,
              "model_id": "86c50fa749ae4114b82bbed248619a21"
            }
          },
          "metadata": {}
        },
        {
          "output_type": "display_data",
          "data": {
            "text/plain": "Map:   0%|          | 0/3250 [00:00<?, ? examples/s]",
            "application/vnd.jupyter.widget-view+json": {
              "version_major": 2,
              "version_minor": 0,
              "model_id": "55c11808143a427f95f84e771ebb35fe"
            }
          },
          "metadata": {}
        },
        {
          "output_type": "display_data",
          "data": {
            "text/plain": "Map:   0%|          | 0/3453 [00:00<?, ? examples/s]",
            "application/vnd.jupyter.widget-view+json": {
              "version_major": 2,
              "version_minor": 0,
              "model_id": "206ccd026aac490d8db23c5f79f3c741"
            }
          },
          "metadata": {}
        }
      ],
      "execution_count": null
    },
    {
      "cell_type": "markdown",
      "source": [
        "### 3) Fine-tune the model using the Trainer API of the Transformers library"
      ],
      "metadata": {
        "id": "PuHeEUt9alm2"
      }
    },
    {
      "cell_type": "markdown",
      "source": [
        "#### A) Data Collation\n",
        "\n",
        "A **Data Collator** plays a crucial role during batch preparation by ensuring that **data samples are correctly formatted and padded to the same length**. This standardization allows efficient processing by the model.\n",
        "\n",
        "The data collator dynamically **pads both inputs and labels** **within a batch** to **match the length of the longest sequence in that batch**. This approach avoids issues caused by sequences of varying lengths.\n",
        "\n",
        "When padding, labels must be padded in the same way as inputs to maintain consistency and ensure they remain the same size. **To handle padded positions** in the labels, a special value, typically **-100, is used**. This ***value is ignored during the loss computation***, meaning it doesn’t affect the model’s learning process.\n",
        "\n",
        "\n",
        "**NOTE:** This data_collator will be used on the pytorch training aswell"
      ],
      "metadata": {
        "id": "kug4NXRZavNe"
      }
    },
    {
      "cell_type": "code",
      "source": [
        "from transformers import DataCollatorForTokenClassification\n",
        "\n",
        "data_collator = DataCollatorForTokenClassification(tokenizer=tokenizer)"
      ],
      "metadata": {
        "id": "hse9IqQrPXS8",
        "trusted": true,
        "execution": {
          "iopub.status.busy": "2025-01-03T20:52:16.439217Z",
          "iopub.execute_input": "2025-01-03T20:52:16.439559Z",
          "iopub.status.idle": "2025-01-03T20:52:23.900925Z",
          "shell.execute_reply.started": "2025-01-03T20:52:16.439529Z",
          "shell.execute_reply": "2025-01-03T20:52:23.899987Z"
        }
      },
      "outputs": [],
      "execution_count": null
    },
    {
      "cell_type": "code",
      "source": [
        "# EXAMPLE\n",
        "\n",
        "## To test this on a few samples, we can just call it on a list of 2 examples from our tokenized training set:\n",
        "\n",
        "## We can see that the second example of the tensor is padded with -100 to match the size of the first one.\n",
        "\n",
        "batch = data_collator([tokenized_datasets[\"train\"][i] for i in range(2)])\n",
        "batch[\"labels\"]"
      ],
      "metadata": {
        "colab": {
          "base_uri": "https://localhost:8080/"
        },
        "id": "-44PHWOdPXS8",
        "outputId": "04d3dedb-5262-4a03-e32c-0e5019f54fe5",
        "trusted": true,
        "execution": {
          "iopub.status.busy": "2025-01-03T20:52:28.972292Z",
          "iopub.execute_input": "2025-01-03T20:52:28.972936Z",
          "iopub.status.idle": "2025-01-03T20:52:29.015238Z",
          "shell.execute_reply.started": "2025-01-03T20:52:28.972906Z",
          "shell.execute_reply": "2025-01-03T20:52:29.014578Z"
        }
      },
      "outputs": [
        {
          "execution_count": 17,
          "output_type": "execute_result",
          "data": {
            "text/plain": "tensor([[-100,    3,    0,    7,    0,    0,    0,    7,    0,    0, -100],\n        [-100,    1,    2, -100, -100, -100, -100, -100, -100, -100, -100]])"
          },
          "metadata": {}
        }
      ],
      "execution_count": null
    },
    {
      "cell_type": "markdown",
      "source": [
        "#### B) Metrics\n",
        "\n",
        "To have the Trainer from the Transformers Library compute a metric every epoch, a **compute_metrics()** function that takes the arrays of predictions and labels must be defined, it returns a dictionary with the metric names and values.\n",
        "\n",
        "The traditional framework used to evaluate token classification prediction is **seqeval**."
      ],
      "metadata": {
        "id": "QV9RNS3rdNya"
      }
    },
    {
      "cell_type": "code",
      "source": [
        "!pip install seqeval"
      ],
      "metadata": {
        "colab": {
          "base_uri": "https://localhost:8080/"
        },
        "id": "-ME7gTTJPXS9",
        "outputId": "a19a7703-5559-400a-d474-66769ee8f80e"
      },
      "outputs": [
        {
          "name": "stdout",
          "output_type": "stream",
          "text": [
            "Requirement already satisfied: seqeval in /usr/local/lib/python3.10/dist-packages (1.2.2)\n",
            "Requirement already satisfied: numpy>=1.14.0 in /usr/local/lib/python3.10/dist-packages (from seqeval) (1.26.4)\n",
            "Requirement already satisfied: scikit-learn>=0.21.3 in /usr/local/lib/python3.10/dist-packages (from seqeval) (1.6.0)\n",
            "Requirement already satisfied: scipy>=1.6.0 in /usr/local/lib/python3.10/dist-packages (from scikit-learn>=0.21.3->seqeval) (1.13.1)\n",
            "Requirement already satisfied: joblib>=1.2.0 in /usr/local/lib/python3.10/dist-packages (from scikit-learn>=0.21.3->seqeval) (1.4.2)\n",
            "Requirement already satisfied: threadpoolctl>=3.1.0 in /usr/local/lib/python3.10/dist-packages (from scikit-learn>=0.21.3->seqeval) (3.5.0)\n"
          ]
        }
      ],
      "execution_count": null
    },
    {
      "cell_type": "code",
      "source": [
        "import evaluate\n",
        "\n",
        "metric = evaluate.load(\"seqeval\")"
      ],
      "metadata": {
        "colab": {
          "base_uri": "https://localhost:8080/",
          "height": 49,
          "referenced_widgets": [
            "2ba1d0e89e244ccabe85b2c8434dd450",
            "237006c256cd49538b84343a10e39f0d",
            "931ee3038dc341d1aba1f5dc94ccc9b4",
            "1cfa9636fadc40589b8d63b86acc21e4",
            "60c8ae6297bd4e7e8c3c1d8d6e3387b3",
            "63b43a7e70694432895f9246fd81b53e",
            "e8c68357d7a24f88b87d1045c529deb1",
            "8c1ff12a53eb4eddabd609cbc60ca4f5",
            "799df88c584d4234bfe4a48ae9834d4f",
            "3b8ceb113a3e436fa76f395dc9dbcc04",
            "ca77976cab0d4daebbb6b38cb6c9b3e5"
          ]
        },
        "id": "Zp6GAF3uPXS9",
        "outputId": "c8079a2b-cc29-4732-9a66-84355f3bdbf2"
      },
      "outputs": [
        {
          "data": {
            "application/vnd.jupyter.widget-view+json": {
              "model_id": "2ba1d0e89e244ccabe85b2c8434dd450",
              "version_major": 2,
              "version_minor": 0
            },
            "text/plain": [
              "Downloading builder script:   0%|          | 0.00/6.34k [00:00<?, ?B/s]"
            ]
          },
          "metadata": {},
          "output_type": "display_data"
        }
      ],
      "execution_count": null
    },
    {
      "cell_type": "markdown",
      "source": [
        "This **compute_metrics()** function first takes the **argmax of the logits** to **convert them to predictions**.\n",
        "\n",
        "Then it convert both labels and predictions from **integers to strings**.\n",
        "\n",
        "All the values where the label is -100 are removed, then pass the results to the **metric.compute()**."
      ],
      "metadata": {
        "id": "NQub_z0nejzW"
      }
    },
    {
      "cell_type": "code",
      "source": [
        "import numpy as np\n",
        "\n",
        "\n",
        "def compute_metrics_trainer(eval_preds):\n",
        "    logits, labels = eval_preds\n",
        "    predictions = np.argmax(logits, axis=-1)\n",
        "\n",
        "    # Remove ignored index (special tokens) and convert to labels\n",
        "    true_labels = [[label_names[l] for l in label if l != -100] for label in labels]\n",
        "    true_predictions = [\n",
        "        [label_names[p] for (p, l) in zip(prediction, label) if l != -100]\n",
        "        for prediction, label in zip(predictions, labels)\n",
        "    ]\n",
        "    all_metrics = metric.compute(predictions=true_predictions, references=true_labels)\n",
        "    return {\n",
        "        \"precision\": all_metrics[\"overall_precision\"],\n",
        "        \"recall\": all_metrics[\"overall_recall\"],\n",
        "        \"f1\": all_metrics[\"overall_f1\"],\n",
        "        \"accuracy\": all_metrics[\"overall_accuracy\"],\n",
        "    }"
      ],
      "metadata": {
        "id": "p77c8VulPXS9",
        "trusted": true,
        "execution": {
          "iopub.status.busy": "2025-01-03T21:00:38.907108Z",
          "iopub.execute_input": "2025-01-03T21:00:38.907523Z",
          "iopub.status.idle": "2025-01-03T21:00:38.913268Z",
          "shell.execute_reply.started": "2025-01-03T21:00:38.90749Z",
          "shell.execute_reply": "2025-01-03T21:00:38.912309Z"
        }
      },
      "outputs": [],
      "execution_count": null
    },
    {
      "cell_type": "markdown",
      "source": [
        "#### C) Model\n",
        "\n",
        "Since we are working on a **token classification problem**, we will use the **AutoModelForTokenClassification** class\n",
        "- It will automatically detect which model to use based on the checkpoint which is: **\"distilbert-base-uncased\"*+\n",
        "\n",
        "**id2label and label2id,** which contain the mappings from ID to label and vice versa. (So the model knows the amount of labels)"
      ],
      "metadata": {
        "id": "u14MZFbbfFD6"
      }
    },
    {
      "cell_type": "code",
      "source": [
        "id2label_trainer = {i: label for i, label in enumerate(label_names)}\n",
        "label2id_trainer = {v: k for k, v in id2label_trainer.items()}"
      ],
      "metadata": {
        "id": "ynTlG3hpPXS9",
        "trusted": true,
        "execution": {
          "iopub.status.busy": "2025-01-03T21:00:43.466654Z",
          "iopub.execute_input": "2025-01-03T21:00:43.466943Z",
          "iopub.status.idle": "2025-01-03T21:00:43.470871Z",
          "shell.execute_reply.started": "2025-01-03T21:00:43.466919Z",
          "shell.execute_reply": "2025-01-03T21:00:43.470105Z"
        }
      },
      "outputs": [],
      "execution_count": null
    },
    {
      "cell_type": "code",
      "source": [
        "from transformers import AutoModelForTokenClassification\n",
        "\n",
        "model_trainer = AutoModelForTokenClassification.from_pretrained(\n",
        "    model_checkpoint,\n",
        "    id2label=id2label_trainer,\n",
        "    label2id=label2id_trainer,\n",
        ")\n",
        "\n",
        "print(model_trainer.config.num_labels)"
      ],
      "metadata": {
        "colab": {
          "base_uri": "https://localhost:8080/",
          "height": 104,
          "referenced_widgets": [
            "146f0e7960f141f6a1cfc37f517b221b",
            "f6284398344646e6a0c4255275dc8388",
            "567316fa9dd94326bc324cf051e6f25e",
            "db7d44835fa94ce09a7da90beb32573c",
            "5bd5ad249cb2434cb7ad25f02ae991cf",
            "1fe8a9463c204e9aa828753685c02d15",
            "15ecfdb178e84b32a8a9a3c5b5b6ed0d",
            "c3627fc98bbb4754968728cab65d3798",
            "fb51f86b2ac149d0834dbf8cc4da6d19",
            "7fea6c65bd8f402490dd044f4648eeb7",
            "ade78582e2154dc1bb6cc78fdab812bd"
          ]
        },
        "id": "RFIvP9hMPXS-",
        "outputId": "26571102-d60c-46a8-b34c-4cb02b2b0143",
        "trusted": true,
        "execution": {
          "iopub.status.busy": "2025-01-03T21:00:46.470713Z",
          "iopub.execute_input": "2025-01-03T21:00:46.471005Z",
          "iopub.status.idle": "2025-01-03T21:00:46.674923Z",
          "shell.execute_reply.started": "2025-01-03T21:00:46.470981Z",
          "shell.execute_reply": "2025-01-03T21:00:46.674235Z"
        }
      },
      "outputs": [
        {
          "name": "stderr",
          "text": "Some weights of DistilBertForTokenClassification were not initialized from the model checkpoint at distilbert-base-uncased and are newly initialized: ['classifier.bias', 'classifier.weight']\nYou should probably TRAIN this model on a down-stream task to be able to use it for predictions and inference.\n",
          "output_type": "stream"
        },
        {
          "name": "stdout",
          "text": "9\n",
          "output_type": "stream"
        }
      ],
      "execution_count": null
    },
    {
      "cell_type": "markdown",
      "source": [
        "Some hyperparameters:\n",
        "- Learning rate\n",
        "- The number of epochs to train for\n",
        "- Weight decay\n"
      ],
      "metadata": {
        "id": "b1W6VZithZuI"
      }
    },
    {
      "cell_type": "code",
      "source": [
        "## Login due to pushing this model to my HG account\n",
        "from huggingface_hub import notebook_login\n",
        "\n",
        "notebook_login()"
      ],
      "metadata": {
        "colab": {
          "base_uri": "https://localhost:8080/",
          "height": 17,
          "referenced_widgets": [
            "e89c38f501114ed7bb12aac1d2eb9054",
            "d76e58fc87834d1d9b305cc94cc109b5",
            "6e94e4b70caa46c9bb8c7b7db9765be0"
          ]
        },
        "id": "vTPkWlEIilAF",
        "outputId": "3f84dea9-9a40-42d9-fea7-7b583163212b",
        "trusted": true,
        "execution": {
          "iopub.status.busy": "2025-01-04T18:15:34.712639Z",
          "iopub.execute_input": "2025-01-04T18:15:34.712967Z",
          "iopub.status.idle": "2025-01-04T18:15:35.053659Z",
          "shell.execute_reply.started": "2025-01-04T18:15:34.712941Z",
          "shell.execute_reply": "2025-01-04T18:15:35.052797Z"
        }
      },
      "outputs": [
        {
          "output_type": "display_data",
          "data": {
            "text/plain": "VBox(children=(HTML(value='<center> <img\\nsrc=https://huggingface.co/front/assets/huggingface_logo-noborder.sv…",
            "application/vnd.jupyter.widget-view+json": {
              "version_major": 2,
              "version_minor": 0,
              "model_id": "6e94e4b70caa46c9bb8c7b7db9765be0"
            }
          },
          "metadata": {}
        }
      ],
      "execution_count": null
    },
    {
      "cell_type": "code",
      "source": [
        "from transformers import TrainingArguments\n",
        "\n",
        "args = TrainingArguments(\n",
        "    \"distilledbert-finetuned-ner\", ### Where it will be saved\n",
        "    report_to=\"none\",\n",
        "    evaluation_strategy=\"epoch\",\n",
        "    save_strategy=\"epoch\",\n",
        "    learning_rate=2e-5,\n",
        "    num_train_epochs=3,\n",
        "    weight_decay=0.01,\n",
        "    push_to_hub=True, #To save it on the hub of HG\n",
        ")"
      ],
      "metadata": {
        "colab": {
          "base_uri": "https://localhost:8080/"
        },
        "id": "f6H3p9ZPPXS-",
        "outputId": "19650343-7f22-4aaa-9c05-c56cb4e4a9b5",
        "trusted": true,
        "execution": {
          "iopub.status.busy": "2025-01-03T21:01:43.405819Z",
          "iopub.execute_input": "2025-01-03T21:01:43.406125Z",
          "iopub.status.idle": "2025-01-03T21:01:43.436348Z",
          "shell.execute_reply.started": "2025-01-03T21:01:43.406102Z",
          "shell.execute_reply": "2025-01-03T21:01:43.435443Z"
        }
      },
      "outputs": [
        {
          "name": "stderr",
          "text": "/usr/local/lib/python3.10/dist-packages/transformers/training_args.py:1525: FutureWarning: `evaluation_strategy` is deprecated and will be removed in version 4.46 of 🤗 Transformers. Use `eval_strategy` instead\n  warnings.warn(\n",
          "output_type": "stream"
        }
      ],
      "execution_count": null
    },
    {
      "cell_type": "markdown",
      "source": [
        "**Instantiation of the Trainer.**\n",
        "\n",
        "We pass the\n",
        "- model\n",
        "- the arguments\n",
        "- the training and evaluation dataset\n",
        "- Data Collator\n",
        "- Metrics\n",
        "- Tokenizer."
      ],
      "metadata": {
        "id": "kZFF5CVziCwG"
      }
    },
    {
      "cell_type": "code",
      "source": [
        "from transformers import Trainer\n",
        "\n",
        "trainer = Trainer(\n",
        "    model=model_trainer,\n",
        "    args=args,\n",
        "    train_dataset=tokenized_datasets[\"train\"],\n",
        "    eval_dataset=tokenized_datasets[\"validation\"],\n",
        "    data_collator=data_collator,\n",
        "    compute_metrics=compute_metrics_trainer,\n",
        "    tokenizer=tokenizer,\n",
        ")\n",
        "trainer.train()"
      ],
      "metadata": {
        "colab": {
          "base_uri": "https://localhost:8080/",
          "height": 225
        },
        "id": "xjnkEbvulnak",
        "outputId": "5ffaf986-ac9e-4862-c614-f187a56cdb16",
        "trusted": true,
        "execution": {
          "iopub.status.busy": "2025-01-03T21:02:12.326929Z",
          "iopub.execute_input": "2025-01-03T21:02:12.327379Z",
          "iopub.status.idle": "2025-01-03T21:05:33.910833Z",
          "shell.execute_reply.started": "2025-01-03T21:02:12.327341Z",
          "shell.execute_reply": "2025-01-03T21:05:33.90984Z"
        }
      },
      "outputs": [
        {
          "output_type": "display_data",
          "data": {
            "text/plain": "<IPython.core.display.HTML object>",
            "text/html": "\n    <div>\n      \n      <progress value='5268' max='5268' style='width:300px; height:20px; vertical-align: middle;'></progress>\n      [5268/5268 03:20, Epoch 3/3]\n    </div>\n    <table border=\"1\" class=\"dataframe\">\n  <thead>\n <tr style=\"text-align: left;\">\n      <th>Epoch</th>\n      <th>Training Loss</th>\n      <th>Validation Loss</th>\n      <th>Precision</th>\n      <th>Recall</th>\n      <th>F1</th>\n      <th>Accuracy</th>\n    </tr>\n  </thead>\n  <tbody>\n    <tr>\n      <td>1</td>\n      <td>0.076900</td>\n      <td>0.062221</td>\n      <td>0.907273</td>\n      <td>0.923763</td>\n      <td>0.915444</td>\n      <td>0.982350</td>\n    </tr>\n    <tr>\n      <td>2</td>\n      <td>0.035900</td>\n      <td>0.059273</td>\n      <td>0.920528</td>\n      <td>0.939583</td>\n      <td>0.929958</td>\n      <td>0.984908</td>\n    </tr>\n    <tr>\n      <td>3</td>\n      <td>0.023000</td>\n      <td>0.061334</td>\n      <td>0.927076</td>\n      <td>0.939246</td>\n      <td>0.933122</td>\n      <td>0.985114</td>\n    </tr>\n  </tbody>\n</table><p>"
          },
          "metadata": {}
        },
        {
          "execution_count": 31,
          "output_type": "execute_result",
          "data": {
            "text/plain": "TrainOutput(global_step=5268, training_loss=0.06606481395712746, metrics={'train_runtime': 200.3955, 'train_samples_per_second': 210.199, 'train_steps_per_second': 26.288, 'total_flos': 445994355589020.0, 'train_loss': 0.06606481395712746, 'epoch': 3.0})"
          },
          "metadata": {}
        }
      ],
      "execution_count": null
    },
    {
      "cell_type": "code",
      "source": [
        "trainer.push_to_hub(commit_message=\"Training complete\")"
      ],
      "metadata": {
        "colab": {
          "base_uri": "https://localhost:8080/",
          "height": 54
        },
        "id": "TCzyqTpePXS-",
        "outputId": "f5d73bfc-5d44-430a-d11b-c76ddff7e643"
      },
      "outputs": [
        {
          "data": {
            "application/vnd.google.colaboratory.intrinsic+json": {
              "type": "string"
            },
            "text/plain": [
              "CommitInfo(commit_url='https://huggingface.co/Wencho/distilledbert-finetuned-ner/commit/8c0ef74985e8658adc4ebb213d7179675add180e', commit_message='Training complete', commit_description='', oid='8c0ef74985e8658adc4ebb213d7179675add180e', pr_url=None, repo_url=RepoUrl('https://huggingface.co/Wencho/distilledbert-finetuned-ner', endpoint='https://huggingface.co', repo_type='model', repo_id='Wencho/distilledbert-finetuned-ner'), pr_revision=None, pr_num=None)"
            ]
          },
          "execution_count": 27,
          "metadata": {},
          "output_type": "execute_result"
        }
      ],
      "execution_count": null
    },
    {
      "cell_type": "markdown",
      "source": [
        "#### D) Evaluation"
      ],
      "metadata": {
        "id": "x4LISUzWycCo"
      }
    },
    {
      "cell_type": "code",
      "source": [
        "trainer.evaluate()"
      ],
      "metadata": {
        "colab": {
          "base_uri": "https://localhost:8080/",
          "height": 203
        },
        "id": "VPc2q_gFyGv2",
        "outputId": "85160ed8-1348-4f45-ed83-72f2e0f9bcde",
        "trusted": true,
        "execution": {
          "iopub.status.busy": "2025-01-03T21:05:38.296933Z",
          "iopub.execute_input": "2025-01-03T21:05:38.297233Z",
          "iopub.status.idle": "2025-01-03T21:05:43.205507Z",
          "shell.execute_reply.started": "2025-01-03T21:05:38.297209Z",
          "shell.execute_reply": "2025-01-03T21:05:43.204737Z"
        }
      },
      "outputs": [
        {
          "output_type": "display_data",
          "data": {
            "text/plain": "<IPython.core.display.HTML object>",
            "text/html": "\n    <div>\n      \n      <progress value='407' max='407' style='width:300px; height:20px; vertical-align: middle;'></progress>\n      [407/407 00:03]\n    </div>\n    "
          },
          "metadata": {}
        },
        {
          "execution_count": 32,
          "output_type": "execute_result",
          "data": {
            "text/plain": "{'eval_loss': 0.061334069818258286,\n 'eval_precision': 0.9270764119601329,\n 'eval_recall': 0.9392460451026591,\n 'eval_f1': 0.9331215515800034,\n 'eval_accuracy': 0.9851144613722655,\n 'eval_runtime': 4.9002,\n 'eval_samples_per_second': 663.239,\n 'eval_steps_per_second': 83.058,\n 'epoch': 3.0}"
          },
          "metadata": {}
        }
      ],
      "execution_count": null
    },
    {
      "cell_type": "markdown",
      "source": [
        "### 4) Fine-tune the model using a custom PyTorch implementation"
      ],
      "metadata": {
        "id": "8XJNba57ls41"
      }
    },
    {
      "cell_type": "code",
      "source": [
        "from transformers import DataCollatorForTokenClassification\n",
        "\n",
        "data_collator = DataCollatorForTokenClassification(tokenizer=tokenizer)"
      ],
      "metadata": {
        "id": "wTS1FP-ZDKcQ",
        "trusted": true,
        "execution": {
          "iopub.status.busy": "2025-01-03T20:52:43.504533Z",
          "iopub.execute_input": "2025-01-03T20:52:43.504862Z",
          "iopub.status.idle": "2025-01-03T20:52:43.508664Z",
          "shell.execute_reply.started": "2025-01-03T20:52:43.504836Z",
          "shell.execute_reply": "2025-01-03T20:52:43.507631Z"
        }
      },
      "outputs": [],
      "execution_count": null
    },
    {
      "cell_type": "markdown",
      "source": [
        "We define two **DataLoader** objects: one for the training data and one for the evaluation data. The DataLoader is used to efficiently load data in batches during training and evaluation.\n",
        "\n",
        "**train_dataloader:** This is used to load the training data. We set the *shuffle=True* parameter to randomly shuffle the data for each epoch, which helps prevent the model from memorizing the order of the data. The collate_fn=data_collator ensures that the input data is appropriately padded and batched before being passed to the model.\n",
        "We also define the batch size as 8.\n",
        "\n",
        "**eval_dataloader:** This is used for the evaluation dataset. It uses the same collate_fn=data_collator for padding, but without shuffling, since we want to evaluate the model on the same validation set.\n",
        "\n"
      ],
      "metadata": {
        "id": "uS9GCuxWEn4X"
      }
    },
    {
      "cell_type": "code",
      "source": [
        "from torch.utils.data import DataLoader\n",
        "\n",
        "train_dataloader = DataLoader(\n",
        "    tokenized_datasets[\"train\"],\n",
        "    shuffle=True,\n",
        "    collate_fn=data_collator,\n",
        "    batch_size=8,\n",
        ")\n",
        "eval_dataloader = DataLoader(\n",
        "    tokenized_datasets[\"validation\"], collate_fn=data_collator, batch_size=8\n",
        ")"
      ],
      "metadata": {
        "id": "VTIOOW86PXS-",
        "trusted": true,
        "execution": {
          "iopub.status.busy": "2025-01-03T20:52:47.304761Z",
          "iopub.execute_input": "2025-01-03T20:52:47.305065Z",
          "iopub.status.idle": "2025-01-03T20:52:47.310193Z",
          "shell.execute_reply.started": "2025-01-03T20:52:47.305041Z",
          "shell.execute_reply": "2025-01-03T20:52:47.309214Z"
        }
      },
      "outputs": [],
      "execution_count": null
    },
    {
      "cell_type": "code",
      "source": [
        "from transformers import AutoModelForTokenClassification\n",
        "\n",
        "id2label = {i: label for i, label in enumerate(label_names)}\n",
        "label2id = {v: k for k, v in id2label.items()}\n",
        "\n",
        "model = AutoModelForTokenClassification.from_pretrained(\n",
        "    model_checkpoint,\n",
        "    id2label=id2label,\n",
        "    label2id=label2id,\n",
        ")"
      ],
      "metadata": {
        "colab": {
          "base_uri": "https://localhost:8080/",
          "referenced_widgets": [
            "fac60e37ca9e42e5b800b4749d0af2ce"
          ]
        },
        "id": "Qh7dI7m3PXS-",
        "outputId": "fa6e3f35-6291-414d-935a-b7147f93597a",
        "trusted": true,
        "execution": {
          "iopub.status.busy": "2025-01-03T20:52:49.900254Z",
          "iopub.execute_input": "2025-01-03T20:52:49.900605Z",
          "iopub.status.idle": "2025-01-03T20:52:52.18156Z",
          "shell.execute_reply.started": "2025-01-03T20:52:49.900577Z",
          "shell.execute_reply": "2025-01-03T20:52:52.180736Z"
        }
      },
      "outputs": [
        {
          "output_type": "display_data",
          "data": {
            "text/plain": "model.safetensors:   0%|          | 0.00/268M [00:00<?, ?B/s]",
            "application/vnd.jupyter.widget-view+json": {
              "version_major": 2,
              "version_minor": 0,
              "model_id": "fac60e37ca9e42e5b800b4749d0af2ce"
            }
          },
          "metadata": {}
        },
        {
          "name": "stderr",
          "text": "Some weights of DistilBertForTokenClassification were not initialized from the model checkpoint at distilbert-base-uncased and are newly initialized: ['classifier.bias', 'classifier.weight']\nYou should probably TRAIN this model on a down-stream task to be able to use it for predictions and inference.\n",
          "output_type": "stream"
        }
      ],
      "execution_count": null
    },
    {
      "cell_type": "markdown",
      "source": [
        "Here, we define the optimizer used for training: the **AdamW** optimizer from **PyTorch**. The AdamW optimizer is commonly used in NLP tasks and provides adaptive learning rates for each parameter."
      ],
      "metadata": {
        "id": "1_T1OVsAE5ch"
      }
    },
    {
      "cell_type": "code",
      "source": [
        "from torch.optim import AdamW\n",
        "\n",
        "optimizer = AdamW(model.parameters(), lr=2e-5)"
      ],
      "metadata": {
        "id": "wvDtMeYQPXTC",
        "trusted": true,
        "execution": {
          "iopub.status.busy": "2025-01-03T20:52:55.816701Z",
          "iopub.execute_input": "2025-01-03T20:52:55.817275Z",
          "iopub.status.idle": "2025-01-03T20:52:56.475992Z",
          "shell.execute_reply.started": "2025-01-03T20:52:55.817247Z",
          "shell.execute_reply": "2025-01-03T20:52:56.475319Z"
        }
      },
      "outputs": [],
      "execution_count": null
    },
    {
      "cell_type": "markdown",
      "source": [
        "**Function Metrics to evualuate the mode** (Using seqeval)"
      ],
      "metadata": {
        "id": "3pKOSc8EmkEG"
      }
    },
    {
      "cell_type": "code",
      "source": [
        "!pip install seqeval\n",
        "\n",
        "import numpy as np\n",
        "import evaluate\n",
        "\n",
        "metric = evaluate.load(\"seqeval\")\n",
        "\n",
        "def compute_metrics(eval_preds):\n",
        "    logits, labels = eval_preds\n",
        "    predictions = np.argmax(logits, axis=-1)\n",
        "\n",
        "    # Remove ignored index (special tokens) and convert to labels\n",
        "    true_labels = [[label_names[l] for l in label if l != -100] for label in labels]\n",
        "    true_predictions = [\n",
        "        [label_names[p] for (p, l) in zip(prediction, label) if l != -100]\n",
        "        for prediction, label in zip(predictions, labels)\n",
        "    ]\n",
        "    all_metrics = metric.compute(predictions=true_predictions, references=true_labels)\n",
        "    return {\n",
        "        \"precision\": all_metrics[\"overall_precision\"],\n",
        "        \"recall\": all_metrics[\"overall_recall\"],\n",
        "        \"f1\": all_metrics[\"overall_f1\"],\n",
        "        \"accuracy\": all_metrics[\"overall_accuracy\"],\n",
        "    }"
      ],
      "metadata": {
        "id": "anyLAcFkTErt",
        "trusted": true,
        "execution": {
          "iopub.status.busy": "2025-01-03T20:52:59.469971Z",
          "iopub.execute_input": "2025-01-03T20:52:59.470388Z",
          "iopub.status.idle": "2025-01-03T20:53:06.586461Z",
          "shell.execute_reply.started": "2025-01-03T20:52:59.470353Z",
          "shell.execute_reply": "2025-01-03T20:53:06.585747Z"
        },
        "outputId": "8143e8d4-ec5e-4adb-f6b2-12129fa24963",
        "colab": {
          "referenced_widgets": [
            "179f8f1a79eb46efb4205bcaaec922df"
          ]
        }
      },
      "outputs": [
        {
          "name": "stderr",
          "text": "/usr/lib/python3.10/pty.py:89: RuntimeWarning: os.fork() was called. os.fork() is incompatible with multithreaded code, and JAX is multithreaded, so this will likely lead to a deadlock.\n  pid, fd = os.forkpty()\n",
          "output_type": "stream"
        },
        {
          "name": "stdout",
          "text": "Collecting seqeval\n  Downloading seqeval-1.2.2.tar.gz (43 kB)\n\u001b[2K     \u001b[90m━━━━━━━━━━━━━━━━━━━━━━━━━━━━━━━━━━━━━━━━\u001b[0m \u001b[32m43.6/43.6 kB\u001b[0m \u001b[31m2.2 MB/s\u001b[0m eta \u001b[36m0:00:00\u001b[0m\n\u001b[?25h  Preparing metadata (setup.py) ... \u001b[?25l\u001b[?25hdone\nRequirement already satisfied: numpy>=1.14.0 in /usr/local/lib/python3.10/dist-packages (from seqeval) (1.26.4)\nRequirement already satisfied: scikit-learn>=0.21.3 in /usr/local/lib/python3.10/dist-packages (from seqeval) (1.2.2)\nRequirement already satisfied: scipy>=1.3.2 in /usr/local/lib/python3.10/dist-packages (from scikit-learn>=0.21.3->seqeval) (1.13.1)\nRequirement already satisfied: joblib>=1.1.1 in /usr/local/lib/python3.10/dist-packages (from scikit-learn>=0.21.3->seqeval) (1.4.2)\nRequirement already satisfied: threadpoolctl>=2.0.0 in /usr/local/lib/python3.10/dist-packages (from scikit-learn>=0.21.3->seqeval) (3.5.0)\nBuilding wheels for collected packages: seqeval\n  Building wheel for seqeval (setup.py) ... \u001b[?25l\u001b[?25hdone\n  Created wheel for seqeval: filename=seqeval-1.2.2-py3-none-any.whl size=16161 sha256=c14e8167d6536623f82d3297f5041bb1f526ca11d521c6f69263f1d4806f863b\n  Stored in directory: /root/.cache/pip/wheels/1a/67/4a/ad4082dd7dfc30f2abfe4d80a2ed5926a506eb8a972b4767fa\nSuccessfully built seqeval\nInstalling collected packages: seqeval\nSuccessfully installed seqeval-1.2.2\n",
          "output_type": "stream"
        },
        {
          "output_type": "display_data",
          "data": {
            "text/plain": "Downloading builder script:   0%|          | 0.00/6.34k [00:00<?, ?B/s]",
            "application/vnd.jupyter.widget-view+json": {
              "version_major": 2,
              "version_minor": 0,
              "model_id": "179f8f1a79eb46efb4205bcaaec922df"
            }
          },
          "metadata": {}
        }
      ],
      "execution_count": null
    },
    {
      "cell_type": "markdown",
      "source": [
        "#### Explanation of the Training and Evaluation Loop\n",
        "\n",
        "In this cell, we **train** and **evaluate** the model over multiple epochs. The key steps are as follows:\n",
        "\n",
        "**1) Device Setup:** The model and data batches are moved to the appropriate device (cuda or cpu) for computation.\n",
        "\n",
        "**2) Training Loop:** For each epoch, the model is set to training mode, *processes the batches*, computes the *loss*, and *updates the weights* using backpropagation.\n",
        "\n",
        "**3) Evaluation Loop:** The model is set to evaluation mode, and *predictions are made on the validation* dataset *without updating the weights*. Special token predictions are removed to align with the true labels.\n",
        "\n",
        "**Progress Tracking:** A progress bar (tqdm) visually tracks the training progress across all steps.\n",
        "\n",
        "The **results from all epochs** are stored for the evaluation of the whole model (next cell)"
      ],
      "metadata": {
        "id": "56CZCBgMmkEH"
      }
    },
    {
      "cell_type": "code",
      "source": [
        "import torch\n",
        "from tqdm.auto import tqdm\n",
        "\n",
        "# Set up device\n",
        "device = torch.device(\"cuda\" if torch.cuda.is_available() else \"cpu\")\n",
        "model.to(device)\n",
        "\n",
        "# For tracking metrics\n",
        "all_predictions = []\n",
        "all_labels = []\n",
        "\n",
        "num_train_epochs = 3  # Define number of epochs\n",
        "num_training_steps = num_train_epochs * len(train_dataloader)\n",
        "progress_bar = tqdm(range(num_training_steps))\n",
        "\n",
        "# Training and evaluation loop\n",
        "for epoch in range(num_train_epochs):\n",
        "    print(f\"Epoch {epoch + 1}/{num_train_epochs}\")\n",
        "\n",
        "    # Training\n",
        "    model.train()\n",
        "    for batch in train_dataloader:\n",
        "        # Move batch to the appropriate device\n",
        "        batch = {k: v.to(device) for k, v in batch.items()}\n",
        "\n",
        "        # Forward pass\n",
        "        outputs = model(**batch)\n",
        "        loss = outputs.loss\n",
        "\n",
        "        # Backward pass and optimization\n",
        "        loss.backward()\n",
        "        optimizer.step()\n",
        "        optimizer.zero_grad()\n",
        "\n",
        "        progress_bar.update(1)\n",
        "\n",
        "    # Evaluation\n",
        "    model.eval()\n",
        "    for batch in eval_dataloader:\n",
        "        # Move batch to the appropriate device\n",
        "        batch = {k: v.to(device) for k, v in batch.items()}\n",
        "\n",
        "        with torch.no_grad():\n",
        "            outputs = model(**batch)\n",
        "\n",
        "        # Collect predictions and labels\n",
        "        predictions = outputs.logits.argmax(dim=-1).detach().cpu().numpy()\n",
        "        labels = batch[\"labels\"].detach().cpu().numpy()\n",
        "\n",
        "        # Remove special token predictions\n",
        "        true_predictions = [\n",
        "            [label_names[p] for (p, l) in zip(prediction, label) if l != -100]\n",
        "            for prediction, label in zip(predictions, labels)\n",
        "        ]\n",
        "        true_labels = [\n",
        "            [label_names[l] for l in label if l != -100] for label in labels\n",
        "        ]\n",
        "\n",
        "        all_predictions.extend(true_predictions)\n",
        "        all_labels.extend(true_labels)"
      ],
      "metadata": {
        "id": "4JzI1-tZucZz",
        "trusted": true,
        "execution": {
          "iopub.status.busy": "2025-01-03T20:53:17.127471Z",
          "iopub.execute_input": "2025-01-03T20:53:17.127802Z",
          "iopub.status.idle": "2025-01-03T20:56:05.278776Z",
          "shell.execute_reply.started": "2025-01-03T20:53:17.127778Z",
          "shell.execute_reply": "2025-01-03T20:56:05.277805Z"
        },
        "outputId": "1ac3f708-17cc-4ffa-95c9-21c1fabb9f67",
        "colab": {
          "referenced_widgets": [
            "0b46f2d11fcd454f8371a0e0387583e4"
          ]
        }
      },
      "outputs": [
        {
          "output_type": "display_data",
          "data": {
            "text/plain": "  0%|          | 0/5268 [00:00<?, ?it/s]",
            "application/vnd.jupyter.widget-view+json": {
              "version_major": 2,
              "version_minor": 0,
              "model_id": "0b46f2d11fcd454f8371a0e0387583e4"
            }
          },
          "metadata": {}
        },
        {
          "name": "stdout",
          "text": "Epoch 1/3\nEpoch 2/3\nEpoch 3/3\n",
          "output_type": "stream"
        }
      ],
      "execution_count": null
    },
    {
      "cell_type": "markdown",
      "source": [
        "#### Metrics of the Pytorch model"
      ],
      "metadata": {
        "id": "7PUV59DTmkEH"
      }
    },
    {
      "cell_type": "code",
      "source": [
        "# Compute metrics at the end of training\n",
        "final_metrics = metric.compute(predictions=all_predictions, references=all_labels)\n",
        "print(\"Final Evaluation Metrics:\")\n",
        "print({\n",
        "    \"precision\": final_metrics[\"overall_precision\"],\n",
        "    \"recall\": final_metrics[\"overall_recall\"],\n",
        "    \"f1\": final_metrics[\"overall_f1\"],\n",
        "    \"accuracy\": final_metrics[\"overall_accuracy\"],\n",
        "})"
      ],
      "metadata": {
        "id": "LqAzSis9uIrZ",
        "trusted": true,
        "execution": {
          "iopub.status.busy": "2025-01-03T20:56:08.530181Z",
          "iopub.execute_input": "2025-01-03T20:56:08.530551Z",
          "iopub.status.idle": "2025-01-03T20:56:12.255478Z",
          "shell.execute_reply.started": "2025-01-03T20:56:08.530519Z",
          "shell.execute_reply": "2025-01-03T20:56:12.254697Z"
        },
        "outputId": "602a1f10-ca48-4061-e18f-303bab9da7a9"
      },
      "outputs": [
        {
          "name": "stdout",
          "text": "Final Evaluation Metrics:\n{'precision': 0.9128012795764161, 'recall': 0.9284191630203075, 'f1': 0.9205439830909142, 'accuracy': 0.9831816183985469}\n",
          "output_type": "stream"
        }
      ],
      "execution_count": null
    },
    {
      "cell_type": "markdown",
      "source": [
        "### 5) Make predictions using the pipeline API on the Trainer API fine-tuned model\n",
        "\n",
        "Below we import the saved model \"distilledbert-finetuned-ner\" (the one trained with the Trainer API) in order to make predictions with it."
      ],
      "metadata": {
        "id": "XxmPtmUl9tpm"
      }
    },
    {
      "cell_type": "code",
      "source": [
        "# Use a pipeline as a high-level helper\n",
        "from transformers import pipeline\n",
        "\n",
        "pipe = pipeline(\"token-classification\", model=\"Wencho/distilledbert-finetuned-ner\")"
      ],
      "metadata": {
        "colab": {
          "base_uri": "https://localhost:8080/",
          "referenced_widgets": [
            "b43fa8bf8c1b4e54921a609564eb9628",
            "e18258f91e114b1fa3df281889ebfbbf",
            "1982a1ee9e9942e9a1aaf42d456e05dd",
            "dda116cad3184270a82f85caf7a6b9f5",
            "10dd32e8883548d6baf3ad9ef3308139",
            "ce8478c8013f4422823a66a1df2a96ae"
          ]
        },
        "id": "fFxfz-NO99Cy",
        "outputId": "77788516-ca2b-4e08-bcfb-4ad9c42d6201",
        "trusted": true,
        "execution": {
          "iopub.status.busy": "2025-01-03T21:05:57.017823Z",
          "iopub.execute_input": "2025-01-03T21:05:57.018128Z",
          "iopub.status.idle": "2025-01-03T21:06:04.937958Z",
          "shell.execute_reply.started": "2025-01-03T21:05:57.018105Z",
          "shell.execute_reply": "2025-01-03T21:06:04.937228Z"
        }
      },
      "outputs": [
        {
          "output_type": "display_data",
          "data": {
            "text/plain": "config.json:   0%|          | 0.00/905 [00:00<?, ?B/s]",
            "application/vnd.jupyter.widget-view+json": {
              "version_major": 2,
              "version_minor": 0,
              "model_id": "b43fa8bf8c1b4e54921a609564eb9628"
            }
          },
          "metadata": {}
        },
        {
          "output_type": "display_data",
          "data": {
            "text/plain": "model.safetensors:   0%|          | 0.00/265M [00:00<?, ?B/s]",
            "application/vnd.jupyter.widget-view+json": {
              "version_major": 2,
              "version_minor": 0,
              "model_id": "e18258f91e114b1fa3df281889ebfbbf"
            }
          },
          "metadata": {}
        },
        {
          "output_type": "display_data",
          "data": {
            "text/plain": "tokenizer_config.json:   0%|          | 0.00/1.23k [00:00<?, ?B/s]",
            "application/vnd.jupyter.widget-view+json": {
              "version_major": 2,
              "version_minor": 0,
              "model_id": "1982a1ee9e9942e9a1aaf42d456e05dd"
            }
          },
          "metadata": {}
        },
        {
          "output_type": "display_data",
          "data": {
            "text/plain": "vocab.txt:   0%|          | 0.00/232k [00:00<?, ?B/s]",
            "application/vnd.jupyter.widget-view+json": {
              "version_major": 2,
              "version_minor": 0,
              "model_id": "dda116cad3184270a82f85caf7a6b9f5"
            }
          },
          "metadata": {}
        },
        {
          "output_type": "display_data",
          "data": {
            "text/plain": "tokenizer.json:   0%|          | 0.00/711k [00:00<?, ?B/s]",
            "application/vnd.jupyter.widget-view+json": {
              "version_major": 2,
              "version_minor": 0,
              "model_id": "10dd32e8883548d6baf3ad9ef3308139"
            }
          },
          "metadata": {}
        },
        {
          "output_type": "display_data",
          "data": {
            "text/plain": "special_tokens_map.json:   0%|          | 0.00/125 [00:00<?, ?B/s]",
            "application/vnd.jupyter.widget-view+json": {
              "version_major": 2,
              "version_minor": 0,
              "model_id": "ce8478c8013f4422823a66a1df2a96ae"
            }
          },
          "metadata": {}
        },
        {
          "name": "stderr",
          "text": "Hardware accelerator e.g. GPU is available in the environment, but no `device` argument is passed to the `Pipeline` object. Model will be on CPU.\n",
          "output_type": "stream"
        }
      ],
      "execution_count": null
    },
    {
      "cell_type": "markdown",
      "source": [
        "**Let's make the first prediction**, we will send the text \"Messi plays footbal for Argentina\". The representation of the result is not the best so below there is a function so see it in a cleaner way"
      ],
      "metadata": {
        "id": "SQUi1ICEmkEI"
      }
    },
    {
      "cell_type": "code",
      "source": [
        "result = pipe(\"Messi plays footbal for Argentina\")\n",
        "print(result)"
      ],
      "metadata": {
        "colab": {
          "base_uri": "https://localhost:8080/"
        },
        "id": "qR-dzQwa-ChY",
        "outputId": "655b8f95-6cca-4582-a22b-5c73cb5622ff",
        "trusted": true,
        "execution": {
          "iopub.status.busy": "2025-01-03T21:06:10.300056Z",
          "iopub.execute_input": "2025-01-03T21:06:10.300454Z",
          "iopub.status.idle": "2025-01-03T21:06:10.386327Z",
          "shell.execute_reply.started": "2025-01-03T21:06:10.300406Z",
          "shell.execute_reply": "2025-01-03T21:06:10.385415Z"
        }
      },
      "outputs": [
        {
          "name": "stdout",
          "text": "[{'entity': 'B-PER', 'score': 0.998197, 'index': 1, 'word': 'mess', 'start': 0, 'end': 4}, {'entity': 'I-PER', 'score': 0.9980804, 'index': 2, 'word': '##i', 'start': 4, 'end': 5}, {'entity': 'B-LOC', 'score': 0.99566746, 'index': 7, 'word': 'argentina', 'start': 24, 'end': 33}]\n",
          "output_type": "stream"
        }
      ],
      "execution_count": null
    },
    {
      "cell_type": "code",
      "source": [
        "## Better representation of the results\n",
        "\n",
        "def process_ner_result(result):\n",
        "    \"\"\"\n",
        "    Process the result from a token classification pipeline and group entities by type.\n",
        "\n",
        "    Args:\n",
        "        result (list): List of token-level predictions from a NER pipeline.\n",
        "\n",
        "    Returns:\n",
        "        list: List of grouped entities with their labels and confidence scores.\n",
        "    \"\"\"\n",
        "    entities = []\n",
        "    current_entity = None\n",
        "\n",
        "    for token in result:\n",
        "        entity_type = token[\"entity\"]\n",
        "        word = token[\"word\"]\n",
        "        score = token[\"score\"]\n",
        "\n",
        "        if entity_type.startswith(\"B-\") or current_entity is None:\n",
        "            # Start a new entity\n",
        "            if current_entity:\n",
        "                entities.append(current_entity)\n",
        "            current_entity = {\n",
        "                \"entity\": entity_type[2:],  # Remove \"B-\" or \"I-\"\n",
        "                \"word\": word,\n",
        "                \"score\": score\n",
        "            }\n",
        "        else:\n",
        "            # Continue the current entity\n",
        "            current_entity[\"word\"] += word.replace(\"##\", \"\")\n",
        "            current_entity[\"score\"] = min(current_entity[\"score\"], score)\n",
        "\n",
        "    # Append the last entity\n",
        "    if current_entity:\n",
        "        entities.append(current_entity)\n",
        "\n",
        "    return entities\n",
        "\n",
        "\n",
        "def print_ner_entities(entities):\n",
        "    \"\"\"\n",
        "    Print the detected entities in a human-readable format.\n",
        "\n",
        "    Args:\n",
        "        entities (list): List of grouped entities with their labels and confidence scores.\n",
        "    \"\"\"\n",
        "    print(\"Detected Entities:\")\n",
        "    for entity in entities:\n",
        "        print(f\"  - {entity['word']} ({entity['entity']}, confidence: {entity['score']:.2f})\")"
      ],
      "metadata": {
        "id": "m_Zv6XRy-US6",
        "trusted": true,
        "execution": {
          "iopub.status.busy": "2025-01-03T21:06:12.973065Z",
          "iopub.execute_input": "2025-01-03T21:06:12.973355Z",
          "iopub.status.idle": "2025-01-03T21:06:12.979221Z",
          "shell.execute_reply.started": "2025-01-03T21:06:12.973331Z",
          "shell.execute_reply": "2025-01-03T21:06:12.978475Z"
        }
      },
      "outputs": [],
      "execution_count": null
    },
    {
      "cell_type": "markdown",
      "source": [
        "Now that we created a function to have a better visualization of the output of the model, **let's test it with another example**"
      ],
      "metadata": {
        "id": "yPUc8XHbmkEI"
      }
    },
    {
      "cell_type": "code",
      "source": [
        "result = pipe(\"Ronaldo plays football for Portugal, Messi for Argentina, and Mbappe for Real Madrid\")  # Example input from pipeline\n",
        "\n",
        "# Process the NER result\n",
        "entities = process_ner_result(result)\n",
        "\n",
        "# Print the detected entities\n",
        "print_ner_entities(entities)"
      ],
      "metadata": {
        "colab": {
          "base_uri": "https://localhost:8080/"
        },
        "id": "jb_cCda_-W80",
        "outputId": "04584ca3-911a-4b36-9993-5e28896e2e45",
        "trusted": true,
        "execution": {
          "iopub.status.busy": "2025-01-03T21:06:15.911988Z",
          "iopub.execute_input": "2025-01-03T21:06:15.912307Z",
          "iopub.status.idle": "2025-01-03T21:06:15.954556Z",
          "shell.execute_reply.started": "2025-01-03T21:06:15.912278Z",
          "shell.execute_reply": "2025-01-03T21:06:15.953761Z"
        }
      },
      "outputs": [
        {
          "name": "stdout",
          "text": "Detected Entities:\n  - ronaldo (PER, confidence: 1.00)\n  - portugal (LOC, confidence: 0.99)\n  - messi (PER, confidence: 0.99)\n  - argentina (LOC, confidence: 0.99)\n  - mbappe (PER, confidence: 1.00)\n  - realmadrid (ORG, confidence: 1.00)\n",
          "output_type": "stream"
        }
      ],
      "execution_count": null
    },
    {
      "cell_type": "markdown",
      "source": [
        "### 6) Make predictions using the PyTorch fine-tuned model.\n",
        "\n",
        "In this cell, we use the fine-tuned DistilBERT model for Named Entity Recognition with Pytorch to make predictions on a given text. The steps to predict are different to the one trained with Trainer API since we didn't save this model and also because we don't use the abstractions of the Trainer API.\n",
        "\n",
        "**Input Tokenization:** The input text is tokenized using the tokenizer associated with the model. Padding and truncation are applied as needed.\n",
        "\n",
        "**Model Inference:** The tokenized input is passed through the fine-tuned NER model to obtain logits (raw predictions).\n",
        "\n",
        "**Prediction Decoding:** Logits are converted into class predictions by selecting the label with the highest score for each token.\n",
        "\n",
        "**Mapping Tokens to Labels:** The predicted labels are mapped to their corresponding tokens. Special tokens are excluded, and SentencePiece tokens are processed for readability.\n",
        "\n",
        "**Result Display:** The final token-label pairs are displayed, showing the entities identified in the input text."
      ],
      "metadata": {
        "id": "4MAf2VyomkEI"
      }
    },
    {
      "cell_type": "code",
      "source": [
        "# Example text\n",
        "text = \"Ronaldo plays football for Portugal, Messi for Argentina, and Mbappe for Real Madrid\"\n",
        "\n",
        "# Tokenize the input text\n",
        "encoding = tokenizer(text, return_tensors=\"pt\", truncation=True, padding=True, is_split_into_words=False)\n",
        "input_ids = encoding[\"input_ids\"].to(device)\n",
        "attention_mask = encoding[\"attention_mask\"].to(device)\n",
        "\n",
        "# Pass the tokenized input through the model\n",
        "model.eval()\n",
        "with torch.no_grad():\n",
        "    outputs = model(input_ids=input_ids, attention_mask=attention_mask)\n",
        "    logits = outputs.logits\n",
        "\n",
        "# Convert logits to predictions\n",
        "predictions = torch.argmax(logits, dim=-1).squeeze().tolist()\n",
        "\n",
        "# Decode predictions and map them to the original text\n",
        "tokens = tokenizer.convert_ids_to_tokens(input_ids.squeeze().tolist())\n",
        "labels = [id2label[pred] for pred in predictions]\n",
        "\n",
        "# Post-process to combine tokens and predictions\n",
        "result = []\n",
        "for token, label in zip(tokens, labels):\n",
        "    if token.startswith(\"▁\"):  # For SentencePiece-based tokenizers\n",
        "        token = token[1:]\n",
        "    if token not in tokenizer.all_special_tokens:  # Exclude special tokens ([CLS], [SEP], etc.)\n",
        "        result.append((token, label))\n",
        "\n",
        "# Display the NER results\n",
        "for token, label in result:\n",
        "    print(f\"{token}: {label}\")"
      ],
      "metadata": {
        "trusted": true,
        "execution": {
          "iopub.status.busy": "2025-01-03T21:10:43.546606Z",
          "iopub.execute_input": "2025-01-03T21:10:43.546905Z",
          "iopub.status.idle": "2025-01-03T21:10:43.563742Z",
          "shell.execute_reply.started": "2025-01-03T21:10:43.546883Z",
          "shell.execute_reply": "2025-01-03T21:10:43.56296Z"
        },
        "id": "LjhR_Y-0mkEI",
        "outputId": "bdf186f7-9411-4ff9-8cfd-0b1c43d79082"
      },
      "outputs": [
        {
          "name": "stdout",
          "text": "ronald: B-PER\n##o: I-PER\nplays: O\nfootball: O\nfor: O\nportugal: B-LOC\n,: O\nmess: B-PER\n##i: I-PER\nfor: O\nargentina: B-LOC\n,: O\nand: O\nmba: B-PER\n##ppe: I-PER\nfor: O\nreal: B-ORG\nmadrid: I-ORG\n",
          "output_type": "stream"
        }
      ],
      "execution_count": null
    },
    {
      "cell_type": "markdown",
      "source": [
        "As we did before for the other model, we create some functions to have a better representation of the results."
      ],
      "metadata": {
        "id": "YTPsyga-mkEI"
      }
    },
    {
      "cell_type": "code",
      "source": [
        "### Better representation\n",
        "\n",
        "def process_ner_result(tokens, labels, scores=None):\n",
        "    \"\"\"\n",
        "    Process tokens and labels into grouped entities by type.\n",
        "\n",
        "    Args:\n",
        "        tokens (list): List of tokens.\n",
        "        labels (list): List of predicted labels for each token.\n",
        "        scores (list, optional): List of confidence scores for each token (default: None).\n",
        "\n",
        "    Returns:\n",
        "        list: List of grouped entities with their labels and optional confidence scores.\n",
        "    \"\"\"\n",
        "    entities = []\n",
        "    current_entity = None\n",
        "\n",
        "    for idx, (token, label) in enumerate(zip(tokens, labels)):\n",
        "        if label.startswith(\"B-\"):\n",
        "            # Start a new entity\n",
        "            if current_entity:\n",
        "                entities.append(current_entity)\n",
        "            current_entity = {\n",
        "                \"entity\": label[2:],  # Remove \"B-\" prefix\n",
        "                \"word\": token.replace(\"##\", \"\"),  # Clean token\n",
        "                \"score\": scores[idx] if scores else None  # Initialize with score if provided\n",
        "            }\n",
        "        elif label.startswith(\"I-\") and current_entity and current_entity[\"entity\"] == label[2:]:\n",
        "            # Continue the current entity\n",
        "            current_entity[\"word\"] += token.replace(\"##\", \"\")\n",
        "            if scores:\n",
        "                current_entity[\"score\"] = min(current_entity[\"score\"], scores[idx])\n",
        "        else:\n",
        "            # Outside of any entity or a mismatch\n",
        "            if current_entity:\n",
        "                entities.append(current_entity)\n",
        "                current_entity = None\n",
        "\n",
        "    # Append the last entity\n",
        "    if current_entity:\n",
        "        entities.append(current_entity)\n",
        "\n",
        "    return entities\n",
        "\n",
        "def print_ner_entities(entities):\n",
        "    \"\"\"\n",
        "    Print the detected entities in a human-readable format.\n",
        "\n",
        "    Args:\n",
        "        entities (list): List of grouped entities with their labels and confidence scores.\n",
        "    \"\"\"\n",
        "    print(\"Detected Entities:\")\n",
        "    for entity in entities:\n",
        "        if entity[\"score\"] is not None:\n",
        "            print(f\"  - {entity['word']} ({entity['entity']}, confidence: {entity['score']:.2f})\")\n",
        "        else:\n",
        "            print(f\"  - {entity['word']} ({entity['entity']})\")\n",
        "\n",
        "\n",
        "entities = process_ner_result(tokens, labels)\n",
        "print_ner_entities(entities)"
      ],
      "metadata": {
        "trusted": true,
        "execution": {
          "iopub.status.busy": "2025-01-03T21:15:31.681116Z",
          "iopub.execute_input": "2025-01-03T21:15:31.681455Z",
          "iopub.status.idle": "2025-01-03T21:15:31.690625Z",
          "shell.execute_reply.started": "2025-01-03T21:15:31.681406Z",
          "shell.execute_reply": "2025-01-03T21:15:31.689666Z"
        },
        "id": "vL7TKjtpmkEJ",
        "outputId": "c35c6cca-bd47-49c0-c90c-b3c184fc418d"
      },
      "outputs": [
        {
          "name": "stdout",
          "text": "Detected Entities:\n  - ronaldo (PER)\n  - portugal (LOC)\n  - messi (PER)\n  - argentina (LOC)\n  - mbappe (PER)\n  - realmadrid (ORG)\n",
          "output_type": "stream"
        }
      ],
      "execution_count": null
    }
  ]
}